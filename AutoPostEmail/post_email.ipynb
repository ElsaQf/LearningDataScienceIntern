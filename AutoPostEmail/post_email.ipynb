{
 "cells": [
  {
   "cell_type": "code",
   "execution_count": 1,
   "metadata": {},
   "outputs": [
    {
     "data": {
      "application/javascript": [
       "IPython.notebook.set_autosave_interval(0)"
      ]
     },
     "metadata": {},
     "output_type": "display_data"
    },
    {
     "name": "stdout",
     "output_type": "stream",
     "text": [
      "Autosave disabled\n"
     ]
    }
   ],
   "source": [
    "%autosave 0"
   ]
  },
  {
   "cell_type": "code",
   "execution_count": 3,
   "metadata": {},
   "outputs": [],
   "source": [
    "import pymysql\n",
    "import numpy as np\n",
    "from pandas import DataFrame\n",
    "import pandas as pd\n",
    "import time\n",
    "import smtplib\n",
    "from email.mime.text import MIMEText\n",
    "from email.header import Header\n",
    "from email.mime.multipart import MIMEMultipart\n",
    "from email.mime.application import MIMEApplication"
   ]
  },
  {
   "cell_type": "code",
   "execution_count": 5,
   "metadata": {},
   "outputs": [],
   "source": [
    "# 连接数据库\n",
    "db = pymysql.connect(host='dev.rrx.mysql01.srv',\n",
    "                    db='jjd',\n",
    "                    user='dev',\n",
    "                    password='KRkFcVCbopZbS8R7',\n",
    "                    charset='utf8')\n",
    "\n",
    "# sql\n",
    "sql = '''select ubi.full_name '出借人姓名',\n",
    "ubi.telephone '出借人电话',\n",
    "l.amount/100 '借条金额',\n",
    "l.create_time '出借日期'\n",
    "from loan l, user_basic_info ubi\n",
    "where datediff(l.create_time, curdate()) = 0\n",
    "and l.lender_uid = ubi.uid'''\n",
    "cur = db.cursor()\n",
    "cur.execute(sql)\n",
    "data = cur.fetchall()\n",
    "data1 = np.array(data)\n",
    "if len(data1) == 0:\n",
    "    data1 = [[0,0,0,0]]\n",
    "else:\n",
    "    data1\n",
    "frame1 = DataFrame(data1,\n",
    "                  columns=['出借人姓名','出借人电话','借条金额','出借日期'])\n",
    "\n",
    "sql = '''select uid '用户ID',\n",
    "area_code '地区编码',\n",
    "login_cnt '登录次数'\n",
    "from user_statis_ip\n",
    "limit 20'''\n",
    "cur.execute(sql)\n",
    "data = cur.fetchall()\n",
    "data2 = np.array(data)\n",
    "if len(data2) == 0:\n",
    "    data2 = [[0,0,0]]\n",
    "else:\n",
    "    data2\n",
    "frame2 = DataFrame(data2,\n",
    "                   columns=['用户ID','地区编码','登录次数'])\n",
    "\n",
    "sql = '''select id '用户ID',\n",
    "lend_cnt '出借次数',\n",
    "lend_amount/100 '出借总额',\n",
    "overdue_lend_cnt '被逾期借条数',\n",
    "lend_30days_cnt '最后30天借条总数'\n",
    "from user_statis_lender\n",
    "limit 100'''\n",
    "cur.execute(sql)\n",
    "data = cur.fetchall()\n",
    "data3 = np.array(data)\n",
    "if len(data3) == 0:\n",
    "    data3 = [[0,0,0,0,0]]\n",
    "else:\n",
    "    data3\n",
    "frame3 = DataFrame(data3,\n",
    "                  columns=['用户ID','出借次数','出借总额','被逾期借条数','最后30天借条总数'])\n",
    "writer1 = pd.ExcelWriter('./jjd_loan_today.xlsx')\n",
    "writer2 = pd.ExcelWriter('./jjd_lender.xlsx')\n",
    "\n",
    "try:\n",
    "    frame1.to_excel(writer1,\n",
    "                   sheet_name='loan_today',\n",
    "                   index=0)\n",
    "    frame2.to_excel(writer2,\n",
    "                   sheet_name='ip',\n",
    "                   index=0)\n",
    "    frame3.to_excel(writer2,\n",
    "                   sheet_name='lender',\n",
    "                   index=0)\n",
    "    writer1.save()\n",
    "    writer2.save()\n",
    "    writer1.close()\n",
    "    writer2.close()\n",
    "except Exception as err:\n",
    "    fillte = '导出失败' + str(err)\n",
    "else:\n",
    "    succeful = '导出成功'"
   ]
  },
  {
   "cell_type": "code",
   "execution_count": 8,
   "metadata": {},
   "outputs": [],
   "source": [
    "sql = '''select date_format(create_time, '%Y-%m-%d') '日期',\n",
    "count(id) '借条数',\n",
    "count(distinct lender_uid) '出借人数',\n",
    "sum(amount/100) '总金额'\n",
    "from loan\n",
    "where date_format(create_time, '%Y-%m-%d') >= '2019-07-01'\n",
    "group by 1'''\n",
    "cur.execute(sql)\n",
    "data = cur.fetchall()\n",
    "loan_cnt = np.array(data)\n",
    "if len(loan_cnt) == 0:\n",
    "    loan_cnt = [[0,0,0,0]]\n",
    "else:\n",
    "    loan_cnt\n",
    "df_loan_cnt = DataFrame(loan_cnt,\n",
    "                       columns=['日期','借条数','出借人数','总金额'])"
   ]
  },
  {
   "cell_type": "code",
   "execution_count": 10,
   "metadata": {},
   "outputs": [],
   "source": [
    "writer3 = pd.ExcelWriter('./loan_cnt.xlsx')\n",
    "df_loan_cnt.to_excel(writer3,\n",
    "                    sheet_name='loan_cnt',\n",
    "                    index=0)"
   ]
  },
  {
   "cell_type": "code",
   "execution_count": 11,
   "metadata": {},
   "outputs": [],
   "source": [
    "writer3.save()\n",
    "writer3.close()"
   ]
  },
  {
   "cell_type": "code",
   "execution_count": 13,
   "metadata": {},
   "outputs": [
    {
     "data": {
      "text/html": [
       "<div>\n",
       "<style scoped>\n",
       "    .dataframe tbody tr th:only-of-type {\n",
       "        vertical-align: middle;\n",
       "    }\n",
       "\n",
       "    .dataframe tbody tr th {\n",
       "        vertical-align: top;\n",
       "    }\n",
       "\n",
       "    .dataframe thead th {\n",
       "        text-align: right;\n",
       "    }\n",
       "</style>\n",
       "<table border=\"1\" class=\"dataframe\">\n",
       "  <thead>\n",
       "    <tr style=\"text-align: right;\">\n",
       "      <th></th>\n",
       "      <th>日期</th>\n",
       "      <th>借条数</th>\n",
       "      <th>出借人数</th>\n",
       "      <th>总金额</th>\n",
       "    </tr>\n",
       "  </thead>\n",
       "  <tbody>\n",
       "    <tr>\n",
       "      <th>0</th>\n",
       "      <td>2019-07-01</td>\n",
       "      <td>9</td>\n",
       "      <td>3</td>\n",
       "      <td>2037.00</td>\n",
       "    </tr>\n",
       "    <tr>\n",
       "      <th>1</th>\n",
       "      <td>2019-07-02</td>\n",
       "      <td>9</td>\n",
       "      <td>3</td>\n",
       "      <td>9898.00</td>\n",
       "    </tr>\n",
       "    <tr>\n",
       "      <th>2</th>\n",
       "      <td>2019-07-03</td>\n",
       "      <td>4</td>\n",
       "      <td>2</td>\n",
       "      <td>6604.95</td>\n",
       "    </tr>\n",
       "    <tr>\n",
       "      <th>3</th>\n",
       "      <td>2019-07-05</td>\n",
       "      <td>6</td>\n",
       "      <td>2</td>\n",
       "      <td>9908.00</td>\n",
       "    </tr>\n",
       "    <tr>\n",
       "      <th>4</th>\n",
       "      <td>2019-07-08</td>\n",
       "      <td>3</td>\n",
       "      <td>1</td>\n",
       "      <td>7709.00</td>\n",
       "    </tr>\n",
       "    <tr>\n",
       "      <th>5</th>\n",
       "      <td>2019-07-09</td>\n",
       "      <td>8</td>\n",
       "      <td>1</td>\n",
       "      <td>5200.00</td>\n",
       "    </tr>\n",
       "    <tr>\n",
       "      <th>6</th>\n",
       "      <td>2019-07-10</td>\n",
       "      <td>3</td>\n",
       "      <td>1</td>\n",
       "      <td>2202.43</td>\n",
       "    </tr>\n",
       "    <tr>\n",
       "      <th>7</th>\n",
       "      <td>2019-07-15</td>\n",
       "      <td>3</td>\n",
       "      <td>1</td>\n",
       "      <td>1200.00</td>\n",
       "    </tr>\n",
       "    <tr>\n",
       "      <th>8</th>\n",
       "      <td>2019-07-17</td>\n",
       "      <td>4</td>\n",
       "      <td>3</td>\n",
       "      <td>900.00</td>\n",
       "    </tr>\n",
       "    <tr>\n",
       "      <th>9</th>\n",
       "      <td>2019-07-18</td>\n",
       "      <td>13</td>\n",
       "      <td>6</td>\n",
       "      <td>3995.00</td>\n",
       "    </tr>\n",
       "    <tr>\n",
       "      <th>10</th>\n",
       "      <td>2019-07-19</td>\n",
       "      <td>2</td>\n",
       "      <td>2</td>\n",
       "      <td>600.00</td>\n",
       "    </tr>\n",
       "    <tr>\n",
       "      <th>11</th>\n",
       "      <td>2019-07-22</td>\n",
       "      <td>3</td>\n",
       "      <td>2</td>\n",
       "      <td>1800.00</td>\n",
       "    </tr>\n",
       "  </tbody>\n",
       "</table>\n",
       "</div>"
      ],
      "text/plain": [
       "            日期  借条数  出借人数      总金额\n",
       "0   2019-07-01    9     3  2037.00\n",
       "1   2019-07-02    9     3  9898.00\n",
       "2   2019-07-03    4     2  6604.95\n",
       "3   2019-07-05    6     2  9908.00\n",
       "4   2019-07-08    3     1  7709.00\n",
       "5   2019-07-09    8     1  5200.00\n",
       "6   2019-07-10    3     1  2202.43\n",
       "7   2019-07-15    3     1  1200.00\n",
       "8   2019-07-17    4     3   900.00\n",
       "9   2019-07-18   13     6  3995.00\n",
       "10  2019-07-19    2     2   600.00\n",
       "11  2019-07-22    3     2  1800.00"
      ]
     },
     "execution_count": 13,
     "metadata": {},
     "output_type": "execute_result"
    }
   ],
   "source": [
    "df = pd.read_excel('./loan_cnt.xlsx')\n",
    "df"
   ]
  },
  {
   "cell_type": "code",
   "execution_count": 24,
   "metadata": {},
   "outputs": [],
   "source": [
    "df_to_html = df.to_html(index=False)"
   ]
  },
  {
   "cell_type": "code",
   "execution_count": 25,
   "metadata": {},
   "outputs": [
    {
     "data": {
      "text/plain": [
       "'<table border=\"1\" class=\"dataframe\">\\n  <thead>\\n    <tr style=\"text-align: right;\">\\n      <th>日期</th>\\n      <th>借条数</th>\\n      <th>出借人数</th>\\n      <th>总金额</th>\\n    </tr>\\n  </thead>\\n  <tbody>\\n    <tr>\\n      <td>2019-07-01</td>\\n      <td>9</td>\\n      <td>3</td>\\n      <td>2037.00</td>\\n    </tr>\\n    <tr>\\n      <td>2019-07-02</td>\\n      <td>9</td>\\n      <td>3</td>\\n      <td>9898.00</td>\\n    </tr>\\n    <tr>\\n      <td>2019-07-03</td>\\n      <td>4</td>\\n      <td>2</td>\\n      <td>6604.95</td>\\n    </tr>\\n    <tr>\\n      <td>2019-07-05</td>\\n      <td>6</td>\\n      <td>2</td>\\n      <td>9908.00</td>\\n    </tr>\\n    <tr>\\n      <td>2019-07-08</td>\\n      <td>3</td>\\n      <td>1</td>\\n      <td>7709.00</td>\\n    </tr>\\n    <tr>\\n      <td>2019-07-09</td>\\n      <td>8</td>\\n      <td>1</td>\\n      <td>5200.00</td>\\n    </tr>\\n    <tr>\\n      <td>2019-07-10</td>\\n      <td>3</td>\\n      <td>1</td>\\n      <td>2202.43</td>\\n    </tr>\\n    <tr>\\n      <td>2019-07-15</td>\\n      <td>3</td>\\n      <td>1</td>\\n      <td>1200.00</td>\\n    </tr>\\n    <tr>\\n      <td>2019-07-17</td>\\n      <td>4</td>\\n      <td>3</td>\\n      <td>900.00</td>\\n    </tr>\\n    <tr>\\n      <td>2019-07-18</td>\\n      <td>13</td>\\n      <td>6</td>\\n      <td>3995.00</td>\\n    </tr>\\n    <tr>\\n      <td>2019-07-19</td>\\n      <td>2</td>\\n      <td>2</td>\\n      <td>600.00</td>\\n    </tr>\\n    <tr>\\n      <td>2019-07-22</td>\\n      <td>3</td>\\n      <td>2</td>\\n      <td>1800.00</td>\\n    </tr>\\n  </tbody>\\n</table>'"
      ]
     },
     "execution_count": 25,
     "metadata": {},
     "output_type": "execute_result"
    }
   ],
   "source": [
    "df_to_html"
   ]
  },
  {
   "cell_type": "code",
   "execution_count": 18,
   "metadata": {
    "scrolled": true
   },
   "outputs": [
    {
     "data": {
      "text/plain": [
       "str"
      ]
     },
     "execution_count": 18,
     "metadata": {},
     "output_type": "execute_result"
    }
   ],
   "source": [
    "type(df_to_html)"
   ]
  },
  {
   "cell_type": "code",
   "execution_count": 26,
   "metadata": {},
   "outputs": [],
   "source": [
    "content = '''<!DOCTYPE html>\n",
    "<html lang=\"en\">\n",
    "<head>\n",
    "    <meta charset=\"UTF-8\">\n",
    "    <title>今借到借条统计</title>\n",
    "    <meta name=\"viewport\" content=\"width=device-width,initial-scale=1,maximum-scale=1,user-scalable=no\">\n",
    "    <style type=\"text/css\">\n",
    "        table {\n",
    "            border-collapse:collapse;\n",
    "        }\n",
    "        table, td, th {\n",
    "            border: 1px solid black;\n",
    "            text-align: center;\n",
    "        }\n",
    "    </style>\n",
    "</head>\n",
    "<body>\n",
    "<p>Hi, all</p>''' + df_to_html + '''\n",
    "</body>\n",
    "</html>'''\n",
    "\n"
   ]
  },
  {
   "cell_type": "code",
   "execution_count": 27,
   "metadata": {},
   "outputs": [
    {
     "name": "stdout",
     "output_type": "stream",
     "text": [
      "Send email start...\n",
      "email send end !\n"
     ]
    }
   ],
   "source": [
    "# 发送邮箱服务器\n",
    "smtpserver = 'smtp.exmail.qq.com'\n",
    "\n",
    "# 发送邮箱用户名和密码\n",
    "user = \"qufang@jinjiedao.cn\"\n",
    "password = \"Qf080501\"\n",
    "\n",
    "# 发送和接收邮箱\n",
    "sender = \"qufang@jinjiedao.cn\"\n",
    "receive = [\"qufang@jinjiedao.cn\"]\n",
    "\n",
    "ctime = time.strftime(\"%Y-%m-%d %H:%M:%S\", time.localtime())\n",
    "message = MIMEMultipart()\n",
    "message['From'] = Header(\"qufang\", 'utf-8')\n",
    "message['To'] = ','.join(receive)\n",
    "subject = \"今借到今日借条信息\" + ctime + \"\"\n",
    "message['Subject'] = Header(subject, 'utf-8')\n",
    "\n",
    "# 邮件正文内容\n",
    "# message.attach(MIMEText('Hi，附件为D1风控新增用户数据，请查收，工作愉快~',\n",
    "#                        'plain',\n",
    "#                        'utf-8'))\n",
    "message.attach(MIMEText(content, 'html', 'utf-8'))\n",
    "\n",
    "part1 = MIMEApplication(open('./jjd_loan_today.xlsx','rb').read())\n",
    "part1.add_header('Content-Disposition',\n",
    "                'attachment',\n",
    "                filename='jjd_loan_today.xlsx')\n",
    "message.attach(part1)\n",
    "\n",
    "part2 = MIMEApplication(open('./jjd_lender.xlsx','rb').read())\n",
    "part2.add_header('Content-Disposition',\n",
    "                'attachment',\n",
    "                filename='jjd_lender.xlsx')\n",
    "message.attach(part2)\n",
    "\n",
    "# SSL协议端口号要使用465\n",
    "smtp = smtplib.SMTP_SSL(smtpserver, 465)\n",
    "\n",
    "# HELO向服务器标志用户身份\n",
    "smtp.helo(smtpserver)\n",
    "\n",
    "# 服务器返回结果确认\n",
    "smtp.ehlo(smtpserver)\n",
    "\n",
    "# 登录邮箱服务器用户名密码\n",
    "smtp.login(user, password)\n",
    "\n",
    "print(\"Send email start...\")\n",
    "smtp.sendmail(sender,\n",
    "             receive,\n",
    "             message.as_string())\n",
    "smtp.quit()\n",
    "print(\"email send end !\")"
   ]
  },
  {
   "cell_type": "code",
   "execution_count": null,
   "metadata": {},
   "outputs": [],
   "source": [
    "# 封装成函数\n",
    "\n",
    "def getdata(sql):\n",
    "    conn = pymysql.connect(host='dev.rrx.mysql01.srv',\n",
    "                           db='jjd',\n",
    "                           user='dev',\n",
    "                           password='KRkFcVCbopZbS8R7',\n",
    "                           charset='utf8')\n",
    "    cur = conn.cursor()\n",
    "    try:\n",
    "        cur.execute(sql)\n",
    "        result = cur.fetchall()\n",
    "        return str(result)\n",
    "    except Exception as e:\n",
    "        print(e)\n",
    "    finally:\n",
    "        conn.commit()\n",
    "        cur.close()\n",
    "        conn.close()\n",
    "        \n",
    "sql = '''select ubi.full_name '出借人姓名',\n",
    "ubi.telephone '出借人电话',\n",
    "l.amount/100 '借条金额',\n",
    "l.create_time '出借日期'\n",
    "from loan l, user_basic_info ubi\n",
    "where datediff(l.create_time, curdate()) = 0\n",
    "and l.lender_uid = ubi.uid'''\n",
    "data1 = getdata(sql)"
   ]
  }
 ],
 "metadata": {
  "kernelspec": {
   "display_name": "Python 3",
   "language": "python",
   "name": "python3"
  },
  "language_info": {
   "codemirror_mode": {
    "name": "ipython",
    "version": 3
   },
   "file_extension": ".py",
   "mimetype": "text/x-python",
   "name": "python",
   "nbconvert_exporter": "python",
   "pygments_lexer": "ipython3",
   "version": "3.7.1"
  }
 },
 "nbformat": 4,
 "nbformat_minor": 2
}
