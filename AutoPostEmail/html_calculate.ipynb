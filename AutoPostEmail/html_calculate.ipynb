{
 "cells": [
  {
   "cell_type": "code",
   "execution_count": 1,
   "metadata": {},
   "outputs": [
    {
     "data": {
      "application/javascript": [
       "IPython.notebook.set_autosave_interval(0)"
      ]
     },
     "metadata": {},
     "output_type": "display_data"
    },
    {
     "name": "stdout",
     "output_type": "stream",
     "text": [
      "Autosave disabled\n"
     ]
    }
   ],
   "source": [
    "%autosave 0"
   ]
  },
  {
   "cell_type": "markdown",
   "metadata": {},
   "source": [
    "# html 显示结果的简单计算"
   ]
  },
  {
   "cell_type": "markdown",
   "metadata": {},
   "source": [
    "## html-td后拼接字符串，需要getdata()返回数值型结果Decimal/int\n",
    "- 若结果为None,返回0\n",
    "    + if result is None: return 0\n",
    "- getdata()返回数值，html拼接字符串，转成'''+str(result+result1)+'''计算后拼接"
   ]
  },
  {
   "cell_type": "code",
   "execution_count": 2,
   "metadata": {},
   "outputs": [],
   "source": [
    "import pymysql\n",
    "import time\n",
    "import smtplib\n",
    "from email.mime.text import MIMEText\n",
    "from email.header import Header"
   ]
  },
  {
   "cell_type": "code",
   "execution_count": 3,
   "metadata": {},
   "outputs": [],
   "source": [
    "def getdata(sql):\n",
    "    conn = pymysql.connect(host='dev.rrx.mysql01.srv',\n",
    "                          port=3306,\n",
    "                          db='xcc',\n",
    "                          user='dev',\n",
    "                          passwd='KRkFcVCbopZbS8R7',\n",
    "                          charset='utf8')\n",
    "    cur = conn.cursor()\n",
    "    try:\n",
    "        cur.execute(sql)\n",
    "        result = cur.fetchone()[0]\n",
    "        return str(result)\n",
    "    except Exception as e:\n",
    "        raise e\n",
    "    finally:\n",
    "        conn.commit()\n",
    "        cur.close()\n",
    "        conn.close()"
   ]
  },
  {
   "cell_type": "code",
   "execution_count": 30,
   "metadata": {},
   "outputs": [],
   "source": [
    "def getdata_01(sql):\n",
    "    conn = pymysql.connect(host='dev.rrx.mysql01.srv',\n",
    "                          port=3306,\n",
    "                          db='xcc',\n",
    "                          user='dev',\n",
    "                          passwd='KRkFcVCbopZbS8R7',\n",
    "                          charset='utf8')\n",
    "    cur = conn.cursor()\n",
    "    try:\n",
    "        cur.execute(sql)\n",
    "        result = cur.fetchone()[0]\n",
    "        if result is None:\n",
    "            return 0\n",
    "        return result\n",
    "    except Exception as e:\n",
    "        raise e\n",
    "    finally:\n",
    "        conn.commit()\n",
    "        cur.close()\n",
    "        conn.close()"
   ]
  },
  {
   "cell_type": "code",
   "execution_count": 31,
   "metadata": {},
   "outputs": [],
   "source": [
    "recharge_amount_sum = \"select sum(amount) as'充值金额'\\\n",
    "                       from trade \\\n",
    "                       where trade_type=0\\\n",
    "                       or trade_type=1\\\n",
    "                       or trade_type=2\\\n",
    "                       and trade_status=1\"\n",
    "recharge_amount_sum_rst = getdata(recharge_amount_sum)\n",
    "\n",
    "he_amount_sum = \"select sum(amount) as'他查进账'\\\n",
    "                 from trade \\\n",
    "                 where trade_type=20\\\n",
    "                 or trade_type=21\\\n",
    "                 and trade_status=1\"\n",
    "he_amount_sum_rst = getdata(he_amount_sum)\n",
    "\n",
    "withdraw_amount_sum = \"select sum(amount) as'提现金额'\\\n",
    "                       from trade \\\n",
    "                       where trade_type=10\\\n",
    "                       and trade_status=1\"\n",
    "withdraw_amount_sum_rst = getdata(withdraw_amount_sum)\n"
   ]
  },
  {
   "cell_type": "code",
   "execution_count": 32,
   "metadata": {},
   "outputs": [],
   "source": [
    "recharge_amount_sum = \"select sum(amount) as'充值金额'\\\n",
    "                       from trade \\\n",
    "                       where trade_type=0\\\n",
    "                       or trade_type=1\\\n",
    "                       or trade_type=2\\\n",
    "                       and trade_status=1\"\n",
    "recharge_amount_sum_rst = getdata_01(recharge_amount_sum)\n",
    "\n",
    "he_amount_sum = \"select sum(amount) as'他查进账'\\\n",
    "                 from trade \\\n",
    "                 where trade_type=20\\\n",
    "                 or trade_type=21\\\n",
    "                 and trade_status=1\"\n",
    "he_amount_sum_rst = getdata_01(he_amount_sum)\n",
    "\n",
    "withdraw_amount_sum = \"select sum(amount) as'提现金额'\\\n",
    "                       from trade \\\n",
    "                       where trade_type=10\\\n",
    "                       and trade_status=1\"\n",
    "withdraw_amount_sum_rst = getdata_01(withdraw_amount_sum)\n"
   ]
  },
  {
   "cell_type": "code",
   "execution_count": 33,
   "metadata": {},
   "outputs": [
    {
     "data": {
      "text/plain": [
       "Decimal('2130.53')"
      ]
     },
     "execution_count": 33,
     "metadata": {},
     "output_type": "execute_result"
    }
   ],
   "source": [
    "recharge_amount_sum_rst"
   ]
  },
  {
   "cell_type": "code",
   "execution_count": 34,
   "metadata": {},
   "outputs": [
    {
     "data": {
      "text/plain": [
       "Decimal('6.09')"
      ]
     },
     "execution_count": 34,
     "metadata": {},
     "output_type": "execute_result"
    }
   ],
   "source": [
    "he_amount_sum_rst"
   ]
  },
  {
   "cell_type": "code",
   "execution_count": 35,
   "metadata": {},
   "outputs": [
    {
     "data": {
      "text/plain": [
       "int"
      ]
     },
     "execution_count": 35,
     "metadata": {},
     "output_type": "execute_result"
    }
   ],
   "source": [
    "type(withdraw_amount_sum_rst)"
   ]
  },
  {
   "cell_type": "code",
   "execution_count": 36,
   "metadata": {},
   "outputs": [],
   "source": [
    "a = recharge_amount_sum_rst+he_amount_sum_rst+withdraw_amount_sum_rst"
   ]
  },
  {
   "cell_type": "code",
   "execution_count": 37,
   "metadata": {},
   "outputs": [
    {
     "data": {
      "text/plain": [
       "Decimal('2136.62')"
      ]
     },
     "execution_count": 37,
     "metadata": {},
     "output_type": "execute_result"
    }
   ],
   "source": [
    "a"
   ]
  },
  {
   "cell_type": "code",
   "execution_count": 19,
   "metadata": {},
   "outputs": [],
   "source": [
    "# 发送邮箱服务器\n",
    "smtpserver = \"smtp.exmail.qq.com\"\n",
    "\n",
    "# 发送邮箱用户名密码\n",
    "user = \"qufang@jinjiedao.cn\"\n",
    "password = \"Qf080501\"\n",
    "\n",
    "# 发送和接收邮箱\n",
    "sender = \"qufang@jinjiedao.cn\"\n",
    "receive = [\"qufang@jinjiedao.cn\"]\n",
    "\n",
    "ctime = time.strftime(\"%Y-%m-%d %H:%M:%S\", time.localtime())\n",
    "# 发送邮件主题和内容\n",
    "subject = \"险查查数据统计监测_数据部门_\"+ctime+\"\""
   ]
  },
  {
   "cell_type": "code",
   "execution_count": 38,
   "metadata": {},
   "outputs": [],
   "source": [
    "content = '''<!DOCTYPE html>\n",
    "<html lang='en'>\n",
    "<head>\n",
    "    <meta charset=\"UTF-8\">\n",
    "    <title>D1风控数据统计监测</title>\n",
    "    <meta name=\"viewport\" content=\"width=device-width,initial-scale=1,maximum-scale=1,user-scalable=no\">\n",
    "    <style type=\"text/css\">\n",
    "        table {\n",
    "            border-collapse:collapse;\n",
    "        }\n",
    "        table, td, th {\n",
    "            border: 1px solid black;\n",
    "            text-align: center;\n",
    "        }\n",
    "    </style>\n",
    "</head>\n",
    "<body>\n",
    "<table border=\"1\" cellspacing=\"0\" align=\"center\">\n",
    "    <tr>\n",
    "        <td>充值金额</td>\n",
    "        <td>'''+str(recharge_amount_sum_rst)+'''</td>\n",
    "    </tr>\n",
    "    <tr>\n",
    "        <td>他查进账</td>\n",
    "        <td>'''+str(he_amount_sum_rst)+'''</td>\n",
    "    </tr>\n",
    "    <tr>\n",
    "        <td>提现金额</td>\n",
    "        <td>'''+str(withdraw_amount_sum_rst)+'''</td>\n",
    "    </tr>\n",
    "    <tr>\n",
    "        <td>数据汇总</td>\n",
    "        <td>'''+str(recharge_amount_sum_rst+he_amount_sum_rst+withdraw_amount_sum_rst)+'''</td>\n",
    "    </tr>\n",
    "</table>\n",
    "</body>\n",
    "</html>'''"
   ]
  },
  {
   "cell_type": "code",
   "execution_count": 39,
   "metadata": {},
   "outputs": [
    {
     "name": "stdout",
     "output_type": "stream",
     "text": [
      "Send email start...\n",
      "email send end!\n"
     ]
    }
   ],
   "source": [
    "# HTML邮件正文\n",
    "msg = MIMEText(content, 'html', 'utf-8')\n",
    "msg['Subject'] = Header(subject, 'utf-8')\n",
    "msg['From'] = \"qufang@jinjiedao.cn\"\n",
    "msg['To'] = ','.join(receive)\n",
    "\n",
    "\n",
    "# SSL协议端口号要使用465\n",
    "smtp = smtplib.SMTP_SSL(smtpserver, 465)\n",
    "\n",
    "# HELO向服务器标志用户身份\n",
    "smtp.helo(smtpserver)\n",
    "\n",
    "# 服务器返回结果确认\n",
    "smtp.ehlo(smtpserver)\n",
    "\n",
    "# 登录邮箱服务器用户名密码\n",
    "smtp.login(user, password)\n",
    "\n",
    "print(\"Send email start...\")\n",
    "smtp.sendmail(sender, receive, msg.as_string())\n",
    "smtp.quit()\n",
    "print(\"email send end!\")"
   ]
  },
  {
   "cell_type": "code",
   "execution_count": null,
   "metadata": {},
   "outputs": [],
   "source": []
  }
 ],
 "metadata": {
  "kernelspec": {
   "display_name": "Python 3",
   "language": "python",
   "name": "python3"
  },
  "language_info": {
   "codemirror_mode": {
    "name": "ipython",
    "version": 3
   },
   "file_extension": ".py",
   "mimetype": "text/x-python",
   "name": "python",
   "nbconvert_exporter": "python",
   "pygments_lexer": "ipython3",
   "version": "3.7.1"
  }
 },
 "nbformat": 4,
 "nbformat_minor": 2
}
