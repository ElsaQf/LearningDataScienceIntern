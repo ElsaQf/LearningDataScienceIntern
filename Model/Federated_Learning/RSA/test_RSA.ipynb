{
 "cells": [
  {
   "cell_type": "code",
   "execution_count": 1,
   "metadata": {},
   "outputs": [
    {
     "data": {
      "application/javascript": [
       "IPython.notebook.set_autosave_interval(0)"
      ]
     },
     "metadata": {},
     "output_type": "display_data"
    },
    {
     "name": "stdout",
     "output_type": "stream",
     "text": [
      "Autosave disabled\n"
     ]
    }
   ],
   "source": [
    "%autosave 0"
   ]
  },
  {
   "cell_type": "code",
   "execution_count": 5,
   "metadata": {},
   "outputs": [],
   "source": [
    "import random"
   ]
  },
  {
   "cell_type": "code",
   "execution_count": 9,
   "metadata": {},
   "outputs": [],
   "source": [
    "# 针对随机取得p，q两个数的素性检测     \n",
    "def miller_rabin_test(n):  # n为要检验得数\n",
    "    p = n - 1\n",
    "    r = 0\n",
    "    # 寻找满足n-1 = 2^s  * m 的s,m两个数\n",
    "    #  n -1 = 2^r * p\n",
    "    while p % 2 == 0:  # 最后得到为奇数的p(即m)\n",
    "        r += 1\n",
    "        p /= 2\n",
    "    b = random.randint(2, n - 2)  # 随机取b=（0.n）\n",
    "    # 如果情况1    b得p次方  与1  同余  mod n\n",
    "    if fastExpMod(b, int(p), n) == 1:\n",
    "        return True  # 通过测试,可能为素数\n",
    "    # 情况2  b得（2^r  *p）次方  与-1 (n-1) 同余  mod n\n",
    "    for i in range(0,7):  # 检验六次\n",
    "        if fastExpMod(b, (2 ** i) * p, n) == n - 1:\n",
    "            return True  # 如果该数可能为素数，\n",
    "    return False  # 不可能是素数\n",
    "\n",
    "# 模N大数的幂乘的快速算法\n",
    "def fastExpMod(b, e, m):  # 底数，幂，大数N\n",
    "    result = 1\n",
    "    e = int(e)   #这里不转化的话，在python3下会出现type error\n",
    "    while e != 0:\n",
    "        if e % 2 != 0:  # 按位与\n",
    "            e -= 1\n",
    "            result = (result * b) % m\n",
    "            #continue    可选\n",
    "        e >>= 1\n",
    "        b = (b * b) % m\n",
    "    return result\n",
    "\n",
    "\n",
    "# 生成大素数：\n",
    "def create_prime_num(keylength):  # 为了确保两素数乘积n  长度不会太长，使用keylength/2\n",
    "    while True:\n",
    "        # Select a random number n\n",
    "        # n = random.randint(0, 1<<int(halfkeyLength))\n",
    "        n = random.randint(0, keylength)\n",
    "        if n % 2 != 0:\n",
    "            found = True\n",
    "            # 如果经过10次素性检测，那么很大概率上，这个数就是素数\n",
    "            for i in range(0, 10):\n",
    "                if miller_rabin_test(n):   #返回True  通过一轮测试\n",
    "                    pass\n",
    "                else:\n",
    "                    found = False   #返回False则为合数，重新产生随机数\n",
    "                    break\n",
    "            if found:\n",
    "                return n\n",
    "            \n",
    "\n",
    "# 生成密钥（包括公钥和私钥）\n",
    "def create_keys(keylength):\n",
    "    p = create_prime_num(keylength / 2)   #前面的生成大素数\n",
    "    q = create_prime_num(keylength / 2)\n",
    "    n = p * q\n",
    "    # fn是euler函数值\n",
    "    fn = (p - 1)*(q - 1)\n",
    "    e = selectE(fn, keylength / 2)\n",
    "    d = match_d(e, fn)\n",
    "    return (n, e, d)\n",
    " \n",
    "\n",
    "# 随机在（1，fn）选择一个E，  满足gcd（e,fn）=1\n",
    "def selectE(fn, halfkeyLength):\n",
    "    while True:\n",
    "        # e and fn are relatively prime\n",
    "        e = random.randint(0, fn)\n",
    "        if math.gcd(e, fn) == 1:\n",
    "            return e\n",
    " \n",
    " \n",
    "# 根据选择的e，匹配出唯一的d\n",
    "def match_d(e, fn):\n",
    "    d = 0\n",
    "    while True:\n",
    "        if (e * d) % fn == 1:\n",
    "            return d\n",
    "        d += 1\n",
    "        \n",
    "#加密\n",
    "def encrypt(M, e, n):\n",
    "    return fastExpMod(M, e, n)\n",
    "#加密\n",
    "def decrypt( C, d, n):\n",
    "    return fastExpMod(C, d, n)"
   ]
  },
  {
   "cell_type": "code",
   "execution_count": 16,
   "metadata": {},
   "outputs": [
    {
     "ename": "NameError",
     "evalue": "name 'math' is not defined",
     "output_type": "error",
     "traceback": [
      "\u001b[0;31m---------------------------------------------------------------------------\u001b[0m",
      "\u001b[0;31mNameError\u001b[0m                                 Traceback (most recent call last)",
      "\u001b[0;32m<ipython-input-16-82f6d5abbea9>\u001b[0m in \u001b[0;36m<module>\u001b[0;34m\u001b[0m\n\u001b[0;32m----> 1\u001b[0;31m \u001b[0mn\u001b[0m\u001b[0;34m,\u001b[0m \u001b[0me\u001b[0m\u001b[0;34m,\u001b[0m \u001b[0md\u001b[0m \u001b[0;34m=\u001b[0m \u001b[0mcreate_keys\u001b[0m\u001b[0;34m(\u001b[0m\u001b[0;36m1024\u001b[0m\u001b[0;34m)\u001b[0m\u001b[0;34m\u001b[0m\u001b[0;34m\u001b[0m\u001b[0m\n\u001b[0m",
      "\u001b[0;32m<ipython-input-9-b33382c8d642>\u001b[0m in \u001b[0;36mcreate_keys\u001b[0;34m(keylength)\u001b[0m\n\u001b[1;32m     58\u001b[0m     \u001b[0;31m# fn是euler函数值\u001b[0m\u001b[0;34m\u001b[0m\u001b[0;34m\u001b[0m\u001b[0;34m\u001b[0m\u001b[0m\n\u001b[1;32m     59\u001b[0m     \u001b[0mfn\u001b[0m \u001b[0;34m=\u001b[0m \u001b[0;34m(\u001b[0m\u001b[0mp\u001b[0m \u001b[0;34m-\u001b[0m \u001b[0;36m1\u001b[0m\u001b[0;34m)\u001b[0m\u001b[0;34m*\u001b[0m\u001b[0;34m(\u001b[0m\u001b[0mq\u001b[0m \u001b[0;34m-\u001b[0m \u001b[0;36m1\u001b[0m\u001b[0;34m)\u001b[0m\u001b[0;34m\u001b[0m\u001b[0;34m\u001b[0m\u001b[0m\n\u001b[0;32m---> 60\u001b[0;31m     \u001b[0me\u001b[0m \u001b[0;34m=\u001b[0m \u001b[0mselectE\u001b[0m\u001b[0;34m(\u001b[0m\u001b[0mfn\u001b[0m\u001b[0;34m,\u001b[0m \u001b[0mkeylength\u001b[0m \u001b[0;34m/\u001b[0m \u001b[0;36m2\u001b[0m\u001b[0;34m)\u001b[0m\u001b[0;34m\u001b[0m\u001b[0;34m\u001b[0m\u001b[0m\n\u001b[0m\u001b[1;32m     61\u001b[0m     \u001b[0md\u001b[0m \u001b[0;34m=\u001b[0m \u001b[0mmatch_d\u001b[0m\u001b[0;34m(\u001b[0m\u001b[0me\u001b[0m\u001b[0;34m,\u001b[0m \u001b[0mfn\u001b[0m\u001b[0;34m)\u001b[0m\u001b[0;34m\u001b[0m\u001b[0;34m\u001b[0m\u001b[0m\n\u001b[1;32m     62\u001b[0m     \u001b[0;32mreturn\u001b[0m \u001b[0;34m(\u001b[0m\u001b[0mn\u001b[0m\u001b[0;34m,\u001b[0m \u001b[0me\u001b[0m\u001b[0;34m,\u001b[0m \u001b[0md\u001b[0m\u001b[0;34m)\u001b[0m\u001b[0;34m\u001b[0m\u001b[0;34m\u001b[0m\u001b[0m\n",
      "\u001b[0;32m<ipython-input-9-b33382c8d642>\u001b[0m in \u001b[0;36mselectE\u001b[0;34m(fn, halfkeyLength)\u001b[0m\n\u001b[1;32m     68\u001b[0m         \u001b[0;31m# e and fn are relatively prime\u001b[0m\u001b[0;34m\u001b[0m\u001b[0;34m\u001b[0m\u001b[0;34m\u001b[0m\u001b[0m\n\u001b[1;32m     69\u001b[0m         \u001b[0me\u001b[0m \u001b[0;34m=\u001b[0m \u001b[0mrandom\u001b[0m\u001b[0;34m.\u001b[0m\u001b[0mrandint\u001b[0m\u001b[0;34m(\u001b[0m\u001b[0;36m0\u001b[0m\u001b[0;34m,\u001b[0m \u001b[0mfn\u001b[0m\u001b[0;34m)\u001b[0m\u001b[0;34m\u001b[0m\u001b[0;34m\u001b[0m\u001b[0m\n\u001b[0;32m---> 70\u001b[0;31m         \u001b[0;32mif\u001b[0m \u001b[0mmath\u001b[0m\u001b[0;34m.\u001b[0m\u001b[0mgcd\u001b[0m\u001b[0;34m(\u001b[0m\u001b[0me\u001b[0m\u001b[0;34m,\u001b[0m \u001b[0mfn\u001b[0m\u001b[0;34m)\u001b[0m \u001b[0;34m==\u001b[0m \u001b[0;36m1\u001b[0m\u001b[0;34m:\u001b[0m\u001b[0;34m\u001b[0m\u001b[0;34m\u001b[0m\u001b[0m\n\u001b[0m\u001b[1;32m     71\u001b[0m             \u001b[0;32mreturn\u001b[0m \u001b[0me\u001b[0m\u001b[0;34m\u001b[0m\u001b[0;34m\u001b[0m\u001b[0m\n\u001b[1;32m     72\u001b[0m \u001b[0;34m\u001b[0m\u001b[0m\n",
      "\u001b[0;31mNameError\u001b[0m: name 'math' is not defined"
     ]
    }
   ],
   "source": [
    "n, e, d = create_keys(1024)"
   ]
  },
  {
   "cell_type": "code",
   "execution_count": 15,
   "metadata": {},
   "outputs": [
    {
     "data": {
      "text/plain": [
       "9"
      ]
     },
     "execution_count": 15,
     "metadata": {},
     "output_type": "execute_result"
    }
   ],
   "source": [
    "c = fastExpMod(3, 22, 12)\n",
    "c"
   ]
  },
  {
   "cell_type": "code",
   "execution_count": null,
   "metadata": {},
   "outputs": [],
   "source": []
  },
  {
   "cell_type": "code",
   "execution_count": null,
   "metadata": {},
   "outputs": [],
   "source": []
  },
  {
   "cell_type": "code",
   "execution_count": null,
   "metadata": {},
   "outputs": [],
   "source": []
  },
  {
   "cell_type": "code",
   "execution_count": null,
   "metadata": {},
   "outputs": [],
   "source": []
  },
  {
   "cell_type": "code",
   "execution_count": 1,
   "metadata": {},
   "outputs": [],
   "source": [
    "import random\n",
    "import math"
   ]
  },
  {
   "cell_type": "code",
   "execution_count": 2,
   "metadata": {},
   "outputs": [],
   "source": [
    "# 模N大数的幂乘的快速算法\n",
    "def fastExpMod(b, e, m):  # 底数，幂，大数N\n",
    "    result = 1\n",
    "    e = int(e)\n",
    "    while e != 0:\n",
    "        if e % 2 != 0:  # 按位与\n",
    "            e -= 1\n",
    "            result = (result * b) % m\n",
    "            continue\n",
    "        e >>= 1\n",
    "        b = (b * b) % m\n",
    "    return result\n",
    "    # 测试案例\n",
    "    # c = fastExpMod(3,22,12)\n",
    "    # print(c) 9\n",
    "\n",
    "\n",
    "# 针对随机取得p，q两个数的素性检测\n",
    "def miller_rabin_test(n):  # p为要检验得数\n",
    "    p = n - 1\n",
    "    r = 0\n",
    "    # P110定理5.17 P108定理5.3.6\n",
    "    # 寻找满足n-1 = 2^s  * m 的s,m两个数\n",
    "    #  n -1 = 2^r * p\n",
    "    while p % 2 == 0:  # 最后得到为奇数的p(即m)\n",
    "        r += 1\n",
    "        p /= 2\n",
    "    b = random.randint(2, n - 2)  # 随机取b=（0.n）\n",
    "    # 如果情况1    b得p次方  与1  同余  mod n\n",
    "    if fastExpMod(b, int(p), n) == 1:\n",
    "        return True  # 通过测试,可能为素数\n",
    "    # 情况2  b得（2^r  *p）次方  与-1 (n-1) 同余  mod n\n",
    "    for i in range(0,7):  # 检验六次\n",
    "        if fastExpMod(b, (2 ** i) * p, n) == n - 1:\n",
    "            return True  # 如果该数可能为素数，\n",
    "    return False  # 不可能是素数\n",
    "\n",
    "\n",
    "# 生成大素数：\n",
    "def create_prime_num(keylength):  # 为了确保两素数乘积n  长度不会太长，使用keylength/2\n",
    "    while True:\n",
    "        # Select a random number n\n",
    "        # n = random.randint(0, 1<<int(halfkeyLength))\n",
    "        n = random.randint(0, keylength)\n",
    "        if n % 2 != 0:\n",
    "            found = True\n",
    "            # 如果经过10次素性检测，那么很大概率上，这个数就是素数\n",
    "            for i in range(0, 10):\n",
    "                if miller_rabin_test(n):\n",
    "                    pass\n",
    "                else:\n",
    "                    found = False\n",
    "                    break\n",
    "            if found:\n",
    "                return n\n",
    "\n",
    "\n",
    "# 生成密钥（包括公钥和私钥）\n",
    "def create_keys(keylength):\n",
    "    p = create_prime_num(keylength / 2)\n",
    "    q = create_prime_num(keylength / 2)\n",
    "    n = p * q\n",
    "    # euler函数值\n",
    "    fn = (p - 1)*(q - 1)\n",
    "    e = selectE(fn, keylength / 2)\n",
    "    d = match_d(e, fn)\n",
    "    return (n, e, d)\n",
    "\n",
    "\n",
    "# 随机在（1，fn）选择一个E，  满足gcd（e,fn）=1\n",
    "def selectE(fn, halfkeyLength):\n",
    "    while True:\n",
    "        # e and fn are relatively prime\n",
    "        e = random.randint(0, fn)\n",
    "        if math.gcd(e, fn) == 1:\n",
    "            return e\n",
    "\n",
    "\n",
    "# 根据选择的e，匹配出唯一的d\n",
    "def match_d(e, fn):\n",
    "    d = 0\n",
    "    while True:\n",
    "        if (e * d) % fn == 1:\n",
    "            return d\n",
    "        d += 1\n",
    "\n",
    "\n",
    "\n",
    "\n",
    "def encrypt(M, e, n):\n",
    "    return fastExpMod(M, e, n)\n",
    "\n",
    "def decrypt( C, d, m):\n",
    "    return fastExpMod(C, d, m)\n",
    "\n",
    "def display():\n",
    "    print(\"_________________RSA_________________\")\n",
    "    print(\"1.encrypt\")\n",
    "    print(\"2.decrypt\")\n",
    "    print(\"3.quit\")\n",
    "    print(\"Enter the key you wanna try\")\n",
    "    print(\"_____________________________________\")\n",
    "\n",
    "def encrypt_file():\n",
    "    f = open('datasets/rsa.txt', \"r\")\n",
    "    mess = f.read()\n",
    "    f.close()\n",
    "    n, e, d = create_keys(1024)\n",
    "    print(\"请妥善保管私钥（解密时需要用到）：（n:\",n,\" ,d:\",d,\")\")\n",
    "    s = ''\n",
    "    #s = encrypt(int(mess), e, n)\n",
    "    print(mess)\n",
    "    for ch in mess:\n",
    "        c = chr(encrypt(ord(ch), e, n))\n",
    "        s += c\n",
    "   # print(s)\n",
    "    f = open(\"datasets/pass.txt\", \"w\", encoding='utf-8')\n",
    "    f.write(str(s))\n",
    "    print(\"Encrypt Done!\")\n",
    "\n",
    "def decrypt_file():\n",
    "    f = open('datasets/pass.txt', 'rb')\n",
    "    mess = f.read().decode('utf-8')\n",
    "    f.close()\n",
    "    #n,d = input(\"私钥：\")\n",
    "    n,d= map(int, input(\"输入您的私钥（n,d）:\").split())\n",
    "    s = ''\n",
    "    #s = decrypt(int(mess), d, n)\n",
    "\n",
    "    for ch in mess:\n",
    "        c = chr(decrypt(ord(ch), d, n))\n",
    "        s += c\n",
    "    #print(s)\n",
    "    f = open(\"datasets/rsa-2.txt\", \"w\", encoding='utf-8')\n",
    "    f.write(str(s))\n",
    "    print(\"Decrypt Done!\")"
   ]
  },
  {
   "cell_type": "code",
   "execution_count": 3,
   "metadata": {},
   "outputs": [
    {
     "name": "stdout",
     "output_type": "stream",
     "text": [
      "_________________RSA_________________\n",
      "1.encrypt\n",
      "2.decrypt\n",
      "3.quit\n",
      "Enter the key you wanna try\n",
      "_____________________________________\n"
     ]
    }
   ],
   "source": [
    "display()"
   ]
  },
  {
   "cell_type": "code",
   "execution_count": null,
   "metadata": {},
   "outputs": [
    {
     "name": "stdout",
     "output_type": "stream",
     "text": [
      ">>>1\n",
      "请妥善保管私钥（解密时需要用到）：（n: 2759  ,d: 443 )\n",
      "I Love China\n",
      "Encrypt Done!\n",
      "_________________RSA_________________\n",
      "1.encrypt\n",
      "2.decrypt\n",
      "3.quit\n",
      "Enter the key you wanna try\n",
      "_____________________________________\n",
      ">>>2\n",
      "输入您的私钥（n,d）:2759 443\n",
      "Decrypt Done!\n",
      "_________________RSA_________________\n",
      "1.encrypt\n",
      "2.decrypt\n",
      "3.quit\n",
      "Enter the key you wanna try\n",
      "_____________________________________\n",
      ">>>3\n",
      "_________________RSA_________________\n",
      "1.encrypt\n",
      "2.decrypt\n",
      "3.quit\n",
      "Enter the key you wanna try\n",
      "_____________________________________\n"
     ]
    }
   ],
   "source": [
    "while True:\n",
    "    c = input(\">>>\")\n",
    "    if c=='1':\n",
    "        encrypt_file()\n",
    "    if c=='2':\n",
    "        decrypt_file()\n",
    "    if c=='0':\n",
    "        exit(0)\n",
    "    display()"
   ]
  }
 ],
 "metadata": {
  "kernelspec": {
   "display_name": "Python3 (PySpark)",
   "language": "python",
   "name": "python3"
  },
  "language_info": {
   "codemirror_mode": {
    "name": "ipython",
    "version": 3
   },
   "file_extension": ".py",
   "mimetype": "text/x-python",
   "name": "python",
   "nbconvert_exporter": "python",
   "pygments_lexer": "ipython3",
   "version": "3.6.7"
  }
 },
 "nbformat": 4,
 "nbformat_minor": 2
}
