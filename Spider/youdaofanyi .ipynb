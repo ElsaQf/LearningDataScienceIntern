{
 "cells": [
  {
   "cell_type": "markdown",
   "metadata": {},
   "source": [
    "# 有道翻译\n",
    "\n",
    "### 要固定request_url，其他不能用"
   ]
  },
  {
   "cell_type": "code",
   "execution_count": 3,
   "metadata": {},
   "outputs": [
    {
     "name": "stdout",
     "output_type": "stream",
     "text": [
      "我们唯一不得不害怕的就是害怕本身。\n"
     ]
    }
   ],
   "source": [
    "from urllib import request\n",
    "from urllib import parse\n",
    "import json\n",
    "\n",
    "Request_URL = 'http://fanyi.youdao.com/translate?smartresult=dict&smartresult=rule&smartresult=ugc&sessionFrom=https://www.baidu.com/link'\n",
    "Form_Data = {}\n",
    "Form_Data['type'] = 'AUTO'\n",
    "Form_Data['i'] = 'The only thing we have to fear is fear itself.'\n",
    "Form_Data['doctype'] = 'json'\n",
    "Form_Data['xmlVersion'] = '1.8'\n",
    "Form_Data['ue'] = 'ue:UTF-8'\n",
    "Form_Data['action'] = 'FY_BY_CLICKBUTTON'\n",
    "\n",
    "data = parse.urlencode(Form_Data).encode('utf-8')\n",
    "response = request.urlopen(Request_URL, data)\n",
    "html = response.read().decode('utf-8')\n",
    "translate_results = json.loads(html)\n",
    "translate_results = translate_results['translateResult'][0][0]['tgt']\n",
    "print(translate_results)"
   ]
  },
  {
   "cell_type": "markdown",
   "metadata": {},
   "source": [
    "## 简单方法，只需要指定i和doctype"
   ]
  },
  {
   "cell_type": "code",
   "execution_count": 1,
   "metadata": {},
   "outputs": [
    {
     "name": "stdout",
     "output_type": "stream",
     "text": [
      "                          {\"type\":\"EN2ZH_CN\",\"errorCode\":0,\"elapsedTime\":1,\"translateResult\":[[{\"src\":\"i love you\",\"tgt\":\"我爱你\"}]]}\n",
      "\n",
      "我爱你\n"
     ]
    }
   ],
   "source": [
    "from urllib import request, parse\n",
    "import json\n",
    "\n",
    "req_url = \"http://fanyi.youdao.com/translate\"\n",
    "\n",
    "Form_Data = {}\n",
    "Form_Data['i'] = 'i love you'\n",
    "Form_Data['doctype'] = 'json'\n",
    "\n",
    "data = parse.urlencode(Form_Data).encode('utf-8')\n",
    "response = request.urlopen(req_url, data)\n",
    "html = response.read().decode('utf-8')\n",
    "print(html)\n",
    "\n",
    "translate_results = json.loads(html)\n",
    "translate_results = translate_results['translateResult'][0][0]['tgt']\n",
    "print(translate_results)"
   ]
  },
  {
   "cell_type": "code",
   "execution_count": null,
   "metadata": {},
   "outputs": [],
   "source": []
  }
 ],
 "metadata": {
  "kernelspec": {
   "display_name": "Python 3",
   "language": "python",
   "name": "python3"
  },
  "language_info": {
   "codemirror_mode": {
    "name": "ipython",
    "version": 3
   },
   "file_extension": ".py",
   "mimetype": "text/x-python",
   "name": "python",
   "nbconvert_exporter": "python",
   "pygments_lexer": "ipython3",
   "version": "3.7.1"
  }
 },
 "nbformat": 4,
 "nbformat_minor": 2
}
