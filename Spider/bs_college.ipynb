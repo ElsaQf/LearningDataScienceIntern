{
 "cells": [
  {
   "cell_type": "code",
   "execution_count": 45,
   "metadata": {},
   "outputs": [],
   "source": [
    "from urllib import request\n",
    "from bs4 import BeautifulSoup\n",
    "\n",
    "download_url = 'http://college.gaokao.com/schlist/p1'\n",
    "download_req = request.Request(url=download_url)\n",
    "download_response = request.urlopen(download_req)\n",
    "download_html = download_response.read().decode('gbk','ignore')\n",
    "soup = BeautifulSoup(download_html, 'lxml')"
   ]
  },
  {
   "cell_type": "code",
   "execution_count": 46,
   "metadata": {},
   "outputs": [],
   "source": [
    "soup_scores_List = soup.find_all('div', class_='scores_List')"
   ]
  },
  {
   "cell_type": "code",
   "execution_count": 47,
   "metadata": {},
   "outputs": [],
   "source": [
    "download_soup = BeautifulSoup(str(soup_scores_List), 'lxml')"
   ]
  },
  {
   "cell_type": "code",
   "execution_count": null,
   "metadata": {},
   "outputs": [],
   "source": [
    "info = []"
   ]
  },
  {
   "cell_type": "code",
   "execution_count": 48,
   "metadata": {},
   "outputs": [],
   "source": [
    "download_soup_dl = download_soup.find_all('dl')"
   ]
  },
  {
   "cell_type": "code",
   "execution_count": 50,
   "metadata": {},
   "outputs": [
    {
     "name": "stdout",
     "output_type": "stream",
     "text": [
      "[<dl>\n",
      "<dt>\n",
      "<a href=\"http://college.gaokao.com/school/1/\" target=\"_blank\"><img alt=\"北京大学\" height=\"63\" onerror=\"this.src='http://college.gaokao.com/style/college/images/icon_default.png'\" src=\"http://college.gaokao.com/style/college/images/icon/1.png\" width=\"63\"/></a><strong class=\"blue\" title=\"北京大学\"><a href=\"http://college.gaokao.com/school/1/\" target=\"_blank\">北京大学</a></strong> </dt>\n",
      "<dd>\n",
      "<div class=\"right\">\n",
      "<p><a class=\"org\" href=\"javascript:void(0);\" onclick=\"javascript:setpk('1','北京大学');\">+高校对比</a></p>\n",
      "<p class=\"topMargin20\"><a class=\"btn_gary\" href=\"http://college.gaokao.com/school/1/\" target=\"_blank\">进入主页</a></p>\n",
      "</div>\n",
      "<ul>\n",
      "<li>高校所在地：北京</li>\n",
      "<li>院校特色：<span class=\"c211 rm5\">211</span><span class=\"c985\">985</span></li>\n",
      "<li>高校类型：综合</li>\n",
      "<li>高校隶属：教育部</li>\n",
      "<li>高校性质：本科</li>\n",
      "<li>学校网址：www.pku.edu.cn</li>\n",
      "</ul>\n",
      "</dd>\n",
      "</dl>, <dl>\n",
      "<dt>\n",
      "<a href=\"http://college.gaokao.com/school/2/\" target=\"_blank\"><img alt=\"中国人民大学\" height=\"63\" onerror=\"this.src='http://college.gaokao.com/style/college/images/icon_default.png'\" src=\"http://college.gaokao.com/style/college/images/icon/2.png\" width=\"63\"/></a><strong class=\"blue\" title=\"中国人民大学\"><a href=\"http://college.gaokao.com/school/2/\" target=\"_blank\">中国人民大学</a></strong> </dt>\n",
      "<dd>\n",
      "<div class=\"right\">\n",
      "<p><a class=\"org\" href=\"javascript:void(0);\" onclick=\"javascript:setpk('2','中国人民大学');\">+高校对比</a></p>\n",
      "<p class=\"topMargin20\"><a class=\"btn_gary\" href=\"http://college.gaokao.com/school/2/\" target=\"_blank\">进入主页</a></p>\n",
      "</div>\n",
      "<ul>\n",
      "<li>高校所在地：北京</li>\n",
      "<li>院校特色：<span class=\"c211 rm5\">211</span><span class=\"c985\">985</span></li>\n",
      "<li>高校类型：综合</li>\n",
      "<li>高校隶属：教育部</li>\n",
      "<li>高校性质：本科</li>\n",
      "<li>学校网址：www.ruc.edu.cn</li>\n",
      "</ul>\n",
      "</dd>\n",
      "</dl>, <dl>\n",
      "<dt>\n",
      "<a href=\"http://college.gaokao.com/school/3/\" target=\"_blank\"><img alt=\"清华大学\" height=\"63\" onerror=\"this.src='http://college.gaokao.com/style/college/images/icon_default.png'\" src=\"http://college.gaokao.com/style/college/images/icon/3.png\" width=\"63\"/></a><strong class=\"blue\" title=\"清华大学\"><a href=\"http://college.gaokao.com/school/3/\" target=\"_blank\">清华大学</a></strong> </dt>\n",
      "<dd>\n",
      "<div class=\"right\">\n",
      "<p><a class=\"org\" href=\"javascript:void(0);\" onclick=\"javascript:setpk('3','清华大学');\">+高校对比</a></p>\n",
      "<p class=\"topMargin20\"><a class=\"btn_gary\" href=\"http://college.gaokao.com/school/3/\" target=\"_blank\">进入主页</a></p>\n",
      "</div>\n",
      "<ul>\n",
      "<li>高校所在地：北京</li>\n",
      "<li>院校特色：<span class=\"c211 rm5\">211</span><span class=\"c985\">985</span></li>\n",
      "<li>高校类型：工科</li>\n",
      "<li>高校隶属：教育部</li>\n",
      "<li>高校性质：本科</li>\n",
      "<li>学校网址：www.tsinghua.edu.cn</li>\n",
      "</ul>\n",
      "</dd>\n",
      "</dl>, <dl>\n",
      "<dt>\n",
      "<a href=\"http://college.gaokao.com/school/4/\" target=\"_blank\"><img alt=\"北京航空航天大学\" height=\"63\" onerror=\"this.src='http://college.gaokao.com/style/college/images/icon_default.png'\" src=\"http://college.gaokao.com/style/college/images/icon/4.png\" width=\"63\"/></a><strong class=\"blue\" title=\"北京航空航天大学\"><a href=\"http://college.gaokao.com/school/4/\" target=\"_blank\">北京航空航天</a></strong> </dt>\n",
      "<dd>\n",
      "<div class=\"right\">\n",
      "<p><a class=\"org\" href=\"javascript:void(0);\" onclick=\"javascript:setpk('4','北京航空航天大学');\">+高校对比</a></p>\n",
      "<p class=\"topMargin20\"><a class=\"btn_gary\" href=\"http://college.gaokao.com/school/4/\" target=\"_blank\">进入主页</a></p>\n",
      "</div>\n",
      "<ul>\n",
      "<li>高校所在地：北京</li>\n",
      "<li>院校特色：<span class=\"c211 rm5\">211</span><span class=\"c985\">985</span></li>\n",
      "<li>高校类型：工科</li>\n",
      "<li>高校隶属：工业与信息化部</li>\n",
      "<li>高校性质：本科</li>\n",
      "<li>学校网址：www.buaa.edu.cn</li>\n",
      "</ul>\n",
      "</dd>\n",
      "</dl>, <dl>\n",
      "<dt>\n",
      "<a href=\"http://college.gaokao.com/school/5/\" target=\"_blank\"><img alt=\"北京理工大学\" height=\"63\" onerror=\"this.src='http://college.gaokao.com/style/college/images/icon_default.png'\" src=\"http://college.gaokao.com/style/college/images/icon/5.png\" width=\"63\"/></a><strong class=\"blue\" title=\"北京理工大学\"><a href=\"http://college.gaokao.com/school/5/\" target=\"_blank\">北京理工大学</a></strong> </dt>\n",
      "<dd>\n",
      "<div class=\"right\">\n",
      "<p><a class=\"org\" href=\"javascript:void(0);\" onclick=\"javascript:setpk('5','北京理工大学');\">+高校对比</a></p>\n",
      "<p class=\"topMargin20\"><a class=\"btn_gary\" href=\"http://college.gaokao.com/school/5/\" target=\"_blank\">进入主页</a></p>\n",
      "</div>\n",
      "<ul>\n",
      "<li>高校所在地：北京</li>\n",
      "<li>院校特色：<span class=\"c211 rm5\">211</span><span class=\"c985\">985</span></li>\n",
      "<li>高校类型：工科</li>\n",
      "<li>高校隶属：工业与信息化部</li>\n",
      "<li>高校性质：本科</li>\n",
      "<li>学校网址：www.bit.edu.cn</li>\n",
      "</ul>\n",
      "</dd>\n",
      "</dl>, <dl>\n",
      "<dt>\n",
      "<a href=\"http://college.gaokao.com/school/6/\" target=\"_blank\"><img alt=\"中国农业大学\" height=\"63\" onerror=\"this.src='http://college.gaokao.com/style/college/images/icon_default.png'\" src=\"http://college.gaokao.com/style/college/images/icon/6.png\" width=\"63\"/></a><strong class=\"blue\" title=\"中国农业大学\"><a href=\"http://college.gaokao.com/school/6/\" target=\"_blank\">中国农业大学</a></strong> </dt>\n",
      "<dd>\n",
      "<div class=\"right\">\n",
      "<p><a class=\"org\" href=\"javascript:void(0);\" onclick=\"javascript:setpk('6','中国农业大学');\">+高校对比</a></p>\n",
      "<p class=\"topMargin20\"><a class=\"btn_gary\" href=\"http://college.gaokao.com/school/6/\" target=\"_blank\">进入主页</a></p>\n",
      "</div>\n",
      "<ul>\n",
      "<li>高校所在地：北京</li>\n",
      "<li>院校特色：<span class=\"c211 rm5\">211</span><span class=\"c985\">985</span></li>\n",
      "<li>高校类型：农业</li>\n",
      "<li>高校隶属：教育部</li>\n",
      "<li>高校性质：本科</li>\n",
      "<li>学校网址：http://www.cau.edu.cn</li>\n",
      "</ul>\n",
      "</dd>\n",
      "</dl>, <dl>\n",
      "<dt>\n",
      "<a href=\"http://college.gaokao.com/school/7/\" target=\"_blank\"><img alt=\"北京师范大学\" height=\"63\" onerror=\"this.src='http://college.gaokao.com/style/college/images/icon_default.png'\" src=\"http://college.gaokao.com/style/college/images/icon/7.png\" width=\"63\"/></a><strong class=\"blue\" title=\"北京师范大学\"><a href=\"http://college.gaokao.com/school/7/\" target=\"_blank\">北京师范大学</a></strong> </dt>\n",
      "<dd>\n",
      "<div class=\"right\">\n",
      "<p><a class=\"org\" href=\"javascript:void(0);\" onclick=\"javascript:setpk('7','北京师范大学');\">+高校对比</a></p>\n",
      "<p class=\"topMargin20\"><a class=\"btn_gary\" href=\"http://college.gaokao.com/school/7/\" target=\"_blank\">进入主页</a></p>\n",
      "</div>\n",
      "<ul>\n",
      "<li>高校所在地：北京</li>\n",
      "<li>院校特色：<span class=\"c211 rm5\">211</span><span class=\"c985\">985</span></li>\n",
      "<li>高校类型：师范</li>\n",
      "<li>高校隶属：教育部</li>\n",
      "<li>高校性质：本科</li>\n",
      "<li>学校网址：www.bnu.edu.cn</li>\n",
      "</ul>\n",
      "</dd>\n",
      "</dl>, <dl>\n",
      "<dt>\n",
      "<a href=\"http://college.gaokao.com/school/8/\" target=\"_blank\"><img alt=\"中央民族大学\" height=\"63\" onerror=\"this.src='http://college.gaokao.com/style/college/images/icon_default.png'\" src=\"http://college.gaokao.com/style/college/images/icon/8.png\" width=\"63\"/></a><strong class=\"blue\" title=\"中央民族大学\"><a href=\"http://college.gaokao.com/school/8/\" target=\"_blank\">中央民族大学</a></strong> </dt>\n",
      "<dd>\n",
      "<div class=\"right\">\n",
      "<p><a class=\"org\" href=\"javascript:void(0);\" onclick=\"javascript:setpk('8','中央民族大学');\">+高校对比</a></p>\n",
      "<p class=\"topMargin20\"><a class=\"btn_gary\" href=\"http://college.gaokao.com/school/8/\" target=\"_blank\">进入主页</a></p>\n",
      "</div>\n",
      "<ul>\n",
      "<li>高校所在地：北京</li>\n",
      "<li>院校特色：<span class=\"c211 rm5\">211</span><span class=\"c985\">985</span></li>\n",
      "<li>高校类型：民族</li>\n",
      "<li>高校隶属：国家民族事务委员会</li>\n",
      "<li>高校性质：本科</li>\n",
      "<li>学校网址：www.muc.edu.cn</li>\n",
      "</ul>\n",
      "</dd>\n",
      "</dl>, <dl>\n",
      "<dt>\r\n",
      "                                    a   h r e f = \" h t t p : / / c o l l e g e . g a o k a o . c o m / s c h o o l / 9 / \"   t a r g e t = \" _ b l a n k \" &gt; i m g   s r c = \" h t t p : / / c o l l e g e . g a o k a o . c o m / s t y l e / c o l l e g e / i m a g e s / i c o n / 9 . p n g \"   o n e r r o r = \" t h i s . s r c = ' h t t p : / / c o l l e g e . g a o k a o . c o m / s t y l e / c o l l e g e / i m a g e s / i c o n _ d e f a u l t . p n g ' \"   w i d t h = \" 6 3 \"   h e i g h t = \" 6 3 \"   a l t = \" WS _'Yf[\"   / &gt; / a &gt; s t r o n g   t i t l e = \" WS _'Yf[\"   c l a s s = \" b l u e \" &gt; a   h r e f = \" h t t p : / / c o l l e g e . g a o k a o . c o m / s c h o o l / 9 / \"   t a r g e t = \" _ b l a n k \" &gt; WS _'Yf[/ a &gt; / s t r o n g &gt;                                         / d t &gt; \r",
      " \n",
      "                                         d d &gt; \r",
      " \n",
      "                                                 d i v   c l a s s = \" r i g h t \" &gt; \r",
      " \n",
      "                                                         p &gt; </dt></dl>]\n"
     ]
    }
   ],
   "source": [
    "print(download_soup_dl)"
   ]
  },
  {
   "cell_type": "code",
   "execution_count": 51,
   "metadata": {},
   "outputs": [],
   "source": [
    "file = open('school_info.txt','w',encoding='utf-8')\n",
    "cnt = 0\n",
    "for dl in download_soup_dl:\n",
    "    cnt += 1\n",
    "    if cnt % 9 != 0:\n",
    "        school = []\n",
    "    #     print(dl.dt.strong)\n",
    "        school.append(dl.dt.strong['title'])\n",
    "    #     print(school)\n",
    "        school.append(dl.dt.a.img['src'])\n",
    "        detail = []\n",
    "        count = 0\n",
    "        for li in dl.dd.ul:\n",
    "            count += 1\n",
    "            if(li != '\\n'):\n",
    "                if count == 4:\n",
    "                    yuanxiaotese = []\n",
    "                    n = len(li.contents)\n",
    "                    for i in range(n):\n",
    "                        yuanxiaotese.append(li.contents[i].string)\n",
    "                    detail.append(yuanxiaotese)\n",
    "                else:\n",
    "                    detail.append(li.string)\n",
    "        school.append(detail)\n",
    "        file.write(str(school))\n",
    "        file.write('\\n')\n",
    "file.close()"
   ]
  },
  {
   "cell_type": "code",
   "execution_count": 54,
   "metadata": {},
   "outputs": [
    {
     "name": "stdout",
     "output_type": "stream",
     "text": [
      "9\n",
      "<dl>\n",
      "<dt>\r\n",
      "                                    a   h r e f = \" h t t p : / / c o l l e g e . g a o k a o . c o m / s c h o o l / 9 / \"   t a r g e t = \" _ b l a n k \" &gt; i m g   s r c = \" h t t p : / / c o l l e g e . g a o k a o . c o m / s t y l e / c o l l e g e / i m a g e s / i c o n / 9 . p n g \"   o n e r r o r = \" t h i s . s r c = ' h t t p : / / c o l l e g e . g a o k a o . c o m / s t y l e / c o l l e g e / i m a g e s / i c o n _ d e f a u l t . p n g ' \"   w i d t h = \" 6 3 \"   h e i g h t = \" 6 3 \"   a l t = \" WS _'Yf[\"   / &gt; / a &gt; s t r o n g   t i t l e = \" WS _'Yf[\"   c l a s s = \" b l u e \" &gt; a   h r e f = \" h t t p : / / c o l l e g e . g a o k a o . c o m / s c h o o l / 9 / \"   t a r g e t = \" _ b l a n k \" &gt; WS _'Yf[/ a &gt; / s t r o n g &gt;                                         / d t &gt; \r",
      " \n",
      "                                         d d &gt; \r",
      " \n",
      "                                                 d i v   c l a s s = \" r i g h t \" &gt; \r",
      " \n",
      "                                                         p &gt; </dt></dl>\n",
      "***************************************************************************\n"
     ]
    }
   ],
   "source": [
    "file = open('school_info.txt','w',encoding='utf-8')\n",
    "cnt = 0\n",
    "print(len(download_soup_dl))\n",
    "for dl in download_soup_dl:\n",
    "    cnt += 1\n",
    "    if cnt % 9 != 0:\n",
    "        school = []\n",
    "    #     print(dl.dt.strong)\n",
    "        school.append(dl.dt.strong['title'])\n",
    "    #     print(school)\n",
    "        school.append(dl.dt.a.img['src'])\n",
    "        detail = []\n",
    "        count = 0\n",
    "        for li in dl.dd.ul:\n",
    "            count += 1\n",
    "            if(li != '\\n'):\n",
    "                if count == 4:\n",
    "                    yuanxiaotese = []\n",
    "                    n = len(li.contents)\n",
    "                    for i in range(n):\n",
    "                        yuanxiaotese.append(li.contents[i].string)\n",
    "                    detail.append(yuanxiaotese)\n",
    "                else:\n",
    "                    detail.append(li.string)\n",
    "        school.append(detail)\n",
    "        file.write(str(school))\n",
    "        file.write('\\n')\n",
    "    else:\n",
    "        print(dl)\n",
    "        print(\"***************************************************************************\")\n",
    "file.close()"
   ]
  },
  {
   "cell_type": "code",
   "execution_count": 42,
   "metadata": {},
   "outputs": [
    {
     "name": "stdout",
     "output_type": "stream",
     "text": [
      "<dt>\n",
      "<a href=\"http://college.gaokao.com/school/26/\" target=\"_blank\"><img alt=\"中国海洋大学\" height=\"63\" onerror=\"this.src='http://college.gaokao.com/style/college/images/icon_default.png'\" src=\"http://college.gaokao.com/style/college/images/icon/26.png\" width=\"63\"/></a><strong class=\"blue\" title=\"中国海洋大学\"><a href=\"http://college.gaokao.com/school/26/\" target=\"_blank\">中国海洋大学</a></strong> </dt>\n",
      "<dt>\n",
      "<a href=\"http://college.gaokao.com/school/27/\" target=\"_blank\"><img alt=\"武汉大学\" height=\"63\" onerror=\"this.src='http://college.gaokao.com/style/college/images/icon_default.png'\" src=\"http://college.gaokao.com/style/college/images/icon/27.png\" width=\"63\"/></a><strong class=\"blue\" title=\"武汉大学\"><a href=\"http://college.gaokao.com/school/27/\" target=\"_blank\">武汉大学</a></strong> </dt>\n",
      "<dt>\n",
      "<a href=\"http://college.gaokao.com/school/28/\" target=\"_blank\"><img alt=\"湖南大学\" height=\"63\" onerror=\"this.src='http://college.gaokao.com/style/college/images/icon_default.png'\" src=\"http://college.gaokao.com/style/college/images/icon/28.png\" width=\"63\"/></a><strong class=\"blue\" title=\"湖南大学\"><a href=\"http://college.gaokao.com/school/28/\" target=\"_blank\">湖南大学</a></strong> </dt>\n",
      "<dt>\n",
      "<a href=\"http://college.gaokao.com/school/29/\" target=\"_blank\"><img alt=\"中山大学\" height=\"63\" onerror=\"this.src='http://college.gaokao.com/style/college/images/icon_default.png'\" src=\"http://college.gaokao.com/style/college/images/icon/29.png\" width=\"63\"/></a><strong class=\"blue\" title=\"中山大学\"><a href=\"http://college.gaokao.com/school/29/\" target=\"_blank\">中山大学</a></strong> </dt>\n",
      "<dt>\n",
      "<a href=\"http://college.gaokao.com/school/30/\" target=\"_blank\"><img alt=\"华南理工大学\" height=\"63\" onerror=\"this.src='http://college.gaokao.com/style/college/images/icon_default.png'\" src=\"http://college.gaokao.com/style/college/images/icon/30.png\" width=\"63\"/></a><strong class=\"blue\" title=\"华南理工大学\"><a href=\"http://college.gaokao.com/school/30/\" target=\"_blank\">华南理工大学</a></strong> </dt>\n",
      "<dt>\n",
      "<a href=\"http://college.gaokao.com/school/31/\" target=\"_blank\"><img alt=\"重庆大学\" height=\"63\" onerror=\"this.src='http://college.gaokao.com/style/college/images/icon_default.png'\" src=\"http://college.gaokao.com/style/college/images/icon/31.png\" width=\"63\"/></a><strong class=\"blue\" title=\"重庆大学\"><a href=\"http://college.gaokao.com/school/31/\" target=\"_blank\">重庆大学</a></strong> </dt>\n",
      "<dt>\n",
      "<a href=\"http://college.gaokao.com/school/32/\" target=\"_blank\"><img alt=\"电子科技大学\" height=\"63\" onerror=\"this.src='http://college.gaokao.com/style/college/images/icon_default.png'\" src=\"http://college.gaokao.com/style/college/images/icon/32.png\" width=\"63\"/></a><strong class=\"blue\" title=\"电子科技大学\"><a href=\"http://college.gaokao.com/school/32/\" target=\"_blank\">电子科技大学</a></strong> </dt>\n",
      "<dt>\n",
      "<a href=\"http://college.gaokao.com/school/33/\" target=\"_blank\"><img alt=\"西安交通大学\" height=\"63\" onerror=\"this.src='http://college.gaokao.com/style/college/images/icon_default.png'\" src=\"http://college.gaokao.com/style/college/images/icon/33.png\" width=\"63\"/></a><strong class=\"blue\" title=\"西安交通大学\"><a href=\"http://college.gaokao.com/school/33/\" target=\"_blank\">西安交通大学</a></strong> </dt>\n",
      "None\n"
     ]
    }
   ],
   "source": [
    "for dl in download_soup_dl:\n",
    "#     school = []\n",
    "    print(dl.dt)"
   ]
  },
  {
   "cell_type": "code",
   "execution_count": null,
   "metadata": {},
   "outputs": [],
   "source": [
    "<dt>\n",
    "                        <a href=\"http://college.gaokao.com/school/9/\" target=\"_blank\">\n",
    "                            <img src=\"http://college.gaokao.com/style/college/images/icon/9.png\" onerror=\"this.src='http://college.gaokao.com/style/college/images/icon_default.png'\" width=\"63\" height=\"63\" alt=\"南开大学\"></a>\n",
    "                        <strong title=\"南开大学\" class=\"blue\"><a href=\"http://college.gaokao.com/school/9/\" target=\"_blank\">南开大学</a></strong>                    </dt>"
   ]
  },
  {
   "cell_type": "code",
   "execution_count": 31,
   "metadata": {},
   "outputs": [
    {
     "name": "stdout",
     "output_type": "stream",
     "text": [
      "北京大学\n"
     ]
    }
   ],
   "source": [
    "print(download_soup.dl.dt.strong['title'])"
   ]
  },
  {
   "cell_type": "code",
   "execution_count": 7,
   "metadata": {},
   "outputs": [
    {
     "name": "stdout",
     "output_type": "stream",
     "text": [
      "http://college.gaokao.com/style/college/images/icon/1.png\n"
     ]
    }
   ],
   "source": [
    "print(download_soup.dl.dt.a.img['src'])"
   ]
  },
  {
   "cell_type": "code",
   "execution_count": 19,
   "metadata": {},
   "outputs": [
    {
     "name": "stdout",
     "output_type": "stream",
     "text": [
      "高校所在地：北京\n"
     ]
    }
   ],
   "source": [
    "print(download_soup.dl.dd.ul.li.string)"
   ]
  },
  {
   "cell_type": "code",
   "execution_count": 61,
   "metadata": {
    "scrolled": true
   },
   "outputs": [
    {
     "name": "stdout",
     "output_type": "stream",
     "text": [
      "['高校所在地：北京', ['院校特色：', '211', '985'], '高校类型：综合', '高校隶属：教育部', '高校性质：本科', '学校网址：www.pku.edu.cn']\n"
     ]
    }
   ],
   "source": [
    "info = []\n",
    "count = 0\n",
    "\n",
    "for i in download_soup.dl.dd.ul.children:\n",
    "    count += 1\n",
    "    \n",
    "    if i != '\\n':\n",
    "        if count == 4:\n",
    "            n = len(i.contents)\n",
    "            yuanxiaotese = []\n",
    "            for j in range(n):\n",
    "                yuanxiaotese.append(i.contents[j].string)\n",
    "            info.append(yuanxiaotese)\n",
    "        else:\n",
    "            info.append(i.string)\n",
    "    \n",
    "            \n",
    "print(info)"
   ]
  },
  {
   "cell_type": "code",
   "execution_count": 68,
   "metadata": {},
   "outputs": [],
   "source": [
    "download_soup_dl = download_soup.find_all('dl')"
   ]
  },
  {
   "cell_type": "code",
   "execution_count": null,
   "metadata": {},
   "outputs": [],
   "source": [
    "file = open('info.txt','w',encoding='utf-8')\n",
    "for i_dl in download_soup_dl:\n",
    "    info = []\n",
    "    count = 0\n",
    "    \n",
    "    for i in i_dl.dd.ul.children:\n",
    "        count += 1\n",
    "        \n",
    "        if i != '\\n':\n",
    "            if count == 4:\n",
    "                n = len(i.contents)\n",
    "                yuanxiaotese = []\n",
    "                for j in range(n):\n",
    "                    yuanxiaotese.append(i.contents[j].string)\n",
    "                info.append(yuanxiaotese)\n",
    "            else:\n",
    "                info.append(i.string)\n",
    "    file.write(info + '\\n')\n",
    "file.close()"
   ]
  },
  {
   "cell_type": "code",
   "execution_count": null,
   "metadata": {},
   "outputs": [],
   "source": []
  }
 ],
 "metadata": {
  "kernelspec": {
   "display_name": "Python 3",
   "language": "python",
   "name": "python3"
  },
  "language_info": {
   "codemirror_mode": {
    "name": "ipython",
    "version": 3
   },
   "file_extension": ".py",
   "mimetype": "text/x-python",
   "name": "python",
   "nbconvert_exporter": "python",
   "pygments_lexer": "ipython3",
   "version": "3.7.1"
  }
 },
 "nbformat": 4,
 "nbformat_minor": 2
}
