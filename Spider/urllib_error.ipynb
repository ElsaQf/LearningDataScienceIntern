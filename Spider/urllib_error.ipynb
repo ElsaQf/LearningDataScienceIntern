{
 "cells": [
  {
   "cell_type": "markdown",
   "metadata": {},
   "source": [
    "# urllib.error异常"
   ]
  },
  {
   "cell_type": "code",
   "execution_count": 2,
   "metadata": {},
   "outputs": [
    {
     "name": "stdout",
     "output_type": "stream",
     "text": [
      "[Errno 11002] getaddrinfo failed\n"
     ]
    }
   ],
   "source": [
    "from urllib import request\n",
    "from urllib import error\n",
    "\n",
    "url = \"http://www.iloveyou.com/\"\n",
    "req = request.Request(url)\n",
    "try:\n",
    "    response = request.urlopen(req)\n",
    "    html = response.read().decode('utf-8')\n",
    "    print(html)\n",
    "except error.URLError as e:\n",
    "    print(e.reason)"
   ]
  },
  {
   "cell_type": "markdown",
   "metadata": {},
   "source": [
    "### 获取地址信息失败"
   ]
  },
  {
   "cell_type": "code",
   "execution_count": 3,
   "metadata": {},
   "outputs": [
    {
     "name": "stdout",
     "output_type": "stream",
     "text": [
      "404\n"
     ]
    }
   ],
   "source": [
    "from urllib import request\n",
    "from urllib import error\n",
    "\n",
    "url = \"http://www.douyu.com/Jack_Cui.html\"\n",
    "req = request.Request(url)\n",
    "try:\n",
    "    response = request.urlopen(req)\n",
    "except error.HTTPError as e:\n",
    "    print(e.code)"
   ]
  },
  {
   "cell_type": "markdown",
   "metadata": {},
   "source": [
    "### 请求失败，请求的资源没有在服务器上找到\n",
    "### www.douyu.com 这个服务器存在，但是我们要查找的Jack_Cui.html资源是没有的"
   ]
  },
  {
   "cell_type": "markdown",
   "metadata": {},
   "source": [
    "## URLError和HTTPError混合使用\n",
    "### HTTPError是URLError的一个子类，把HTTPError放在URLError前面"
   ]
  },
  {
   "cell_type": "code",
   "execution_count": 4,
   "metadata": {},
   "outputs": [
    {
     "name": "stdout",
     "output_type": "stream",
     "text": [
      "HTTPError\n",
      "404\n"
     ]
    }
   ],
   "source": [
    "from urllib import request\n",
    "from urllib import error\n",
    "\n",
    "url = \"http://www.douyu.com/Jack_Cui.html\"\n",
    "req = request.Request(url)\n",
    "try:\n",
    "    response = request.urlopen(req)\n",
    "except error.HTTPError as e:\n",
    "    print(\"HTTPError\")\n",
    "    print(e.code)\n",
    "except error.URLError as e:\n",
    "    print(\"URLError\")\n",
    "    print(e.reason)"
   ]
  },
  {
   "cell_type": "markdown",
   "metadata": {},
   "source": [
    "### hasattr函数判断URLError含有的属性\n",
    "### 如果含有reason，表明是URLError\n",
    "### 如果含有code，表明是HTTPError"
   ]
  },
  {
   "cell_type": "code",
   "execution_count": 5,
   "metadata": {},
   "outputs": [
    {
     "name": "stdout",
     "output_type": "stream",
     "text": [
      "HTTPError\n",
      "404\n"
     ]
    }
   ],
   "source": [
    "from urllib import request\n",
    "from urllib import error\n",
    "\n",
    "url = \"http://www.douyu.com/Jack_Cui.html\"\n",
    "req = request.Request(url)\n",
    "try:\n",
    "    response = request.urlopen(req)\n",
    "except error.URLError as e:\n",
    "    if(hasattr(e, 'code')):\n",
    "        print(\"HTTPError\")\n",
    "        print(e.code)\n",
    "    elif hasattr(e, 'reason'):\n",
    "        print(\"URLError\")\n",
    "        print(e.reason)"
   ]
  },
  {
   "cell_type": "code",
   "execution_count": null,
   "metadata": {},
   "outputs": [],
   "source": []
  }
 ],
 "metadata": {
  "kernelspec": {
   "display_name": "Python 3",
   "language": "python",
   "name": "python3"
  },
  "language_info": {
   "codemirror_mode": {
    "name": "ipython",
    "version": 3
   },
   "file_extension": ".py",
   "mimetype": "text/x-python",
   "name": "python",
   "nbconvert_exporter": "python",
   "pygments_lexer": "ipython3",
   "version": "3.7.1"
  }
 },
 "nbformat": 4,
 "nbformat_minor": 2
}
