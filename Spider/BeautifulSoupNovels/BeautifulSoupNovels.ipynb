{
 "cells": [
  {
   "cell_type": "markdown",
   "metadata": {},
   "source": [
    "## 使用Beautiful Soup爬取小说"
   ]
  },
  {
   "cell_type": "code",
   "execution_count": 1,
   "metadata": {},
   "outputs": [],
   "source": [
    "from bs4 import BeautifulSoup"
   ]
  },
  {
   "cell_type": "code",
   "execution_count": 2,
   "metadata": {},
   "outputs": [
    {
     "name": "stdout",
     "output_type": "stream",
     "text": [
      "<html>\n",
      "<head>\n",
      "<title>Jack_Cui</title>\n",
      "</head>\n",
      "<body>\n",
      "<p class=\"title\" name=\"blog\"><b>My Blog</b></p>\n",
      "<li><!--注释--></li>\n",
      "<a class=\"sister\" href=\"http://blog.csdn.net/c406495762/article/details/58716886\" id=\"link1\">Python3网络爬虫（一）：利用urllib进行简单点网页抓取</a><br/>\n",
      "<a class=\"sister\" href=\"http://blog.csdn.net/c406495762/article/details/59095864\" id=\"link2\">Python3网络爬虫（二）：利用urllib.urlopen发送数据</a><br/>\n",
      "<a class=\"sister\" href=\"http://blog.csdn.net/c406495762/article/details/59488464\" id=\"link3\">Python3网络爬虫（三）：urllib.error异常</a><br/>\n",
      "</body>\n",
      "</html>\n",
      "\n"
     ]
    }
   ],
   "source": [
    "html = \"\"\"\n",
    "<html>\n",
    "<head>\n",
    "<title>Jack_Cui</title>\n",
    "</head>\n",
    "<body>\n",
    "<p class=\"title\" name=\"blog\"><b>My Blog</b></p>\n",
    "<li><!--注释--></li>\n",
    "<a href=\"http://blog.csdn.net/c406495762/article/details/58716886\" class=\"sister\" id=\"link1\">Python3网络爬虫（一）：利用urllib进行简单点网页抓取</a><br/>\n",
    "<a href=\"http://blog.csdn.net/c406495762/article/details/59095864\" class=\"sister\" id=\"link2\">Python3网络爬虫（二）：利用urllib.urlopen发送数据</a><br/>\n",
    "<a href=\"http://blog.csdn.net/c406495762/article/details/59488464\" class=\"sister\" id=\"link3\">Python3网络爬虫（三）：urllib.error异常</a><br/>\n",
    "</body>\n",
    "</html>\n",
    "\"\"\"\n",
    "\n",
    "soup = BeautifulSoup(html, 'lxml')\n",
    "print(soup)"
   ]
  },
  {
   "cell_type": "code",
   "execution_count": 5,
   "metadata": {
    "scrolled": true
   },
   "outputs": [
    {
     "name": "stdout",
     "output_type": "stream",
     "text": [
      "<!DOCTYPE html>\n",
      "<html lang=\"en\">\n",
      "<head>\n",
      "<meta charset=\"utf-8\"/>\n",
      "<title>Jack_Cui</title>\n",
      "</head>\n",
      "<body>\n",
      "<p class=\"title\" name=\"blog\"><b>My Blog</b></p>\n",
      "<li><!--注释--></li>\n",
      "<a class=\"sister\" href=\"http://blog.csdn.net/c406495762/article/details/58716886\" id=\"link1\">Python3网络爬虫（一）：利用urllib进行简单点网页抓取</a><br/>\n",
      "<a class=\"sister\" href=\"http://blog.csdn.net/c406495762/article/details/59095864\" id=\"link2\">Python3网络爬虫（二）：利用urllib.urlopen发送数据</a><br/>\n",
      "<a class=\"sister\" href=\"http://blog.csdn.net/c406495762/article/details/59488464\" id=\"link3\">Python3网络爬虫（三）：urllib.error异常</a><br/>\n",
      "</body>\n",
      "</html>\n",
      "\n"
     ]
    }
   ],
   "source": [
    "soup_1 = BeautifulSoup(open('test_1.html'), 'lxml')\n",
    "print(soup_1)"
   ]
  },
  {
   "cell_type": "code",
   "execution_count": 6,
   "metadata": {},
   "outputs": [
    {
     "name": "stdout",
     "output_type": "stream",
     "text": [
      "<!DOCTYPE html>\n",
      "<html lang=\"en\">\n",
      " <head>\n",
      "  <meta charset=\"utf-8\"/>\n",
      "  <title>\n",
      "   Jack_Cui\n",
      "  </title>\n",
      " </head>\n",
      " <body>\n",
      "  <p class=\"title\" name=\"blog\">\n",
      "   <b>\n",
      "    My Blog\n",
      "   </b>\n",
      "  </p>\n",
      "  <li>\n",
      "   <!--注释-->\n",
      "  </li>\n",
      "  <a class=\"sister\" href=\"http://blog.csdn.net/c406495762/article/details/58716886\" id=\"link1\">\n",
      "   Python3网络爬虫（一）：利用urllib进行简单点网页抓取\n",
      "  </a>\n",
      "  <br/>\n",
      "  <a class=\"sister\" href=\"http://blog.csdn.net/c406495762/article/details/59095864\" id=\"link2\">\n",
      "   Python3网络爬虫（二）：利用urllib.urlopen发送数据\n",
      "  </a>\n",
      "  <br/>\n",
      "  <a class=\"sister\" href=\"http://blog.csdn.net/c406495762/article/details/59488464\" id=\"link3\">\n",
      "   Python3网络爬虫（三）：urllib.error异常\n",
      "  </a>\n",
      "  <br/>\n",
      " </body>\n",
      "</html>\n",
      "\n"
     ]
    }
   ],
   "source": [
    "print(soup_1.prettify())"
   ]
  },
  {
   "cell_type": "code",
   "execution_count": 7,
   "metadata": {},
   "outputs": [
    {
     "name": "stdout",
     "output_type": "stream",
     "text": [
      "<title>Jack_Cui</title>\n"
     ]
    }
   ],
   "source": [
    "print(soup.title)"
   ]
  },
  {
   "cell_type": "code",
   "execution_count": 8,
   "metadata": {},
   "outputs": [
    {
     "name": "stdout",
     "output_type": "stream",
     "text": [
      "<head>\n",
      "<title>Jack_Cui</title>\n",
      "</head>\n"
     ]
    }
   ],
   "source": [
    "print(soup.head)"
   ]
  },
  {
   "cell_type": "code",
   "execution_count": 9,
   "metadata": {},
   "outputs": [
    {
     "name": "stdout",
     "output_type": "stream",
     "text": [
      "<a class=\"sister\" href=\"http://blog.csdn.net/c406495762/article/details/58716886\" id=\"link1\">Python3网络爬虫（一）：利用urllib进行简单点网页抓取</a>\n"
     ]
    }
   ],
   "source": [
    "print(soup.a)"
   ]
  },
  {
   "cell_type": "code",
   "execution_count": 10,
   "metadata": {},
   "outputs": [
    {
     "name": "stdout",
     "output_type": "stream",
     "text": [
      "<p class=\"title\" name=\"blog\"><b>My Blog</b></p>\n"
     ]
    }
   ],
   "source": [
    "print(soup.p)"
   ]
  },
  {
   "cell_type": "code",
   "execution_count": 11,
   "metadata": {},
   "outputs": [
    {
     "name": "stdout",
     "output_type": "stream",
     "text": [
      "<class 'bs4.element.Tag'>\n"
     ]
    }
   ],
   "source": [
    "print(type(soup.title))"
   ]
  },
  {
   "cell_type": "code",
   "execution_count": 12,
   "metadata": {},
   "outputs": [
    {
     "name": "stdout",
     "output_type": "stream",
     "text": [
      "[document]\n"
     ]
    }
   ],
   "source": [
    "print(soup.name)"
   ]
  },
  {
   "cell_type": "code",
   "execution_count": 13,
   "metadata": {},
   "outputs": [
    {
     "name": "stdout",
     "output_type": "stream",
     "text": [
      "title\n"
     ]
    }
   ],
   "source": [
    "print(soup.title.name)"
   ]
  },
  {
   "cell_type": "code",
   "execution_count": 14,
   "metadata": {},
   "outputs": [
    {
     "name": "stdout",
     "output_type": "stream",
     "text": [
      "{'href': 'http://blog.csdn.net/c406495762/article/details/58716886', 'class': ['sister'], 'id': 'link1'}\n"
     ]
    }
   ],
   "source": [
    "print(soup.a.attrs)"
   ]
  },
  {
   "cell_type": "code",
   "execution_count": 15,
   "metadata": {},
   "outputs": [
    {
     "name": "stdout",
     "output_type": "stream",
     "text": [
      "['sister']\n"
     ]
    }
   ],
   "source": [
    "print(soup.a['class'])"
   ]
  },
  {
   "cell_type": "code",
   "execution_count": 16,
   "metadata": {},
   "outputs": [
    {
     "name": "stdout",
     "output_type": "stream",
     "text": [
      "['sister']\n"
     ]
    }
   ],
   "source": [
    "print(soup.a.get('class'))"
   ]
  },
  {
   "cell_type": "code",
   "execution_count": 17,
   "metadata": {},
   "outputs": [
    {
     "name": "stdout",
     "output_type": "stream",
     "text": [
      "Jack_Cui\n"
     ]
    }
   ],
   "source": [
    "print(soup.title.string)"
   ]
  },
  {
   "cell_type": "code",
   "execution_count": 18,
   "metadata": {},
   "outputs": [
    {
     "name": "stdout",
     "output_type": "stream",
     "text": [
      "<class 'str'>\n"
     ]
    }
   ],
   "source": [
    "print(type(soup.name))"
   ]
  },
  {
   "cell_type": "code",
   "execution_count": 19,
   "metadata": {},
   "outputs": [
    {
     "name": "stdout",
     "output_type": "stream",
     "text": [
      "[document]\n"
     ]
    }
   ],
   "source": [
    "print(soup.name)"
   ]
  },
  {
   "cell_type": "code",
   "execution_count": 20,
   "metadata": {},
   "outputs": [
    {
     "name": "stdout",
     "output_type": "stream",
     "text": [
      "{}\n"
     ]
    }
   ],
   "source": [
    "print(soup.attrs)"
   ]
  },
  {
   "cell_type": "code",
   "execution_count": 21,
   "metadata": {},
   "outputs": [
    {
     "name": "stdout",
     "output_type": "stream",
     "text": [
      "<li><!--注释--></li>\n"
     ]
    }
   ],
   "source": [
    "print(soup.li)"
   ]
  },
  {
   "cell_type": "code",
   "execution_count": 22,
   "metadata": {},
   "outputs": [
    {
     "name": "stdout",
     "output_type": "stream",
     "text": [
      "注释\n"
     ]
    }
   ],
   "source": [
    "print(soup.li.string)"
   ]
  },
  {
   "cell_type": "code",
   "execution_count": 23,
   "metadata": {},
   "outputs": [
    {
     "name": "stdout",
     "output_type": "stream",
     "text": [
      "<class 'bs4.element.Comment'>\n"
     ]
    }
   ],
   "source": [
    "print(type(soup.li.string))"
   ]
  },
  {
   "cell_type": "code",
   "execution_count": 24,
   "metadata": {},
   "outputs": [
    {
     "name": "stdout",
     "output_type": "stream",
     "text": [
      "注释\n"
     ]
    }
   ],
   "source": [
    "from bs4 import element\n",
    "\n",
    "if type(soup.li.string) == element.Comment:\n",
    "    print(soup.li.string)"
   ]
  },
  {
   "cell_type": "code",
   "execution_count": 25,
   "metadata": {},
   "outputs": [
    {
     "name": "stdout",
     "output_type": "stream",
     "text": [
      "['\\n', <p class=\"title\" name=\"blog\"><b>My Blog</b></p>, '\\n', <li><!--注释--></li>, '\\n', <a class=\"sister\" href=\"http://blog.csdn.net/c406495762/article/details/58716886\" id=\"link1\">Python3网络爬虫（一）：利用urllib进行简单点网页抓取</a>, <br/>, '\\n', <a class=\"sister\" href=\"http://blog.csdn.net/c406495762/article/details/59095864\" id=\"link2\">Python3网络爬虫（二）：利用urllib.urlopen发送数据</a>, <br/>, '\\n', <a class=\"sister\" href=\"http://blog.csdn.net/c406495762/article/details/59488464\" id=\"link3\">Python3网络爬虫（三）：urllib.error异常</a>, <br/>, '\\n']\n"
     ]
    }
   ],
   "source": [
    "print(soup.body.contents)"
   ]
  },
  {
   "cell_type": "code",
   "execution_count": 27,
   "metadata": {},
   "outputs": [
    {
     "name": "stdout",
     "output_type": "stream",
     "text": [
      "<p class=\"title\" name=\"blog\"><b>My Blog</b></p>\n"
     ]
    }
   ],
   "source": [
    "print(soup.body.contents[1])"
   ]
  },
  {
   "cell_type": "code",
   "execution_count": 28,
   "metadata": {},
   "outputs": [
    {
     "name": "stdout",
     "output_type": "stream",
     "text": [
      "\n",
      "\n",
      "<p class=\"title\" name=\"blog\"><b>My Blog</b></p>\n",
      "\n",
      "\n",
      "<li><!--注释--></li>\n",
      "\n",
      "\n",
      "<a class=\"sister\" href=\"http://blog.csdn.net/c406495762/article/details/58716886\" id=\"link1\">Python3网络爬虫（一）：利用urllib进行简单点网页抓取</a>\n",
      "<br/>\n",
      "\n",
      "\n",
      "<a class=\"sister\" href=\"http://blog.csdn.net/c406495762/article/details/59095864\" id=\"link2\">Python3网络爬虫（二）：利用urllib.urlopen发送数据</a>\n",
      "<br/>\n",
      "\n",
      "\n",
      "<a class=\"sister\" href=\"http://blog.csdn.net/c406495762/article/details/59488464\" id=\"link3\">Python3网络爬虫（三）：urllib.error异常</a>\n",
      "<br/>\n",
      "\n",
      "\n"
     ]
    }
   ],
   "source": [
    "for child in soup.body.children:\n",
    "    print(child)"
   ]
  },
  {
   "cell_type": "code",
   "execution_count": 29,
   "metadata": {},
   "outputs": [
    {
     "name": "stdout",
     "output_type": "stream",
     "text": [
      "[<a class=\"sister\" href=\"http://blog.csdn.net/c406495762/article/details/58716886\" id=\"link1\">Python3网络爬虫（一）：利用urllib进行简单点网页抓取</a>, <a class=\"sister\" href=\"http://blog.csdn.net/c406495762/article/details/59095864\" id=\"link2\">Python3网络爬虫（二）：利用urllib.urlopen发送数据</a>, <a class=\"sister\" href=\"http://blog.csdn.net/c406495762/article/details/59488464\" id=\"link3\">Python3网络爬虫（三）：urllib.error异常</a>]\n"
     ]
    }
   ],
   "source": [
    "print(soup.find_all('a'))"
   ]
  },
  {
   "cell_type": "code",
   "execution_count": 30,
   "metadata": {},
   "outputs": [
    {
     "name": "stdout",
     "output_type": "stream",
     "text": [
      "body\n",
      "b\n",
      "br\n",
      "br\n",
      "br\n"
     ]
    }
   ],
   "source": [
    "import re\n",
    "\n",
    "for tag in soup.find_all(re.compile(\"^b\")):\n",
    "    print(tag.name)"
   ]
  },
  {
   "cell_type": "code",
   "execution_count": 31,
   "metadata": {},
   "outputs": [
    {
     "name": "stdout",
     "output_type": "stream",
     "text": [
      "[<title>Jack_Cui</title>, <b>My Blog</b>]\n"
     ]
    }
   ],
   "source": [
    "print(soup.find_all(['title', 'b']))"
   ]
  },
  {
   "cell_type": "code",
   "execution_count": 32,
   "metadata": {},
   "outputs": [
    {
     "name": "stdout",
     "output_type": "stream",
     "text": [
      "html\n",
      "head\n",
      "title\n",
      "body\n",
      "p\n",
      "b\n",
      "li\n",
      "a\n",
      "br\n",
      "a\n",
      "br\n",
      "a\n",
      "br\n"
     ]
    }
   ],
   "source": [
    "for tag in soup.find_all(True):\n",
    "    print(tag.name)"
   ]
  },
  {
   "cell_type": "code",
   "execution_count": 33,
   "metadata": {},
   "outputs": [
    {
     "name": "stdout",
     "output_type": "stream",
     "text": [
      "['Python3网络爬虫（三）：urllib.error异常']\n"
     ]
    }
   ],
   "source": [
    "print(soup.find_all(text=\"Python3网络爬虫（三）：urllib.error异常\"))"
   ]
  },
  {
   "cell_type": "code",
   "execution_count": 34,
   "metadata": {},
   "outputs": [
    {
     "name": "stdout",
     "output_type": "stream",
     "text": [
      "[<a class=\"sister\" href=\"http://blog.csdn.net/c406495762/article/details/58716886\" id=\"link1\">Python3网络爬虫（一）：利用urllib进行简单点网页抓取</a>, <a class=\"sister\" href=\"http://blog.csdn.net/c406495762/article/details/59095864\" id=\"link2\">Python3网络爬虫（二）：利用urllib.urlopen发送数据</a>]\n"
     ]
    }
   ],
   "source": [
    "print(soup.find_all(\"a\", limit=2))"
   ]
  },
  {
   "cell_type": "code",
   "execution_count": 35,
   "metadata": {},
   "outputs": [
    {
     "name": "stdout",
     "output_type": "stream",
     "text": [
      "[<p class=\"title\" name=\"blog\"><b>My Blog</b></p>]\n"
     ]
    }
   ],
   "source": [
    "print(soup.find_all(class_='title'))"
   ]
  },
  {
   "cell_type": "markdown",
   "metadata": {},
   "source": [
    "## 爬取《一念永恒》第一章 http://www.biqukan.com/1_1094/5403177.html 的内容"
   ]
  },
  {
   "cell_type": "code",
   "execution_count": 42,
   "metadata": {},
   "outputs": [
    {
     "name": "stdout",
     "output_type": "stream",
     "text": [
      "帽儿山，位于东林山脉中，山下有一个村子，民风淳朴，以耕田为生，与世隔绝。\r\n",
      "\n",
      "清晨，村庄的大门前，整个村子里的乡亲，正为一个十五六岁少年送别，这少年瘦弱，但却白白净净，看起来很是乖巧，衣着尽管是寻常的青衫，可却洗的泛白，穿在这少年的身上，与他目中的纯净搭配在一起，透出一股子灵动。\r\n",
      "\n",
      "他叫白小纯。\r\n",
      "\n",
      "“父老乡亲们，我要去修仙了，可我舍不得你们啊。”少年满脸不舍，原本就乖巧的样子，此刻看起来更为纯朴。\r\n",
      "\n",
      "四周的乡亲，面面相觑，顿时摆出难舍之色。\r\n",
      "\n",
      "“小纯，你爹娘走的早，你是个……好孩子！！难道你不想长生了么，成为仙人就可以长生，能活的很久很久，走吧，雏鹰长大，总有飞出去的那一天。”人群内走出一个头发花白的老者，说道好孩子三个字时，他顿了一下。\r\n",
      "\n",
      "“在外面遇到任何事情，都要坚持下去，走出村子，就不要回来，因为你的路在前方！”老人神色慈祥，拍了拍少年的肩膀。\r\n",
      "\n",
      "“长生……”白小纯身体一震，目中慢慢坚定起来，在老者以及四周乡亲鼓励的目光下，他重重的点了点头，深深的看了一眼四周的乡亲，转身迈着大步，渐渐走出了村子。\r\n",
      "\n",
      "眼看少年的身影远去，村中的众人，一个个都激动起来，目中的难舍刹那就被喜悦代替，那之前满脸慈祥的老者，此刻也在颤抖，眼中流下泪水。\r\n",
      "\n",
      "“苍天有眼，这白鼠狼，他终于……终于走了，是谁告诉他在附近看到仙人的，你为村子立下了大功！”\r\n",
      "\n",
      "“这白鼠狼终于肯离开了，可怜我家的几只鸡，就因为这白鼠狼怕鸡打鸣，不知用了什么方法，唆使一群孩子吃鸡肉，把全村的鸡都给吃的干干净净……”\r\n",
      "\n",
      "“今天过年了！”欢呼之声，立刻在这不大的村子里，沸腾而起，甚至有人拿出了锣鼓，高兴的敲打起来。\r\n",
      "\n",
      "村子外，白小纯还没等走远，他就听到了身后村子内，传出了敲锣打鼓的声音，还夹着欢呼。\r\n",
      "\n",
      "白小纯脚步一顿，神色有些古怪，干咳一声，伴随着耳边传来的锣鼓，白小纯顺着山路，走上了帽儿山。\r\n",
      "\n",
      "这帽儿山虽不高，却灌木杂多，虽是清晨，可看起来也是黑压压一片，很是安静。\r\n",
      "\n",
      "“听二狗说，他前几天在这里被一头野猪追赶时，看到天上有仙人飞过……”白小纯走在山路上，心脏怦怦跳动时，忽然一旁的灌林中传来阵阵哗哗声，似野猪一样，这声音来的突然，让本就紧张的白小纯，顿时背后发凉。\r\n",
      "\n",
      "“谁，谁在那里！”白小纯右手快速从行囊中拿出四把斧头，六把柴刀，还觉得不放心，又从怀里取出了一小根黑色的香，死死的抓住。\r\n",
      "\n",
      "“别出来，千万别出来，我有斧头，有柴刀，手里的香还可以召唤天雷，能引仙人降临，你敢出来，就霹死你！”白小纯哆嗦的大喊，连滚带爬的夹着那些武器，赶紧顺着山路跑去，沿途叮当乱响，斧头柴刀掉了一地。\r\n",
      "\n",
      "或许是真的被他给吓住了，很快的哗哗声就消失，没有什么野兽跑出来，白小纯面色苍白，擦了擦冷汗，有心放弃继续上山，可一想到手中这根香是他爹娘去世前留给他的，据说是祖上曾偶然的救下一个落魄的仙人，那仙人离去时留下这根香作为报答，曾言会收下白家血脉一人为弟子，只要点燃，仙人就会到来。\r\n",
      "\n",
      "可至今为止，这根香他点过十多次，始终不见仙人到来，让白小纯开始怀疑仙人是不是真的会来，这一次之所以下定决心，一方面是香所剩不多，另一方面是他听村子里人说，头几天在这看到有仙人从天上飞过。\r\n",
      "\n",
      "所以他这才到来，想着距离仙人近一些，或许仙人就察觉到了也说不定。\r\n",
      "\n",
      "踌躇一番，白小纯咬牙继续，好在此山不高，不久他气喘吁吁的到了山顶，站在那里，他遥望山下的村庄，神色颇为感慨，又低头看着手中的只有指甲盖大小的黑香，此香似乎被燃烧了好多次，所剩不多。\r\n",
      "\n",
      "“三年了，爹娘保佑我，这次一定要成功！”白小纯深吸口气，小心的将香点燃，立刻四周狂风顿起，天空更是眨眼间乌云密布，一道道闪电划过，还有震耳欲聋的雷鸣在白小纯耳边直接炸开。\r\n",
      "\n",
      "声音之大，气势之强，让白小纯身体哆嗦，有种随时会被雷霹死的感觉，下意识的就想要吐口唾沫将那根香灭掉，但却挣扎忍住。\r\n",
      "\n",
      "“三年了，我点这根香点了十二次，这是第十三次，这次一定要忍住，小纯不怕，应该不会被劈死……”白小纯想起了这三年的经历，不算这次，点了十二次，每次都是这样的雷鸣闪电，仙人也没有到来，吓的本就怕死的他每次都吐口唾沫将其熄灭，说来也怪，这根香看似不凡，可实际上一样是浇水就灭。\r\n",
      "\n",
      "在白小纯这里心惊肉跳，艰难的于那雷声中等待时，距离这里不远处的天空上，有一道长虹正急速的呼啸而来。\r\n",
      "\n",
      "长虹内是一个中年男子，这男子衣着华丽，仙风道骨，可偏偏风尘仆仆，甚至仔细去看，可以看到他神色内深深的疲惫。\r\n",
      "\n",
      "“我倒要看看，到底是个什么样的人，竟然点根香点了三年！”\r\n",
      "\n",
      "一想到自己这三年的经历，中年男子就气恼，三年前他察觉有人点燃自己还是凝气时送出的香药，想起了当年在凡俗中的一段人情。\r\n",
      "\n",
      "这才飞出寻来，原本按照他的打算，很快就会回来，可没成想，刚寻着香气过去，还没等多远，那气息就瞬间消失，断了联系。若是一次也就罢了，这三年，气息出现了十多次。\r\n",
      "\n",
      "使得他这里，多次在寻找时中断，就这样来来回回，折腾了三年……\r\n",
      "\n",
      "此刻他遥遥的看到了帽儿山，看到了山顶上白小纯，气不打一处来，一瞬飞出，直接就站在了山顶，大手一挥，那根所剩不多的香，直接熄灭。\r\n",
      "\n",
      "雷声刹那消失，白小纯愣了一下，抬头一看，看到了自己的身边多了一个中年男子。\r\n",
      "\n",
      "“仙人？”白小纯小心翼翼的开口，有些拿不准，背后偷偷捡起一把斧头。\r\n",
      "\n",
      "“本座李青候，你是白家后人？”中年修士目光如电，无视白小纯身后的斧子，打量了白小纯一番，觉得眼前此子眉清目秀，依稀与当年的故人相似，资质也不错，心底的恼意，也不由缓了一些。\r\n",
      "\n",
      "“晚辈正是白家后人，白小纯。”白小纯眨了眨眼，小声说道，虽然心中有些畏惧，但还是挺了挺腰板。\r\n",
      "\n",
      "“我问你，点一根香，为什么点了三年！”中年修士淡淡开口，问出了他这三年里，最想要知道的问题。\r\n",
      "\n",
      "白小纯听到这个问题，脑筋飞速转动，然后脸上摆出惆怅，遥望山下的村庄。\r\n",
      "\n",
      "“晚辈是一个重情重义的人，舍不得那些乡亲们，每一次我点燃香，他们也都不舍得我离去，如今山下的他们，还在因为我的离去而悲伤呢。”\r\n",
      "\n",
      "中年修士一愣，这个缘由，是他之前没想到的，目中的恼色又少了一些，单单从话语上看，此子的本性还是不错的。\r\n",
      "\n",
      "可当他的目光落在山下的村子时，他的神识随之扫过，听到了村子里的敲锣打鼓以及那一句句欢呼白鼠狼离去的话语，面色立刻难看起来，有些头疼，看着眼前这个外表乖巧纯朴，人畜无害的白小纯，已心底明朗对方实际上一肚子坏水。\r\n",
      "\n",
      "“说实话！”中年修士一瞪眼，声音如同雷声一样，白小纯吓得一个哆嗦。\r\n",
      "\n",
      "“这不怨我啊，你那什么破香啊，每次点燃都会打雷，好几次都差点霹死我，我躲过了十三次，已经很不容易了。”白小纯可怜兮兮的说道。\r\n",
      "\n",
      "中年修士看着白小纯，半晌无语。\r\n",
      "\n",
      "“既然你这么害怕，为什么还要强行去点香十多次？”中年修士缓缓开口。\r\n",
      "\n",
      "“我怕死啊，修仙不是能长生么，我想长生啊。”白小纯委屈的说道。\r\n",
      "\n",
      "中年修士再次无语，不过觉得此子总算执念可嘉，扔到门派里磨炼一番，或可在性子上改变一二。\r\n",
      "\n",
      "于是略一思索，大袖一甩卷着白小纯化作一道长虹，直奔天边而去。\r\n",
      "\n",
      "“跟我走吧。”\r\n",
      "\n",
      "“去哪？这也太高了吧……”白小纯看到自己在天上飞，下面是万丈深渊，立刻脸色苍白，斧头一扔，死死的抱住仙人的大腿。\r\n",
      "\n",
      "中年修士看了眼自己的腿，无奈开口。\r\n",
      "\n",
      "“灵溪宗。”\r\n",
      "\n",
      "兄弟姐妹们，阔别2个月，你们想不想我啊，我非常想你们！\r\n",
      "\n",
      "这本书，我做了详细的大纲，每次回顾大纲里的情节，都很兴奋，有种燃烧的感觉，我非常满意，明天，正式更新，依旧是中午一章，晚上一章！\r\n",
      "\n",
      "很兴奋，我们已沉寂了数月，如今归来，要……再战起点！\r\n",
      "\n",
      "新书期，兄弟姐妹，别忘了收藏与推荐啊，收藏与推荐至关重要！\r\n",
      "\n",
      "求收藏！！求推荐！！\r\n",
      "\n",
      "让众人知晓，我们……归来了！\r\n",
      "\n",
      "我们的目标，依旧是……点击榜，推荐榜，第一！xh:.181.241.250　　https://www.biqukan.com/1_1094/5403177.html　　请记住本书首发域名：www.biqukan.com。笔趣阁手机版阅读网址：wap.biqukan.com\n"
     ]
    }
   ],
   "source": [
    "from urllib import request\n",
    "from bs4 import BeautifulSoup\n",
    "\n",
    "download_url = 'http://www.biqukan.com/1_1094/5403177.html'\n",
    "head = {}\n",
    "head['User-Agent'] = 'Mozilla/5.0 (Linux; Android 4.1.1; Nexus 7 Build/JRO03D) AppleWebKit/535.19 (KHTML, like Gecko) Chrome/18.0.1025.166  Safari/535.19'\n",
    "download_req = request.Request(url = download_url, headers = head)\n",
    "download_response = request.urlopen(download_req)\n",
    "download_html = download_response.read().replace(b'\\r',b'\\r\\n').decode('gbk', 'ignore')#注意修改\\r替换为\\r\\n，以免一直被最后一行覆盖\n",
    "soup_texts = BeautifulSoup(download_html, 'lxml')\n",
    "texts = soup_texts.find_all(id = 'content', class_ = 'showtxt')\n",
    "soup_text = BeautifulSoup(str(texts), 'lxml')\n",
    "\n",
    "print(soup_text.div.text.replace('\\xa0',''))"
   ]
  },
  {
   "cell_type": "markdown",
   "metadata": {},
   "source": [
    "## 爬取《一念永恒》全部章节内容，保存到txt文件中"
   ]
  },
  {
   "cell_type": "code",
   "execution_count": 43,
   "metadata": {},
   "outputs": [
    {
     "name": "stdout",
     "output_type": "stream",
     "text": [
      "章节目录:https://www.biqukan.com/1_1094/5386268.html\n",
      "外传1 柯父。:https://www.biqukan.com/1_1094/5386269.html\n",
      "外传2 楚玉嫣。:https://www.biqukan.com/1_1094/5386270.html\n",
      "外传3 鹦鹉与皮冻。:https://www.biqukan.com/1_1094/5386271.html\n",
      "第一章 他叫白小纯:https://www.biqukan.com/1_1094/5403177.html\n",
      "第二章 火灶房:https://www.biqukan.com/1_1094/5428081.html\n",
      "第三章 六句真言:https://www.biqukan.com/1_1094/5433843.html\n",
      "第四章 炼灵:https://www.biqukan.com/1_1094/5447905.html\n",
      "第五章 万一丢了小命咋办:https://www.biqukan.com/1_1094/5451035.html\n",
      "第六章 灵气上头:https://www.biqukan.com/1_1094/5457635.html\n",
      "正文:https://www.biqukan.com/1_1094/5468473.html\n",
      "第七章 龟纹认主:https://www.biqukan.com/1_1094/5468474.html\n",
      "第八章 我和你拼了！:https://www.biqukan.com/1_1094/5472334.html\n",
      "第九章 延年益寿丹:https://www.biqukan.com/1_1094/5480646.html\n",
      "第十章 师兄别走:https://www.biqukan.com/1_1094/5485337.html\n",
      "第十一章 侯小妹:https://www.biqukan.com/1_1094/5514174.html\n",
      "第十二章 篱笆墙上:https://www.biqukan.com/1_1094/5523833.html\n",
      "第十三章 你也来吧！:https://www.biqukan.com/1_1094/5546163.html\n",
      "第十四章 三师兄？三师姐？:https://www.biqukan.com/1_1094/5552312.html\n",
      "第十五章 不死长生功！:https://www.biqukan.com/1_1094/5571525.html\n",
      "第十六章 心细入微:https://www.biqukan.com/1_1094/5576469.html\n",
      "第十七章 小乌龟:https://www.biqukan.com/1_1094/5590802.html\n",
      "第十八章 引领气氛！:https://www.biqukan.com/1_1094/5593773.html\n",
      "第十九章 白鼠狼的传说:https://www.biqukan.com/1_1094/5608623.html\n",
      "第二十章 一地鸡毛:https://www.biqukan.com/1_1094/5611260.html\n",
      "第二十一章 小纯哥哥……:https://www.biqukan.com/1_1094/5621379.html\n",
      "第二十二章 师姐放心！:https://www.biqukan.com/1_1094/5624052.html\n",
      "第二十三章 偷鸡狂魔:https://www.biqukan.com/1_1094/5628174.html\n",
      "第二十四章 你是谁:https://www.biqukan.com/1_1094/5633005.html\n",
      "第二十五章 不死铁皮！:https://www.biqukan.com/1_1094/5638811.html\n",
      "第二十六章 灵位鸡好吃么？:https://www.biqukan.com/1_1094/5647433.html\n",
      "第二十七章 这……这是竹子？:https://www.biqukan.com/1_1094/5652658.html\n",
      "第二十八章 压力才是动力:https://www.biqukan.com/1_1094/5662778.html\n",
      "第二十九章 举重若轻:https://www.biqukan.com/1_1094/5665335.html\n",
      "第三十章 来吧！:https://www.biqukan.com/1_1094/5676615.html\n",
      "第三十一章 耻辱啊！:https://www.biqukan.com/1_1094/5679107.html\n",
      "第三十二章 运气逆天:https://www.biqukan.com/1_1094/5684578.html\n",
      "第三十三章 打倒白小纯！:https://www.biqukan.com/1_1094/5686552.html\n",
      "第三十四章 草木碾压:https://www.biqukan.com/1_1094/5696066.html\n",
      "第三十五章 又见许宝财:https://www.biqukan.com/1_1094/5696432.html\n",
      "第三十六章 小乌龟称霸！:https://www.biqukan.com/1_1094/5698212.html\n",
      "第三十七章 举轻若重:https://www.biqukan.com/1_1094/5700352.html\n",
      "第三十八章 紫气化鼎:https://www.biqukan.com/1_1094/5702552.html\n",
      "第三十九章 碾压……:https://www.biqukan.com/1_1094/5706196.html\n",
      "第四十章 追求极致:https://www.biqukan.com/1_1094/5708227.html\n",
      "第四十一章 炼灵之效:https://www.biqukan.com/1_1094/5715301.html\n",
      "第四十二章 晋升考核:https://www.biqukan.com/1_1094/5716953.html\n",
      "第四十三章 很慢……很慢……:https://www.biqukan.com/1_1094/5751738.html\n",
      "第四十四章 天都亮了:https://www.biqukan.com/1_1094/5771357.html\n",
      "第四十五章 弄死你不难！:https://www.biqukan.com/1_1094/5814894.html\n",
      "第四十六章 执法堂的任务！:https://www.biqukan.com/1_1094/5822748.html\n",
      "第四十七章 小纯出宗门:https://www.biqukan.com/1_1094/5849243.html\n",
      "第四十八章 这个世界:https://www.biqukan.com/1_1094/5855788.html\n",
      "第四十九章 落陈家族:https://www.biqukan.com/1_1094/5873532.html\n",
      "第五十章 诡异庭院:https://www.biqukan.com/1_1094/5882909.html\n",
      "第五十一章 冯师兄是个好人啊:https://www.biqukan.com/1_1094/5899569.html\n",
      "第五十二章 落陈叛变:https://www.biqukan.com/1_1094/5904311.html\n",
      "第五十三章 勇气！:https://www.biqukan.com/1_1094/5910295.html\n",
      "第五十四章 道义在心！:https://www.biqukan.com/1_1094/5922361.html\n",
      "第五十五章 少主陈恒！:https://www.biqukan.com/1_1094/5926235.html\n",
      "第五十六章 相依为命:https://www.biqukan.com/1_1094/5936334.html\n",
      "第五十七章 我们都要活下去！:https://www.biqukan.com/1_1094/5941123.html\n",
      "第五十八章 困兽犹斗！:https://www.biqukan.com/1_1094/5953553.html\n",
      "第五十九章 你死我活！:https://www.biqukan.com/1_1094/5956603.html\n",
      "第六十章 生死激战:https://www.biqukan.com/1_1094/5966965.html\n",
      "第六十一章 绝命一击！:https://www.biqukan.com/1_1094/5970187.html\n",
      "第六十二章 牛刀杀鸡！:https://www.biqukan.com/1_1094/5978227.html\n",
      "第六十三章 碾压落陈！:https://www.biqukan.com/1_1094/5983778.html\n",
      "第六十四章 精神与葬礼:https://www.biqukan.com/1_1094/5989657.html\n",
      "第六十五章 守陵人:https://www.biqukan.com/1_1094/5993425.html\n",
      "第六十六章 为宗门赴汤蹈火:https://www.biqukan.com/1_1094/6009688.html\n",
      "第六十七章 师兄，咱师傅呢？:https://www.biqukan.com/1_1094/6011969.html\n",
      "第六十八章 师侄们，别跑！:https://www.biqukan.com/1_1094/6015482.html\n",
      "第六十九章 白小纯，少主让你去拜见:https://www.biqukan.com/1_1094/6019000.html\n",
      "第七十章 嗨，李师兄:https://www.biqukan.com/1_1094/6021396.html\n",
      "第七十一章 活着的荣耀苗子:https://www.biqukan.com/1_1094/6028906.html\n",
      "第七十二章 师门有规:https://www.biqukan.com/1_1094/6031601.html\n",
      "第七十三章 是谁干的！:https://www.biqukan.com/1_1094/6038546.html\n",
      "第七十四章 原来是白小纯！:https://www.biqukan.com/1_1094/6040719.html\n",
      "第七十五章 我冤枉啊！！:https://www.biqukan.com/1_1094/6048415.html\n",
      "第七十六章 凝气八层！:https://www.biqukan.com/1_1094/6051862.html\n",
      "第七十七章 拍卖会:https://www.biqukan.com/1_1094/6060708.html\n",
      "第七十八章 他们是在说我么:https://www.biqukan.com/1_1094/6063009.html\n",
      "第七十九章 小纯，我们信了:https://www.biqukan.com/1_1094/6070079.html\n",
      "第八十章 张大胖的天赋:https://www.biqukan.com/1_1094/6071881.html\n",
      "第八十一章 念灵古法:https://www.biqukan.com/1_1094/6077164.html\n",
      "第八十二章 南岸天骄:https://www.biqukan.com/1_1094/6079417.html\n",
      "第八十三章 请周长老出马:https://www.biqukan.com/1_1094/6081958.html\n",
      "第八十四章 难以置信的爆发:https://www.biqukan.com/1_1094/6084143.html\n",
      "第八十五章 他是……第一？:https://www.biqukan.com/1_1094/6085320.html\n",
      "第八十六章 又来这套……:https://www.biqukan.com/1_1094/6089175.html\n",
      "第八十七章 南北外门天骄战:https://www.biqukan.com/1_1094/6090940.html\n",
      "第八十八章 强悍的北岸:https://www.biqukan.com/1_1094/6097400.html\n",
      "第八十九章 你认输吧:https://www.biqukan.com/1_1094/6099422.html\n",
      "第九十章 北岸公敌:https://www.biqukan.com/1_1094/6106038.html\n",
      "第九十一章 疯狂的北岸:https://www.biqukan.com/1_1094/6109037.html\n",
      "第九十二章 公孙婉儿的绝望:https://www.biqukan.com/1_1094/6115691.html\n",
      "第九十三章 此丹对人也有用:https://www.biqukan.com/1_1094/6119846.html\n",
      "第九十四章 白师叔，我们是自己人:https://www.biqukan.com/1_1094/6126321.html\n",
      "第九十五章 剑，不是这么用的！:https://www.biqukan.com/1_1094/6129653.html\n",
      "第九十六章 战鬼牙:https://www.biqukan.com/1_1094/6137419.html\n",
      "第九十七章 我就是张大胖！:https://www.biqukan.com/1_1094/6140185.html\n",
      "第九十八章 龙象化海经:https://www.biqukan.com/1_1094/6142469.html\n",
      "第九十九章 找上门来:https://www.biqukan.com/1_1094/6145676.html\n",
      "第一百章 还不向你白师叔认错:https://www.biqukan.com/1_1094/6148809.html\n",
      "第一百零一章 水泽国度与元磁翅！:https://www.biqukan.com/1_1094/6156063.html\n",
      "第一百零二章 有人在么？:https://www.biqukan.com/1_1094/6157887.html\n",
      "第一百零三章 我要为宗门做贡献！:https://www.biqukan.com/1_1094/6165445.html\n",
      "第104章 我保证……:https://www.biqukan.com/1_1094/6167307.html\n",
      "第105章 动物大越狱！:https://www.biqukan.com/1_1094/6173196.html\n",
      "第106章 疯狂的兔子！:https://www.biqukan.com/1_1094/6175991.html\n",
      "第107章 天雷洗药大法:https://www.biqukan.com/1_1094/6182562.html\n",
      "第108章 讲义气的张大胖:https://www.biqukan.com/1_1094/6184729.html\n",
      "第109章 紫鼎山的小雨……:https://www.biqukan.com/1_1094/6190676.html\n",
      "第110章 发配万蛇谷:https://www.biqukan.com/1_1094/6192511.html\n",
      "第111章 触摸桎梏:https://www.biqukan.com/1_1094/6198429.html\n",
      "第112章 金风玉露一相逢！:https://www.biqukan.com/1_1094/6200147.html\n",
      "第113章 要出大事……:https://www.biqukan.com/1_1094/6202852.html\n",
      "第114章 李青候懂了……:https://www.biqukan.com/1_1094/6205984.html\n",
      "第115章 不！别传出去:https://www.biqukan.com/1_1094/6207689.html\n",
      "第116章 鼻祖惊现！！:https://www.biqukan.com/1_1094/6208937.html\n",
      "第117章 寒门药卷！:https://www.biqukan.com/1_1094/6213209.html\n",
      "第118章 不受待见……:https://www.biqukan.com/1_1094/6216550.html\n",
      "第119章 春天，我埋下了育兽种:https://www.biqukan.com/1_1094/6221953.html\n",
      "第120章 挑战白小纯！:https://www.biqukan.com/1_1094/6223619.html\n",
      "第121章 纸鹤飞满天……:https://www.biqukan.com/1_1094/6229795.html\n",
      "第122章 此战，我接受！:https://www.biqukan.com/1_1094/6231434.html\n",
      "第123章 战！:https://www.biqukan.com/1_1094/6307324.html\n",
      "第124章 驭人大法:https://www.biqukan.com/1_1094/6309733.html\n",
      "第125章 当年那只夜行兽……:https://www.biqukan.com/1_1094/6319558.html\n",
      "正文卷:https://www.biqukan.com/1_1094/6319942.html\n",
      "第126章 厚积薄发:https://www.biqukan.com/1_1094/6319943.html\n",
      "第127章 魂浮虚无:https://www.biqukan.com/1_1094/6336521.html\n",
      "第128章 灵醒！:https://www.biqukan.com/1_1094/6343578.html\n",
      "第129章 一根骨刺！:https://www.biqukan.com/1_1094/6368310.html\n",
      "第130章 育兽花开:https://www.biqukan.com/1_1094/6375667.html\n",
      "第131章 一切为了奉献:https://www.biqukan.com/1_1094/6395823.html\n",
      "第132章 本源返祖之血:https://www.biqukan.com/1_1094/6399600.html\n",
      "第133章 小不点，别试了:https://www.biqukan.com/1_1094/6411761.html\n",
      "第134章 阴魂不散……:https://www.biqukan.com/1_1094/6416533.html\n",
      "第135章 北岸大爆发！:https://www.biqukan.com/1_1094/6427835.html\n",
      "第136章 都来过了:https://www.biqukan.com/1_1094/6432634.html\n",
      "第137章 我的战兽！:https://www.biqukan.com/1_1094/6438427.html\n",
      "第138章 铁蛋的爱好……:https://www.biqukan.com/1_1094/6438428.html\n",
      "求月票:https://www.biqukan.com/1_1094/6440061.html\n",
      "第139章 不是我干的呀（第三更）:https://www.biqukan.com/1_1094/6444245.html\n",
      "第140章 筑基圣地（第四更）:https://www.biqukan.com/1_1094/6448909.html\n",
      "第141章 陨剑深渊！（第一更）:https://www.biqukan.com/1_1094/6454419.html\n",
      "第142章 各宗天骄！（第二更）:https://www.biqukan.com/1_1094/6454578.html\n",
      "第143章 一定是故意的（第三更）:https://www.biqukan.com/1_1094/6456075.html\n",
      "第144章 白爷和你拼了（第四更）:https://www.biqukan.com/1_1094/6466339.html\n",
      "第145章 必诛！（第一更）:https://www.biqukan.com/1_1094/6477193.html\n",
      "第146章 强悍！（第二更）:https://www.biqukan.com/1_1094/6480883.html\n",
      "第147章 怪丹出世！（第三更）:https://www.biqukan.com/1_1094/6485618.html\n",
      "致我可爱的读者们！:https://www.biqukan.com/1_1094/6485619.html\n",
      "第148章 哥哥，陪我玩吧:https://www.biqukan.com/1_1094/6500981.html\n",
      "第149章 只看白师叔想不想了:https://www.biqukan.com/1_1094/6505048.html\n",
      "第150章 哥哥有事……:https://www.biqukan.com/1_1094/6519360.html\n",
      "第151章 白小纯，你和我斗？！:https://www.biqukan.com/1_1094/6523228.html\n",
      "第152章 你无耻！你才无耻！:https://www.biqukan.com/1_1094/6534452.html\n",
      "第153章 潮汐，开始！:https://www.biqukan.com/1_1094/6536997.html\n",
      "第154章 大道争锋！:https://www.biqukan.com/1_1094/6548368.html\n",
      "第155章 破第一桎梏！:https://www.biqukan.com/1_1094/6553739.html\n",
      "第156章 要杀我？！:https://www.biqukan.com/1_1094/6563534.html\n",
      "第157章 逆势而上！:https://www.biqukan.com/1_1094/6566084.html\n",
      "第158章 灵溪宗，守护白小纯！:https://www.biqukan.com/1_1094/6575251.html\n",
      "第159章 不死金皮！:https://www.biqukan.com/1_1094/6577584.html\n",
      "第160章 斩天骄！:https://www.biqukan.com/1_1094/6579994.html\n",
      "第161章 废你潮汐！:https://www.biqukan.com/1_1094/6585540.html\n",
      "第162章 天脉之气！:https://www.biqukan.com/1_1094/6589554.html\n",
      "第163章 你争我夺！:https://www.biqukan.com/1_1094/6604695.html\n",
      "第164章 那又如何！:https://www.biqukan.com/1_1094/6611019.html\n",
      "第165章 夺天脉！:https://www.biqukan.com/1_1094/6628969.html\n",
      "第166章 天道筑基！:https://www.biqukan.com/1_1094/6634910.html\n",
      "第167章 九幽鬼域！:https://www.biqukan.com/1_1094/6651910.html\n",
      "第168章 微服私访……:https://www.biqukan.com/1_1094/6656220.html\n",
      "第169章 侯某从不说假话:https://www.biqukan.com/1_1094/6670213.html\n",
      "第170章 凌菲仙子:https://www.biqukan.com/1_1094/6672660.html\n",
      "第171章 刺杀白小纯！:https://www.biqukan.com/1_1094/6681869.html\n",
      "第172章 白小纯，对不起！:https://www.biqukan.com/1_1094/6684145.html\n",
      "第173章 这个世界！:https://www.biqukan.com/1_1094/6691265.html\n",
      "第174章 星空道极宗！:https://www.biqukan.com/1_1094/6693779.html\n",
      "第175章 请白师兄自重:https://www.biqukan.com/1_1094/6702706.html\n",
      "第176章 唯一隐藏传承！:https://www.biqukan.com/1_1094/6705117.html\n",
      "第177章 通天法眼！:https://www.biqukan.com/1_1094/6709683.html\n",
      "第178章 小面具，和白爷躲猫猫？:https://www.biqukan.com/1_1094/6714174.html\n",
      "第179章 我告诉你一个秘密:https://www.biqukan.com/1_1094/6716705.html\n",
      "第180章 莫非是天意……:https://www.biqukan.com/1_1094/6724541.html\n",
      "第181章 无人能镇压……:https://www.biqukan.com/1_1094/6727607.html\n",
      "第182章 我的宝珠……:https://www.biqukan.com/1_1094/6733970.html\n",
      "第183章 我很快就回来……:https://www.biqukan.com/1_1094/6735951.html\n",
      "第184章 这怎么可能！！:https://www.biqukan.com/1_1094/6743799.html\n",
      "第185章 血溪宗秘:https://www.biqukan.com/1_1094/6746163.html\n",
      "第186章 修行宝地！:https://www.biqukan.com/1_1094/6753480.html\n",
      "第187章 宋缺有个小姑……:https://www.biqukan.com/1_1094/6753483.html\n",
      "第188章 养尸坊:https://www.biqukan.com/1_1094/6762646.html\n",
      "第189章 大变毛发:https://www.biqukan.com/1_1094/6766809.html\n",
      "第190章 绿毛护主:https://www.biqukan.com/1_1094/6778941.html\n",
      "第191章 尸峰有赏:https://www.biqukan.com/1_1094/6782492.html\n",
      "第191章 尸峰有赏:https://www.biqukan.com/1_1094/6782493.html\n",
      "第192章 血崖试炼:https://www.biqukan.com/1_1094/6791497.html\n",
      "第193章 吃独食……:https://www.biqukan.com/1_1094/6795632.html\n",
      "第194章 看见本护法，还不拜见！:https://www.biqukan.com/1_1094/6805286.html\n",
      "第195章 我选择宋姐姐的中:https://www.biqukan.com/1_1094/6808767.html\n",
      "第196章 神秘世界:https://www.biqukan.com/1_1094/6819041.html\n",
      "第197章 中峰秘术！:https://www.biqukan.com/1_1094/6823152.html\n",
      "第198章 是谁暗算我！:https://www.biqukan.com/1_1094/6829650.html\n",
      "第199章 血梅的洞府……:https://www.biqukan.com/1_1094/6832809.html\n",
      "第200章 血梅少主，好巧…:https://www.biqukan.com/1_1094/6840039.html\n",
      "第201章 我白小纯……:https://www.biqukan.com/1_1094/6842463.html\n",
      "第202章 兔子急了！:https://www.biqukan.com/1_1094/6852615.html\n",
      "第203章 真以为我怕了你们！:https://www.biqukan.com/1_1094/6855038.html\n",
      "第204章 逆血返祖！:https://www.biqukan.com/1_1094/6859972.html\n",
      "第205章 真是一个好宗门啊:https://www.biqukan.com/1_1094/6865022.html\n",
      "第206章 凶名赫赫:https://www.biqukan.com/1_1094/6867542.html\n",
      "第207章 夜魔远播……:https://www.biqukan.com/1_1094/6870535.html\n",
      "第208章 宋姐姐救我:https://www.biqukan.com/1_1094/6874930.html\n",
      "第209章 会不会被灭口……:https://www.biqukan.com/1_1094/6876961.html\n",
      "第210章 大长老，请自重！:https://www.biqukan.com/1_1094/6883636.html\n",
      "第211章 绝世妖孽……:https://www.biqukan.com/1_1094/6885926.html\n",
      "第212章 血溪宗的迟疑:https://www.biqukan.com/1_1094/6894051.html\n",
      "第213章 小小哼哼子！:https://www.biqukan.com/1_1094/6896457.html\n",
      "第214章 我回来了……:https://www.biqukan.com/1_1094/6903448.html\n",
      "第215章 掐指一算！:https://www.biqukan.com/1_1094/6905944.html\n",
      "第216章 无所不知！:https://www.biqukan.com/1_1094/6912392.html\n",
      "第217章 王兽之威！:https://www.biqukan.com/1_1094/6915615.html\n",
      "第218章 谈判破裂！:https://www.biqukan.com/1_1094/6921742.html\n",
      "第219章 筑基中期:https://www.biqukan.com/1_1094/6924534.html\n",
      "第220章 圣丹残壁:https://www.biqukan.com/1_1094/6932420.html\n",
      "第221章 万物草木道:https://www.biqukan.com/1_1094/6934102.html\n",
      "第222章 我要炼药！:https://www.biqukan.com/1_1094/6939700.html\n",
      "第223章 丹炉满天飞:https://www.biqukan.com/1_1094/6941829.html\n",
      "第224章 这样不算叛宗吧:https://www.biqukan.com/1_1094/6948354.html\n",
      "第225章 夜葬，跟我回家！:https://www.biqukan.com/1_1094/6950730.html\n",
      "第226章 一切放心:https://www.biqukan.com/1_1094/6959166.html\n",
      "第227章 神秘的黑气……:https://www.biqukan.com/1_1094/6961218.html\n",
      "第228章 请问……你也是仙草么？:https://www.biqukan.com/1_1094/6970513.html\n",
      "第229章 瘟魔之称，名扬天下:https://www.biqukan.com/1_1094/6972335.html\n",
      "第230章 她若用强……怎么办:https://www.biqukan.com/1_1094/6978253.html\n",
      "第231章 我作为长辈，也有不对的地方……:https://www.biqukan.com/1_1094/6981608.html\n",
      "第232章 四鬼之力:https://www.biqukan.com/1_1094/6990820.html\n",
      "第233章 咦？你怎么不说了？:https://www.biqukan.com/1_1094/6992760.html\n",
      "第234章 真的不会炸？:https://www.biqukan.com/1_1094/6999360.html\n",
      "第235章 瘟魔来了:https://www.biqukan.com/1_1094/7001557.html\n",
      "第236章 小黑，吸了它！:https://www.biqukan.com/1_1094/7004206.html\n",
      "第237章 少泽峰的巨响:https://www.biqukan.com/1_1094/7009646.html\n",
      "第238章 五阶灵药！:https://www.biqukan.com/1_1094/7012625.html\n",
      "第239章 要不要截留呢……:https://www.biqukan.com/1_1094/7019329.html\n",
      "第240章 我太正直了:https://www.biqukan.com/1_1094/7022144.html\n",
      "第241章 血魔就是血主！:https://www.biqukan.com/1_1094/7030318.html\n",
      "第242章 血子试炼！:https://www.biqukan.com/1_1094/7032112.html\n",
      "第243章 夜葬，杀你者，贾烈！:https://www.biqukan.com/1_1094/7039860.html\n",
      "第244章 满满的恶意啊:https://www.biqukan.com/1_1094/7041885.html\n",
      "第245章 不公平！:https://www.biqukan.com/1_1094/7049375.html\n",
      "第246章 第二关:https://www.biqukan.com/1_1094/7051259.html\n",
      "第247章 这是什么？:https://www.biqukan.com/1_1094/7057873.html\n",
      "第248章 走开啊，别跟着我:https://www.biqukan.com/1_1094/7059572.html\n",
      "第249章 居然给他吃了！！:https://www.biqukan.com/1_1094/7065419.html\n",
      "第250章 杀！:https://www.biqukan.com/1_1094/7067266.html\n",
      "第251章 我的计划:https://www.biqukan.com/1_1094/7074317.html\n",
      "第252章 这一次真的不怪我:https://www.biqukan.com/1_1094/7076116.html\n",
      "第253章 十鬼天妖身！:https://www.biqukan.com/1_1094/7081937.html\n",
      "第254章 时辰到来！:https://www.biqukan.com/1_1094/7085028.html\n",
      "第255章 碎喉锁再现！:https://www.biqukan.com/1_1094/7090990.html\n",
      "第256章 你是白小纯？！:https://www.biqukan.com/1_1094/7092498.html\n",
      "第257章 小肚肚！！:https://www.biqukan.com/1_1094/7098023.html\n",
      "第258章 中峰血光！:https://www.biqukan.com/1_1094/7100137.html\n",
      "第259章 记忆，就是传承！:https://www.biqukan.com/1_1094/7106572.html\n",
      "第260章 第二血祖！:https://www.biqukan.com/1_1094/7109534.html\n",
      "第261章 杜血梅，你出来！:https://www.biqukan.com/1_1094/7115043.html\n",
      "第262章 老祖义子！:https://www.biqukan.com/1_1094/7116725.html\n",
      "第263章 闺房盗宝！:https://www.biqukan.com/1_1094/7123674.html\n",
      "第264章 延时的意外……:https://www.biqukan.com/1_1094/7125371.html\n",
      "第265章 啪啪……:https://www.biqukan.com/1_1094/7130996.html\n",
      "第266章 我回来了！:https://www.biqukan.com/1_1094/7132412.html\n",
      "第267章 你们一定很想我:https://www.biqukan.com/1_1094/7138538.html\n",
      "第268章 我们相信……:https://www.biqukan.com/1_1094/7140608.html\n",
      "第269章 誓杀夜葬:https://www.biqukan.com/1_1094/7152418.html\n",
      "第270章 若有所思:https://www.biqukan.com/1_1094/7154221.html\n",
      "第271章 真空妙有:https://www.biqukan.com/1_1094/7156931.html\n",
      "第272章 铁蛋在手，灵溪我有:https://www.biqukan.com/1_1094/7156932.html\n",
      "第271章 真空妙有:https://www.biqukan.com/1_1094/7156933.html\n",
      "第272章 铁蛋在手，灵溪我有:https://www.biqukan.com/1_1094/7156934.html\n",
      "第273章 周心琪，白某送你一场缘法:https://www.biqukan.com/1_1094/7159915.html\n",
      "第274章 也曾少年轻狂过！:https://www.biqukan.com/1_1094/7161677.html\n",
      "第275章 落陈大阵！:https://www.biqukan.com/1_1094/7168973.html\n",
      "第276章 种道第九阵:https://www.biqukan.com/1_1094/7170867.html\n",
      "第277章 阵法完成！:https://www.biqukan.com/1_1094/7190393.html\n",
      "第278章 血溪宗……到来！:https://www.biqukan.com/1_1094/7199281.html\n",
      "第279章 就凭我是中峰血子！:https://www.biqukan.com/1_1094/7222625.html\n",
      "第279章 就凭我是中峰血子！:https://www.biqukan.com/1_1094/7222626.html\n",
      "第280章 老祖，不要再战了！:https://www.biqukan.com/1_1094/7231577.html\n",
      "第281章 血溪宗，给我回去！:https://www.biqukan.com/1_1094/7251735.html\n",
      "第281章 血溪宗，给我回去！:https://www.biqukan.com/1_1094/7251736.html\n",
      "第282章 我真的懂了！:https://www.biqukan.com/1_1094/7256022.html\n",
      "第283章 现在，可以听我说话了么！:https://www.biqukan.com/1_1094/7279881.html\n",
      "第284章 旱炎出手！:https://www.biqukan.com/1_1094/7285998.html\n",
      "第285章 千面子！:https://www.biqukan.com/1_1094/7300456.html\n",
      "第286章 早上……好……:https://www.biqukan.com/1_1094/7307376.html\n",
      "第287章 女人太可怕了！:https://www.biqukan.com/1_1094/7324079.html\n",
      "第288章 天上的鸟是什么鸟……:https://www.biqukan.com/1_1094/7329576.html\n",
      "第289章 老祖，我要去战场！:https://www.biqukan.com/1_1094/7341368.html\n",
      "第290章 玄溪境内！:https://www.biqukan.com/1_1094/7346187.html\n",
      "第291章 中峰血子，法力无边，灵溪天脉，威震八方！:https://www.biqukan.com/1_1094/7359020.html\n",
      "第292章 我要……炼药！:https://www.biqukan.com/1_1094/7363603.html\n",
      "第293章 瘟魔肆虐！:https://www.biqukan.com/1_1094/7376875.html\n",
      "第294章 踏入前线:https://www.biqukan.com/1_1094/7381254.html\n",
      "第295章 拿去玩！:https://www.biqukan.com/1_1094/7394861.html\n",
      "第296章 你是活得？！:https://www.biqukan.com/1_1094/7399825.html\n",
      "第297章 杀千刀的小乌龟，我恨你！:https://www.biqukan.com/1_1094/7406711.html\n",
      "第298章 金鳄前辈，您听我说！:https://www.biqukan.com/1_1094/7408658.html\n",
      "第299章 合阵！:https://www.biqukan.com/1_1094/7414222.html\n",
      "第300章 化身之威！:https://www.biqukan.com/1_1094/7416238.html\n",
      "第301章 冲冠一怒！:https://www.biqukan.com/1_1094/7422486.html\n",
      "第302章 战场杨威！:https://www.biqukan.com/1_1094/7424508.html\n",
      "最新章节列表:https://www.biqukan.com/1_1094/7424509.html\n",
      "第302章 战场杨威！:https://www.biqukan.com/1_1094/7424510.html\n",
      "第303章 战林墓！:https://www.biqukan.com/1_1094/7430139.html\n",
      "第304章 强悍肉身！:https://www.biqukan.com/1_1094/7433260.html\n",
      "第305章 斩林墓:https://www.biqukan.com/1_1094/7440118.html\n",
      "第306章 天角斩牛！:https://www.biqukan.com/1_1094/7442057.html\n",
      "第307章 目标...白小纯！:https://www.biqukan.com/1_1094/7447972.html\n",
      "第308章 阳乌阴鸦:https://www.biqukan.com/1_1094/7450354.html\n",
      "第309章 玄溪降！:https://www.biqukan.com/1_1094/7456350.html\n",
      "第310章 杜血梅，拜见血子！:https://www.biqukan.com/1_1094/7458521.html\n",
      "第311章 那道……疤痕！！:https://www.biqukan.com/1_1094/7464389.html\n",
      "第312章 此事，弟子当仁不让！:https://www.biqukan.com/1_1094/7466637.html\n",
      "第313章 逆河宗成立！:https://www.biqukan.com/1_1094/7472914.html\n",
      "第314章 宗门在，我在！:https://www.biqukan.com/1_1094/7475419.html\n",
      "第315章 两宗之秘！:https://www.biqukan.com/1_1094/7481170.html\n",
      "第316章 真灵开眼！:https://www.biqukan.com/1_1094/7484326.html\n",
      "第316章 真灵开眼！:https://www.biqukan.com/1_1094/7484327.html\n",
      "第317章 我就是小乌龟！:https://www.biqukan.com/1_1094/7490092.html\n",
      "第318章 你全家都是小蝌蚪:https://www.biqukan.com/1_1094/7492581.html\n",
      "第319章 吞了……:https://www.biqukan.com/1_1094/7498243.html\n",
      "第320章 永夜伞！:https://www.biqukan.com/1_1094/7500280.html\n",
      "第321章 永夜伞威！:https://www.biqukan.com/1_1094/7505818.html\n",
      "第322章 小小蛤蟆怪:https://www.biqukan.com/1_1094/7508903.html\n",
      "第323章 齐聚血溪！:https://www.biqukan.com/1_1094/7514532.html\n",
      "第324章 融窍开祖:https://www.biqukan.com/1_1094/7516828.html\n",
      "第325章 血祖开眼！:https://www.biqukan.com/1_1094/7522795.html\n",
      "第326章 目标，中游！！:https://www.biqukan.com/1_1094/7525323.html\n",
      "第327章 修为突破！:https://www.biqukan.com/1_1094/7530928.html\n",
      "第328章 空榕邪树！:https://www.biqukan.com/1_1094/7533507.html\n",
      "第329章 功空河院:https://www.biqukan.com/1_1094/7539640.html\n",
      "第330章 钉邪树！:https://www.biqukan.com/1_1094/7541601.html\n",
      "第330章 钉邪树！:https://www.biqukan.com/1_1094/7541602.html\n",
      "第331章 筑基不灭:https://www.biqukan.com/1_1094/7548341.html\n",
      "第332章 一定有人保护我:https://www.biqukan.com/1_1094/7550747.html\n",
      "第333章 凤鸟凄鸣:https://www.biqukan.com/1_1094/7553341.html\n",
      "第334章 全面碾压！:https://www.biqukan.com/1_1094/7556843.html\n",
      "第335章 斩杀！:https://www.biqukan.com/1_1094/7558903.html\n",
      "第336章 斩结丹！:https://www.biqukan.com/1_1094/7564667.html\n",
      "第337章 金阳之丹！:https://www.biqukan.com/1_1094/7566712.html\n",
      "第338章 天道金丹！:https://www.biqukan.com/1_1094/7573868.html\n",
      "第339章 触摸第二层桎梏！:https://www.biqukan.com/1_1094/7575607.html\n",
      "第340章 一掌灭结丹！:https://www.biqukan.com/1_1094/7581924.html\n",
      "第341章 真灵苏醒！:https://www.biqukan.com/1_1094/7583747.html\n",
      "第342章 不死金刚丹！:https://www.biqukan.com/1_1094/7589699.html\n",
      "第343章 再无空河院，惟尊逆河宗:https://www.biqukan.com/1_1094/7591525.html\n",
      "第344章 百废俱兴:https://www.biqukan.com/1_1094/7598109.html\n",
      "第345章 不干净的东西……:https://www.biqukan.com/1_1094/7600016.html\n",
      "第346章 神秘势力再次出现！:https://www.biqukan.com/1_1094/7606228.html\n",
      "第347章 当学舌兔不再学舌……:https://www.biqukan.com/1_1094/7608003.html\n",
      "第348章 兔子的弱点……:https://www.biqukan.com/1_1094/7613808.html\n",
      "第349章 一封情书……:https://www.biqukan.com/1_1094/7615352.html\n",
      "第350章 你说谎！:https://www.biqukan.com/1_1094/7621502.html\n",
      "第350章 你说谎！:https://www.biqukan.com/1_1094/7621503.html\n",
      "第351章 来我洞府坐坐……:https://www.biqukan.com/1_1094/7623847.html\n",
      "第352章 白师兄，你进来吧:https://www.biqukan.com/1_1094/7629705.html\n",
      "第353章 所谓莽荒！:https://www.biqukan.com/1_1094/7631608.html\n",
      "第354章 指向星空道极！:https://www.biqukan.com/1_1094/7637397.html\n",
      "第355章 铁蛋渡劫！:https://www.biqukan.com/1_1094/7639003.html\n",
      "第356章 王兽紫丹！:https://www.biqukan.com/1_1094/7644573.html\n",
      "第356章 王兽紫丹！:https://www.biqukan.com/1_1094/7644574.html\n",
      "第357章 恶意而来:https://www.biqukan.com/1_1094/7646981.html\n",
      "第358章 嚣张跋扈！:https://www.biqukan.com/1_1094/7653751.html\n",
      "第359章 仗势欺人！:https://www.biqukan.com/1_1094/7655435.html\n",
      "第360章 去去去，我去！:https://www.biqukan.com/1_1094/7660814.html\n",
      "第361章 只有一个？:https://www.biqukan.com/1_1094/7662782.html\n",
      "第362章 传承开启！:https://www.biqukan.com/1_1094/7668986.html\n",
      "第363章 我拿到一个就行:https://www.biqukan.com/1_1094/7670550.html\n",
      "第364章 欺负人啊！:https://www.biqukan.com/1_1094/7676129.html\n",
      "第365章 那是什么……:https://www.biqukan.com/1_1094/7677853.html\n",
      "第366章 无耻，作弊！:https://www.biqukan.com/1_1094/7683797.html\n",
      "第367章 人山诀！:https://www.biqukan.com/1_1094/7685024.html\n",
      "第367章 人山诀！:https://www.biqukan.com/1_1094/7685025.html\n",
      "第368章 我给你们解释一下:https://www.biqukan.com/1_1094/7690705.html\n",
      "第369章 一个印记……:https://www.biqukan.com/1_1094/7692437.html\n",
      "第370章 白小纯，我要杀了你！:https://www.biqukan.com/1_1094/7697931.html\n",
      "第371章 老祖救命……:https://www.biqukan.com/1_1094/7699182.html\n",
      "第372章 他们在喊我（第三更）:https://www.biqukan.com/1_1094/7699678.html\n",
      "第373章 三息逆河丹！:https://www.biqukan.com/1_1094/7704931.html\n",
      "第374章 质子！:https://www.biqukan.com/1_1094/7706454.html\n",
      "第375章 白小纯的护道者……:https://www.biqukan.com/1_1094/7711503.html\n",
      "第376章 不请自来:https://www.biqukan.com/1_1094/7713225.html\n",
      "第377章 天尊！:https://www.biqukan.com/1_1094/7719011.html\n",
      "第378章 我会回来的！:https://www.biqukan.com/1_1094/7721377.html\n",
      "第378章 我会回来的！:https://www.biqukan.com/1_1094/7721378.html\n",
      "第379章 星空道极宗:https://www.biqukan.com/1_1094/7726131.html\n",
      "第380章 我饿了:https://www.biqukan.com/1_1094/7727777.html\n",
      "第381章 走投无路:https://www.biqukan.com/1_1094/7733129.html\n",
      "第382章 超级辟谷丹！:https://www.biqukan.com/1_1094/7734886.html\n",
      "第383章 引起关注:https://www.biqukan.com/1_1094/7740703.html\n",
      "第384章 心机手段:https://www.biqukan.com/1_1094/7742170.html\n",
      "第385章 再遇神算子:https://www.biqukan.com/1_1094/7755272.html\n",
      "第386章 还不纳头来拜？:https://www.biqukan.com/1_1094/7762085.html\n",
      "第387章 致幻丹:https://www.biqukan.com/1_1094/7769524.html\n",
      "第388章 青龙崛起:https://www.biqukan.com/1_1094/7776628.html\n",
      "第389章 人竟能这么活:https://www.biqukan.com/1_1094/7784198.html\n",
      "第390章 今夜，将那白药师擒来:https://www.biqukan.com/1_1094/7791584.html\n",
      "第391章 道友，你是张大海么？:https://www.biqukan.com/1_1094/7798409.html\n",
      "第392章 护道重逢:https://www.biqukan.com/1_1094/7805987.html\n",
      "第393章 被举报了……:https://www.biqukan.com/1_1094/7813338.html\n",
      "第394章 空域彩虹:https://www.biqukan.com/1_1094/7820051.html\n",
      "第394章 空域彩虹:https://www.biqukan.com/1_1094/7820052.html\n",
      "第395章 杜凌菲再现！！:https://www.biqukan.com/1_1094/7821485.html\n",
      "第396章 重整旗鼓！:https://www.biqukan.com/1_1094/7826524.html\n",
      "第397章 长生客栈:https://www.biqukan.com/1_1094/7827913.html\n",
      "第398章 金丹中期！:https://www.biqukan.com/1_1094/7833361.html\n",
      "第399章 宋缺的梦想……:https://www.biqukan.com/1_1094/7834872.html\n",
      "第399章 宋缺的梦想……:https://www.biqukan.com/1_1094/7834873.html\n",
      "第400章 缺儿，是你！:https://www.biqukan.com/1_1094/7840143.html\n",
      "第401章 何人如此大胆！:https://www.biqukan.com/1_1094/7841604.html\n",
      "第402章 欺上家门！:https://www.biqukan.com/1_1094/7846643.html\n",
      "第403章 你敢伤我！:https://www.biqukan.com/1_1094/7848065.html\n",
      "第404章 我是质子！:https://www.biqukan.com/1_1094/7853004.html\n",
      "第405章 送你上天……:https://www.biqukan.com/1_1094/7854628.html\n",
      "第406章 空域:https://www.biqukan.com/1_1094/7859819.html\n",
      "第407章 降……降魔堂？:https://www.biqukan.com/1_1094/7861412.html\n",
      "第408章 这里才是广场！:https://www.biqukan.com/1_1094/7865861.html\n",
      "第409章 执行任务……:https://www.biqukan.com/1_1094/7867564.html\n",
      "第410章 冯有德的惊喜！:https://www.biqukan.com/1_1094/7872483.html\n",
      "第411章 你……你在说我？:https://www.biqukan.com/1_1094/7874144.html\n",
      "第412章 小纯大怒:https://www.biqukan.com/1_1094/7878884.html\n",
      "第413章 宗门对我太好了:https://www.biqukan.com/1_1094/7880474.html\n",
      "第414章 小纯，降魔堂是你的家:https://www.biqukan.com/1_1094/7885118.html\n",
      "第415章 谁敢要白小纯小命！:https://www.biqukan.com/1_1094/7886431.html\n",
      "第416章 星空道极榜:https://www.biqukan.com/1_1094/7891040.html\n",
      "第417章 万山谷:https://www.biqukan.com/1_1094/7893697.html\n",
      "第418章 山有灵:https://www.biqukan.com/1_1094/7898578.html\n",
      "第418章 山有灵:https://www.biqukan.com/1_1094/7898579.html\n",
      "第419章 排名为尊:https://www.biqukan.com/1_1094/7900625.html\n",
      "第420章 瞧不起我！:https://www.biqukan.com/1_1094/7906279.html\n",
      "第421章 好暖和啊:https://www.biqukan.com/1_1094/7918334.html\n",
      "第422章 他在游泳？:https://www.biqukan.com/1_1094/7953292.html\n",
      "第422章 他在游泳？:https://www.biqukan.com/1_1094/7953293.html\n",
      "第423章 没有休止:https://www.biqukan.com/1_1094/7963336.html\n",
      "第424章 奇艺试炼:https://www.biqukan.com/1_1094/7991819.html\n",
      "第425章 守护者怒了:https://www.biqukan.com/1_1094/8001456.html\n",
      "第426章 不正经的桥:https://www.biqukan.com/1_1094/8030286.html\n",
      "第427章 欺负人啊！:https://www.biqukan.com/1_1094/8039680.html\n"
     ]
    },
    {
     "ename": "TypeError",
     "evalue": "can only concatenate str (not \"NoneType\") to str",
     "output_type": "error",
     "traceback": [
      "\u001b[1;31m---------------------------------------------------------------------------\u001b[0m",
      "\u001b[1;31mTypeError\u001b[0m                                 Traceback (most recent call last)",
      "\u001b[1;32m<ipython-input-43-cccd6acad219>\u001b[0m in \u001b[0;36m<module>\u001b[1;34m\u001b[0m\n\u001b[0;32m     25\u001b[0m         \u001b[1;31m# 爬取链接\u001b[0m\u001b[1;33m\u001b[0m\u001b[1;33m\u001b[0m\u001b[1;33m\u001b[0m\u001b[0m\n\u001b[0;32m     26\u001b[0m         \u001b[1;32mif\u001b[0m \u001b[0mbegin_flag\u001b[0m \u001b[1;33m==\u001b[0m \u001b[1;32mTrue\u001b[0m \u001b[1;32mand\u001b[0m \u001b[0mchild\u001b[0m\u001b[1;33m.\u001b[0m\u001b[0ma\u001b[0m \u001b[1;33m!=\u001b[0m \u001b[1;32mNone\u001b[0m\u001b[1;33m:\u001b[0m\u001b[1;33m\u001b[0m\u001b[1;33m\u001b[0m\u001b[0m\n\u001b[1;32m---> 27\u001b[1;33m             \u001b[0mdownload_url\u001b[0m \u001b[1;33m=\u001b[0m \u001b[1;34m\"https://www.biqukan.com\"\u001b[0m \u001b[1;33m+\u001b[0m \u001b[0mchild\u001b[0m\u001b[1;33m.\u001b[0m\u001b[0ma\u001b[0m\u001b[1;33m.\u001b[0m\u001b[0mget\u001b[0m\u001b[1;33m(\u001b[0m\u001b[1;34m'href'\u001b[0m\u001b[1;33m)\u001b[0m\u001b[1;33m\u001b[0m\u001b[1;33m\u001b[0m\u001b[0m\n\u001b[0m\u001b[0;32m     28\u001b[0m             \u001b[0mdownload_name\u001b[0m \u001b[1;33m=\u001b[0m \u001b[0mchild\u001b[0m\u001b[1;33m.\u001b[0m\u001b[0mstring\u001b[0m\u001b[1;33m\u001b[0m\u001b[1;33m\u001b[0m\u001b[0m\n\u001b[0;32m     29\u001b[0m             \u001b[0mprint\u001b[0m\u001b[1;33m(\u001b[0m\u001b[0mdownload_name\u001b[0m \u001b[1;33m+\u001b[0m \u001b[1;34m\":\"\u001b[0m \u001b[1;33m+\u001b[0m \u001b[0mdownload_url\u001b[0m\u001b[1;33m)\u001b[0m\u001b[1;33m\u001b[0m\u001b[1;33m\u001b[0m\u001b[0m\n",
      "\u001b[1;31mTypeError\u001b[0m: can only concatenate str (not \"NoneType\") to str"
     ]
    }
   ],
   "source": [
    "from urllib import request\n",
    "from bs4 import BeautifulSoup\n",
    "\n",
    "target_url = 'https://www.biqukan.com/1_1094/'\n",
    "head = {}\n",
    "head['User-Agent'] = 'Mozilla/5.0 (Linux; Android 4.1.1; Nexus 7 Build/JRO03D) AppleWebKit/535.19 (KHTML, like Gecko) Chrome/18.0.1025.166  Safari/535.19'\n",
    "target_req = request.Request(url=target_url, headers=head)\n",
    "target_response = request.urlopen(target_req)\n",
    "target_html = target_response.read().decode('gbk', 'ignore')\n",
    "# 创建BeautifulSoup对象\n",
    "listmain_soup = BeautifulSoup(target_html, 'lxml')\n",
    "# 搜索文档树，找出div标签中class为listmain_soup的所有子标签\n",
    "chapters = listmain_soup.find_all('div', class_='listmain')\n",
    "# 使用查询结果再创建一个BeautifulSoup对象，对其继续进行解析\n",
    "download_soup = BeautifulSoup(str(chapters),'lxml')\n",
    "# 开始记录内容标志位，只要正文卷下面的链接，最新章节列表链接删除\n",
    "begin_flag = False\n",
    "# 遍历dl标签下所有子节点\n",
    "for child in download_soup.dl.children:\n",
    "    # 滤除回车\n",
    "    if child != '\\n':\n",
    "        # 找到《一念永恒》正文卷，使能标志位\n",
    "        if child.string == u\"《一念永恒》正文卷\":\n",
    "            begin_flag = True\n",
    "        # 爬取链接\n",
    "        if begin_flag == True and child.a != None:\n",
    "            download_url = \"https://www.biqukan.com\" + child.a.get('href')\n",
    "            download_name = child.string\n",
    "            print(download_name + \":\" + download_url)"
   ]
  },
  {
   "cell_type": "code",
   "execution_count": 44,
   "metadata": {},
   "outputs": [
    {
     "name": "stdout",
     "output_type": "stream",
     "text": [
      "已下载：0.986%\r"
     ]
    },
    {
     "ename": "TypeError",
     "evalue": "can only concatenate str (not \"NoneType\") to str",
     "output_type": "error",
     "traceback": [
      "\u001b[1;31m---------------------------------------------------------------------------\u001b[0m",
      "\u001b[1;31mTypeError\u001b[0m                                 Traceback (most recent call last)",
      "\u001b[1;32m<ipython-input-44-a1fea41e2609>\u001b[0m in \u001b[0;36m<module>\u001b[1;34m\u001b[0m\n\u001b[0;32m     32\u001b[0m         \u001b[1;31m# 爬取链接\u001b[0m\u001b[1;33m\u001b[0m\u001b[1;33m\u001b[0m\u001b[1;33m\u001b[0m\u001b[0m\n\u001b[0;32m     33\u001b[0m         \u001b[1;32mif\u001b[0m \u001b[0mbegin_flag\u001b[0m \u001b[1;33m==\u001b[0m \u001b[1;32mTrue\u001b[0m \u001b[1;32mand\u001b[0m \u001b[0mchild\u001b[0m\u001b[1;33m.\u001b[0m\u001b[0ma\u001b[0m \u001b[1;33m!=\u001b[0m \u001b[1;32mNone\u001b[0m\u001b[1;33m:\u001b[0m\u001b[1;33m\u001b[0m\u001b[1;33m\u001b[0m\u001b[0m\n\u001b[1;32m---> 34\u001b[1;33m             \u001b[0mdownload_url\u001b[0m \u001b[1;33m=\u001b[0m \u001b[1;34m\"https://www.biqukan.com\"\u001b[0m \u001b[1;33m+\u001b[0m \u001b[0mchild\u001b[0m\u001b[1;33m.\u001b[0m\u001b[0ma\u001b[0m\u001b[1;33m.\u001b[0m\u001b[0mget\u001b[0m\u001b[1;33m(\u001b[0m\u001b[1;34m'href'\u001b[0m\u001b[1;33m)\u001b[0m\u001b[1;33m\u001b[0m\u001b[1;33m\u001b[0m\u001b[0m\n\u001b[0m\u001b[0;32m     35\u001b[0m             \u001b[0mdownload_req\u001b[0m \u001b[1;33m=\u001b[0m \u001b[0mrequest\u001b[0m\u001b[1;33m.\u001b[0m\u001b[0mRequest\u001b[0m\u001b[1;33m(\u001b[0m\u001b[0murl\u001b[0m\u001b[1;33m=\u001b[0m\u001b[0mdownload_url\u001b[0m\u001b[1;33m,\u001b[0m \u001b[0mheaders\u001b[0m\u001b[1;33m=\u001b[0m\u001b[0mhead\u001b[0m\u001b[1;33m)\u001b[0m\u001b[1;33m\u001b[0m\u001b[1;33m\u001b[0m\u001b[0m\n\u001b[0;32m     36\u001b[0m             \u001b[0mdownload_response\u001b[0m \u001b[1;33m=\u001b[0m \u001b[0mrequest\u001b[0m\u001b[1;33m.\u001b[0m\u001b[0murlopen\u001b[0m\u001b[1;33m(\u001b[0m\u001b[0mdownload_req\u001b[0m\u001b[1;33m)\u001b[0m\u001b[1;33m\u001b[0m\u001b[1;33m\u001b[0m\u001b[0m\n",
      "\u001b[1;31mTypeError\u001b[0m: can only concatenate str (not \"NoneType\") to str"
     ]
    }
   ],
   "source": [
    "from urllib import request\n",
    "from bs4 import BeautifulSoup\n",
    "import re\n",
    "import sys\n",
    "\n",
    "file = open('一念永恒.txt', 'w', encoding='utf-8')\n",
    "\n",
    "target_url = 'https://www.biqukan.com/1_1094/'\n",
    "head = {}\n",
    "head['User-Agent'] = 'Mozilla/5.0 (Linux; Android 4.1.1; Nexus 7 Build/JRO03D) AppleWebKit/535.19 (KHTML, like Gecko) Chrome/18.0.1025.166  Safari/535.19'\n",
    "target_req = request.Request(url=target_url, headers=head)\n",
    "target_response = request.urlopen(target_req)\n",
    "target_html = target_response.read().decode('gbk', 'ignore')\n",
    "# 创建BeautifulSoup对象\n",
    "listmain_soup = BeautifulSoup(target_html, 'lxml')\n",
    "# 搜索文档树，找出div标签中class为listmain_soup的所有子标签\n",
    "chapters = listmain_soup.find_all('div', class_='listmain')\n",
    "# 使用查询结果再创建一个BeautifulSoup对象，对其继续进行解析\n",
    "download_soup = BeautifulSoup(str(chapters),'lxml')\n",
    "# 计算章节个数\n",
    "numbers = (len(download_soup.dl.contents) - 1) / 2 - 8\n",
    "index = 1\n",
    "# 开始记录内容标志位，只要正文卷下面的链接，最新章节列表链接删除\n",
    "begin_flag = False\n",
    "# 遍历dl标签下所有子节点\n",
    "for child in download_soup.dl.children:\n",
    "    # 滤除回车\n",
    "    if child != '\\n':\n",
    "        # 找到《一念永恒》正文卷，使能标志位\n",
    "        if child.string == u\"《一念永恒》正文卷\":\n",
    "            begin_flag = True\n",
    "        # 爬取链接\n",
    "        if begin_flag == True and child.a != None:\n",
    "            download_url = \"https://www.biqukan.com\" + child.a.get('href')\n",
    "            download_req = request.Request(url=download_url, headers=head)\n",
    "            download_response = request.urlopen(download_req)\n",
    "            download_html = download_response.read().decode('gbk','ignore')\n",
    "            download_name = child.string\n",
    "            soup_texts = BeautifulSoup(download_html, 'lxml')\n",
    "            texts = soup_texts.find_all(id='content', class_='showtxt')\n",
    "            soup_text = BeautifulSoup(str(texts), 'lxml')\n",
    "            write_flag = True\n",
    "            file.write(download_name + '\\n\\n')\n",
    "            # 将爬取内容写入文件\n",
    "            for each in soup_text.div.text.replace('\\xa0',''):\n",
    "                if each == 'h':\n",
    "                    write_flag = False\n",
    "                if write_flag == True and each !='':\n",
    "                    file.write(each)\n",
    "                if write_flag == True and each == '\\r':\n",
    "                    file.write('\\n')\n",
    "            file.write('\\n\\n')\n",
    "            # 打印爬取进度\n",
    "            sys.stdout.write('已下载：%.3f%%' % float(index/numbers) + '\\r')\n",
    "            sys.stdout.flush()\n",
    "            index += 1\n",
    "file.close()"
   ]
  },
  {
   "cell_type": "code",
   "execution_count": null,
   "metadata": {},
   "outputs": [],
   "source": []
  }
 ],
 "metadata": {
  "kernelspec": {
   "display_name": "Python 3",
   "language": "python",
   "name": "python3"
  },
  "language_info": {
   "codemirror_mode": {
    "name": "ipython",
    "version": 3
   },
   "file_extension": ".py",
   "mimetype": "text/x-python",
   "name": "python",
   "nbconvert_exporter": "python",
   "pygments_lexer": "ipython3",
   "version": "3.7.1"
  }
 },
 "nbformat": 4,
 "nbformat_minor": 2
}
