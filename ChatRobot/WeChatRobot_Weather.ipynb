{
 "cells": [
  {
   "cell_type": "code",
   "execution_count": 1,
   "metadata": {},
   "outputs": [
    {
     "data": {
      "application/javascript": [
       "IPython.notebook.set_autosave_interval(0)"
      ]
     },
     "metadata": {},
     "output_type": "display_data"
    },
    {
     "name": "stdout",
     "output_type": "stream",
     "text": [
      "Autosave disabled\n"
     ]
    }
   ],
   "source": [
    "%autosave 0"
   ]
  },
  {
   "cell_type": "markdown",
   "metadata": {},
   "source": [
    "# 推送天气预报\n",
    "\n",
    "- 微信推给联系人\n",
    "- 企业微信机器人推送\n",
    "- 每天定时发送\n",
    "\n",
    "### 使用天气api\n",
    "+ https://www.tianqiapi.com/api/?version=v1&city=北京\n",
    "+ https://www.tianqiapi.com/api/?version=v1&cityid=101190101"
   ]
  },
  {
   "cell_type": "code",
   "execution_count": 2,
   "metadata": {},
   "outputs": [
    {
     "name": "stdout",
     "output_type": "stream",
     "text": [
      "█\r"
     ]
    }
   ],
   "source": [
    "# -*- coding: utf-8 -*- \n",
    "from wxpy import *\n",
    "import requests\n",
    "from datetime import datetime\n",
    "import time\n",
    "import schedule\n",
    "from apscheduler.schedulers.blocking import BlockingScheduler\n",
    "import requests"
   ]
  },
  {
   "cell_type": "code",
   "execution_count": 3,
   "metadata": {},
   "outputs": [],
   "source": [
    "bot = Bot(cache_path=True)"
   ]
  },
  {
   "cell_type": "code",
   "execution_count": 6,
   "metadata": {},
   "outputs": [
    {
     "name": "stderr",
     "output_type": "stream",
     "text": [
      "Getting uuid of QR code.\n",
      "Downloading QR code.\n",
      "Please scan the QR code to log in.\n",
      "Please press confirm on your phone.\n",
      "Loading the contact, this may take a little while.\n",
      "Login successfully as 夏沫秋雨\n"
     ]
    }
   ],
   "source": [
    "bot2 = Bot(cache_path=True)"
   ]
  },
  {
   "cell_type": "code",
   "execution_count": 28,
   "metadata": {},
   "outputs": [],
   "source": [
    "def weather_friend():\n",
    "    my_friends = []\n",
    "    my_friends.append(bot2.friends().search('Elsa')[0])\n",
    "    return my_friends\n",
    "\n",
    "def send_weather():\n",
    "    my_friends = weather_friend()\n",
    "    for friend in my_friends:\n",
    "        friend.send(getWeather(friend.city))\n",
    "        print()\n",
    "        bot2.file_helper.send('天气推送完毕')\n",
    "        \n",
    "def getWeather(location):\n",
    "    url = 'https://www.tianqiapi.com/api/?version=v1&city='+location\n",
    "    response = requests.get(url)\n",
    "    result = response.json()\n",
    "    s1 = result['data'][0]\n",
    "    s2 = s1['date'] + ' ' + s1['week'] + ' ' + s1['wea'] + ' ' + s1['tem1'] + '~' + s1['tem2'] + ' ' + '空气质量:' + s1['air_level'] + '\\n'\n",
    "    s3 = s1['index']\n",
    "    s_advice = []\n",
    "    i = 0\n",
    "    for s4 in s3:\n",
    "        if i != 1: \n",
    "            d = s4['title'] + ':' + s4['level'] + '(' + s4['desc'] + ')' + '\\n'\n",
    "            s2 += d\n",
    "        i += 1\n",
    "    return s2"
   ]
  },
  {
   "cell_type": "code",
   "execution_count": 23,
   "metadata": {},
   "outputs": [],
   "source": [
    "def print_getWeather(location):\n",
    "    url = 'https://www.tianqiapi.com/api/?version=v1&city='+location\n",
    "    print(\"url:\")\n",
    "    print(url)\n",
    "    print(\"=======================================================\")\n",
    "    response = requests.get(url)\n",
    "    result = response.json()\n",
    "    print(\"result:\")\n",
    "    print(result)\n",
    "    s1 = result['data'][0]\n",
    "    s2 = s1['date'] + ' ' + s1['week'] + ' ' + s1['wea'] + ' ' + s1['tem1'] + '~' + s1['tem2'] + ' ' + '空气质量:' + s1['air_level'] + '\\n'\n",
    "    s3 = s1['index']\n",
    "    s_advice = []\n",
    "    i = 0\n",
    "    for s4 in s3:\n",
    "        if i != 1: \n",
    "            d = s4['title'] + ':' + s4['level'] + '(' + s4['desc'] + ')' + '\\n'\n",
    "            s2 += d\n",
    "        i += 1\n",
    "    return s2"
   ]
  },
  {
   "cell_type": "code",
   "execution_count": 24,
   "metadata": {},
   "outputs": [
    {
     "name": "stdout",
     "output_type": "stream",
     "text": [
      "url:\n",
      "https://www.tianqiapi.com/api/?version=v1&city=南京\n",
      "=======================================================\n",
      "result:\n",
      "{'cityid': '101190101', 'update_time': '2019-08-19 07:30:00', 'city': '南京', 'cityEn': 'nanjing', 'country': '中国', 'countryEn': 'China', 'data': [{'day': '19日（今天）', 'date': '2019-08-19', 'week': '星期一', 'wea': '多云', 'wea_img': 'yun', 'air': 54, 'humidity': 82, 'air_level': '良', 'air_tips': '空气好，可以外出活动，除极少数对污染物特别敏感的人群以外，对公众没有危害！', 'alarm': {'alarm_type': '', 'alarm_level': '', 'alarm_content': ''}, 'tem1': '32℃', 'tem2': '23℃', 'tem': '26℃', 'win': ['东风', '东风'], 'win_speed': '<3级', 'hours': [{'day': '19日08时', 'wea': '晴', 'tem': '26℃', 'win': '东风', 'win_speed': '<3级'}, {'day': '19日11时', 'wea': '多云', 'tem': '30℃', 'win': '东风', 'win_speed': '<3级'}, {'day': '19日14时', 'wea': '多云', 'tem': '31℃', 'win': '东风', 'win_speed': '<3级'}, {'day': '19日17时', 'wea': '多云', 'tem': '31℃', 'win': '东风', 'win_speed': '<3级'}, {'day': '19日20时', 'wea': '多云', 'tem': '26℃', 'win': '东风', 'win_speed': '<3级'}, {'day': '19日23时', 'wea': '多云', 'tem': '25℃', 'win': '东风', 'win_speed': '<3级'}, {'day': '20日02时', 'wea': '多云', 'tem': '23℃', 'win': '东风', 'win_speed': '<3级'}, {'day': '20日05时', 'wea': '多云', 'tem': '23℃', 'win': '东风', 'win_speed': '<3级'}], 'index': [{'title': '紫外线指数', 'level': '中等', 'desc': '涂擦SPF大于15、PA+防晒护肤品。'}, {'title': '</em><em></em><em></em><em>', 'level': None, 'desc': '天气有点热，运动多补水。'}, {'title': '健臻·血糖指数', 'level': '较易波动', 'desc': '血糖较易波动，注意监测。'}, {'title': '穿衣指数', 'level': '炎热', 'desc': '建议穿短衫、短裤等清凉夏季服装。'}, {'title': '洗车指数', 'level': '较适宜', 'desc': '无雨且风力较小，易保持清洁度。'}, {'title': '空气污染扩散指数', 'level': '中', 'desc': '易感人群应适当减少室外活动。'}]}, {'day': '20日（明天）', 'date': '2019-08-20', 'week': '星期二', 'wea': '多云', 'wea_img': 'yun', 'tem1': '32℃', 'tem2': '24℃', 'tem': '26℃', 'win': ['东风', '东风'], 'win_speed': '<3级', 'hours': [{'day': '20日08时', 'wea': '多云', 'tem': '26℃', 'win': '东风', 'win_speed': '<3级'}, {'day': '20日11时', 'wea': '多云', 'tem': '30℃', 'win': '东风', 'win_speed': '<3级'}, {'day': '20日14时', 'wea': '多云', 'tem': '31℃', 'win': '东风', 'win_speed': '<3级'}, {'day': '20日17时', 'wea': '多云', 'tem': '31℃', 'win': '东风', 'win_speed': '<3级'}, {'day': '20日20时', 'wea': '晴', 'tem': '27℃', 'win': '东风', 'win_speed': '<3级'}, {'day': '20日23时', 'wea': '晴', 'tem': '25℃', 'win': '东风', 'win_speed': '<3级'}, {'day': '21日02时', 'wea': '晴', 'tem': '24℃', 'win': '东风', 'win_speed': '<3级'}, {'day': '21日05时', 'wea': '多云', 'tem': '24℃', 'win': '东风', 'win_speed': '<3级'}], 'index': [{'title': '紫外线指数', 'level': '中等', 'desc': '涂擦SPF大于15、PA+防晒护肤品。'}, {'title': '</em><em></em><em></em><em>', 'level': None, 'desc': '天气有点热，运动多补水。'}, {'title': '健臻·血糖指数', 'level': '较易波动', 'desc': '血糖较易波动，注意监测。'}, {'title': '穿衣指数', 'level': '炎热', 'desc': '建议穿短衫、短裤等清凉夏季服装。'}, {'title': '洗车指数', 'level': '适宜', 'desc': '天气较好，适合擦洗汽车。'}, {'title': '空气污染扩散指数', 'level': '中', 'desc': '易感人群应适当减少室外活动。'}]}, {'day': '21日（后天）', 'date': '2019-08-21', 'week': '星期三', 'wea': '多云', 'wea_img': 'yun', 'tem1': '33℃', 'tem2': '24℃', 'tem': '28℃', 'win': ['东风', '东风'], 'win_speed': '<3级', 'hours': [{'day': '21日08时', 'wea': '晴', 'tem': '28℃', 'win': '东风', 'win_speed': '<3级'}, {'day': '21日11时', 'wea': '多云', 'tem': '31℃', 'win': '东风', 'win_speed': '<3级'}, {'day': '21日14时', 'wea': '多云', 'tem': '33℃', 'win': '东风', 'win_speed': '<3级'}, {'day': '21日17时', 'wea': '多云', 'tem': '32℃', 'win': '东风', 'win_speed': '<3级'}, {'day': '21日20时', 'wea': '多云', 'tem': '27℃', 'win': '东风', 'win_speed': '<3级'}, {'day': '21日23时', 'wea': '晴', 'tem': '26℃', 'win': '东风', 'win_speed': '<3级'}, {'day': '22日02时', 'wea': '晴', 'tem': '26℃', 'win': '东风', 'win_speed': '<3级'}, {'day': '22日05时', 'wea': '多云', 'tem': '24℃', 'win': '东风', 'win_speed': '<3级'}], 'index': [{'title': '紫外线指数', 'level': '中等', 'desc': '涂擦SPF大于15、PA+防晒护肤品。'}, {'title': '</em><em></em><em></em><em>', 'level': None, 'desc': '天气有点热，运动多补水。'}, {'title': '健臻·血糖指数', 'level': '易波动', 'desc': '血糖易波动，注意监测。'}, {'title': '穿衣指数', 'level': '炎热', 'desc': '建议穿短衫、短裤等清凉夏季服装。'}, {'title': '洗车指数', 'level': '适宜', 'desc': '天气较好，适合擦洗汽车。'}, {'title': '空气污染扩散指数', 'level': '中', 'desc': '易感人群应适当减少室外活动。'}]}, {'day': '22日（周四）', 'date': '2019-08-22', 'week': '星期四', 'wea': '多云', 'wea_img': 'yun', 'tem1': '36℃', 'tem2': '26℃', 'tem': '28℃', 'win': ['西北风', '东北风'], 'win_speed': '<3级', 'hours': [{'day': '22日08时', 'wea': '晴', 'tem': '28℃', 'win': '东风', 'win_speed': '<3级'}, {'day': '22日14时', 'wea': '多云', 'tem': '36℃', 'win': '西北风', 'win_speed': '<3级'}, {'day': '22日20时', 'wea': '多云', 'tem': '29℃', 'win': '西北风', 'win_speed': '<3级'}, {'day': '23日02时', 'wea': '多云', 'tem': '27℃', 'win': '东北风', 'win_speed': '<3级'}], 'index': [{'title': '紫外线指数', 'level': '中等', 'desc': '涂擦SPF大于15、PA+防晒护肤品。'}, {'title': '</em><em></em><em></em><em>', 'level': None, 'desc': '天气有点热，运动多补水。'}, {'title': '健臻·血糖指数', 'level': '易波动', 'desc': '气温高，血糖易波动，注意防暑降温。'}, {'title': '穿衣指数', 'level': '炎热', 'desc': '建议穿短衫、短裤等清凉夏季服装。'}, {'title': '洗车指数', 'level': '适宜', 'desc': '天气较好，适合擦洗汽车。'}, {'title': '空气污染扩散指数', 'level': '中', 'desc': '易感人群应适当减少室外活动。'}]}, {'day': '23日（周五）', 'date': '2019-08-23', 'week': '星期五', 'wea': '多云', 'wea_img': 'yun', 'tem1': '32℃', 'tem2': '25℃', 'tem': '30℃', 'win': ['北风', '东北风'], 'win_speed': '<3级', 'hours': [{'day': '23日08时', 'wea': '多云', 'tem': '30℃', 'win': '东北风', 'win_speed': '<3级'}, {'day': '23日14时', 'wea': '多云', 'tem': '32℃', 'win': '北风', 'win_speed': '<3级'}, {'day': '23日20时', 'wea': '晴', 'tem': '28℃', 'win': '北风', 'win_speed': '<3级'}, {'day': '24日02时', 'wea': '晴', 'tem': '26℃', 'win': '东北风', 'win_speed': '<3级'}], 'index': [{'title': '紫外线指数', 'level': '中等', 'desc': '涂擦SPF大于15、PA+防晒护肤品。'}, {'title': '</em><em></em><em></em><em>', 'level': None, 'desc': '天气有点热，运动多补水。'}, {'title': '健臻·血糖指数', 'level': '易波动', 'desc': '血糖易波动，注意监测。'}, {'title': '穿衣指数', 'level': '炎热', 'desc': '建议穿短衫、短裤等清凉夏季服装。'}, {'title': '洗车指数', 'level': '适宜', 'desc': '天气较好，适合擦洗汽车。'}, {'title': '空气污染扩散指数', 'level': '中', 'desc': '易感人群应适当减少室外活动。'}]}, {'day': '24日（周六）', 'date': '2019-08-24', 'week': '星期六', 'wea': '多云', 'wea_img': 'yun', 'tem1': '30℃', 'tem2': '23℃', 'tem': '28℃', 'win': ['东北风', '东北风'], 'win_speed': '<3级', 'hours': [{'day': '24日08时', 'wea': '多云', 'tem': '28℃', 'win': '东北风', 'win_speed': '<3级'}, {'day': '24日14时', 'wea': '多云', 'tem': '30℃', 'win': '东北风', 'win_speed': '<3级'}, {'day': '24日20时', 'wea': '晴', 'tem': '26℃', 'win': '东北风', 'win_speed': '<3级'}, {'day': '25日02时', 'wea': '多云', 'tem': '24℃', 'win': '东北风', 'win_speed': '<3级'}], 'index': [{'title': '紫外线指数', 'level': '中等', 'desc': '涂擦SPF大于15、PA+防晒护肤品。'}, {'title': '</em><em>', 'level': None, 'desc': '夏天悄然到，肉已无处藏。天气较舒适，快去运动吧。'}, {'title': '健臻·血糖指数', 'level': '较易波动', 'desc': '血糖较易波动，注意监测。'}, {'title': '穿衣指数', 'level': '热', 'desc': '适合穿T恤、短薄外套等夏季服装。'}, {'title': '洗车指数', 'level': '适宜', 'desc': '天气较好，适合擦洗汽车。'}, {'title': '空气污染扩散指数', 'level': '中', 'desc': '易感人群应适当减少室外活动。'}]}, {'day': '25日（周日）', 'date': '2019-08-25', 'week': '星期日', 'wea': '多云', 'wea_img': 'yun', 'tem1': '32℃', 'tem2': '24℃', 'tem': '26℃', 'win': ['东北风', '东北风'], 'win_speed': '<3级', 'hours': [{'day': '25日08时', 'wea': '多云', 'tem': '26℃', 'win': '东北风', 'win_speed': '<3级'}, {'day': '25日14时', 'wea': '多云', 'tem': '31℃', 'win': '东北风', 'win_speed': '<3级'}, {'day': '25日20时', 'wea': '多云', 'tem': '27℃', 'win': '东北风', 'win_speed': '<3级'}, {'day': '26日02时', 'wea': '多云', 'tem': '25℃', 'win': '东北风', 'win_speed': '<3级'}], 'index': [{'title': '紫外线指数', 'level': '中等', 'desc': '涂擦SPF大于15、PA+防晒护肤品。'}, {'title': '</em><em></em><em></em><em>', 'level': None, 'desc': '天气有点热，运动多补水。'}, {'title': '健臻·血糖指数', 'level': '较易波动', 'desc': '血糖较易波动，注意监测。'}, {'title': '穿衣指数', 'level': '炎热', 'desc': '建议穿短衫、短裤等清凉夏季服装。'}, {'title': '洗车指数', 'level': '较适宜', 'desc': '无雨且风力较小，易保持清洁度。'}, {'title': '空气污染扩散指数', 'level': '中', 'desc': '易感人群应适当减少室外活动。'}]}]}\n"
     ]
    },
    {
     "data": {
      "text/plain": [
       "'2019-08-19 星期一 多云 32℃~23℃ 空气质量:良\\n紫外线指数:中等(涂擦SPF大于15、PA+防晒护肤品。)\\n健臻·血糖指数:较易波动(血糖较易波动，注意监测。)\\n穿衣指数:炎热(建议穿短衫、短裤等清凉夏季服装。)\\n洗车指数:较适宜(无雨且风力较小，易保持清洁度。)\\n空气污染扩散指数:中(易感人群应适当减少室外活动。)\\n'"
      ]
     },
     "execution_count": 24,
     "metadata": {},
     "output_type": "execute_result"
    }
   ],
   "source": [
    "print_getWeather(\"南京\")"
   ]
  },
  {
   "cell_type": "code",
   "execution_count": 46,
   "metadata": {},
   "outputs": [],
   "source": [
    "def test_robot(str_weather):\n",
    "    headers = {\"Content-Type\":\"text/plain\"}\n",
    "    s = str_weather\n",
    "#     s = \"hello\"\n",
    "    \n",
    "    data = {\n",
    "        \"msgtype\":\"text\",\n",
    "        \"text\":{\n",
    "            \"content\":s,\n",
    "            \"mentioned_list\":[\"qufang\",\"duanxuezhen\",\"@all\"]\n",
    "        }\n",
    "    }\n",
    "    r = requests.post(\n",
    "        url='https://qyapi.weixin.qq.com/cgi-bin/webhook/send?key=18edab2b-6276-402e-9b00-ed5c38d204f3',\n",
    "        headers=headers,\n",
    "        json=data)\n",
    "    print(r.text)"
   ]
  },
  {
   "cell_type": "code",
   "execution_count": 47,
   "metadata": {},
   "outputs": [
    {
     "name": "stdout",
     "output_type": "stream",
     "text": [
      "{\"errcode\":0,\"errmsg\":\"ok\"}\n"
     ]
    },
    {
     "name": "stderr",
     "output_type": "stream",
     "text": [
      "LOG OUT!\n"
     ]
    }
   ],
   "source": [
    "test_robot(getWeather(\"北京\"))"
   ]
  },
  {
   "cell_type": "markdown",
   "metadata": {},
   "source": [
    "## 每天定时发送"
   ]
  },
  {
   "cell_type": "code",
   "execution_count": null,
   "metadata": {},
   "outputs": [],
   "source": [
    "print('star')\n",
    "sched = BlockingScheduler()\n",
    "sched.add_job(send_weather,\n",
    "             'cron',\n",
    "             month='1-12',\n",
    "             day='1-31',\n",
    "             hour=11,\n",
    "             minute=5)\n",
    "sched.start()"
   ]
  }
 ],
 "metadata": {
  "kernelspec": {
   "display_name": "Python 3",
   "language": "python",
   "name": "python3"
  },
  "language_info": {
   "codemirror_mode": {
    "name": "ipython",
    "version": 3
   },
   "file_extension": ".py",
   "mimetype": "text/x-python",
   "name": "python",
   "nbconvert_exporter": "python",
   "pygments_lexer": "ipython3",
   "version": "3.7.1"
  }
 },
 "nbformat": 4,
 "nbformat_minor": 2
}
