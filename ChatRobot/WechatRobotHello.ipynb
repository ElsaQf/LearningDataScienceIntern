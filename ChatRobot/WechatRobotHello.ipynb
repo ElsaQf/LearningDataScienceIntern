{
 "cells": [
  {
   "cell_type": "code",
   "execution_count": 1,
   "metadata": {},
   "outputs": [
    {
     "data": {
      "application/javascript": [
       "IPython.notebook.set_autosave_interval(0)"
      ]
     },
     "metadata": {},
     "output_type": "display_data"
    },
    {
     "name": "stdout",
     "output_type": "stream",
     "text": [
      "Autosave disabled\n"
     ]
    }
   ],
   "source": [
    "%autosave 0"
   ]
  },
  {
   "cell_type": "code",
   "execution_count": 2,
   "metadata": {},
   "outputs": [
    {
     "name": "stdout",
     "output_type": "stream",
     "text": [
      "█\r"
     ]
    }
   ],
   "source": [
    "import configparser\n",
    "from wxpy import *\n",
    "import platform\n",
    "import time\n",
    "from random import choice"
   ]
  },
  {
   "cell_type": "code",
   "execution_count": 69,
   "metadata": {},
   "outputs": [
    {
     "data": {
      "text/plain": [
       "['./config.ini']"
      ]
     },
     "execution_count": 69,
     "metadata": {},
     "output_type": "execute_result"
    }
   ],
   "source": [
    "cf = configparser.ConfigParser()\n",
    "cf.read(\"./config.ini\", encoding='utf-8')"
   ]
  },
  {
   "cell_type": "code",
   "execution_count": 70,
   "metadata": {},
   "outputs": [
    {
     "name": "stdout",
     "output_type": "stream",
     "text": [
      "['人生最美丽的心境是洒脱，面对自己所遭遇的一切都用一颗从容的心态去包容，这才是最佳人生的态度。美好如阳光一般，心中都是阴霾，就走不进去。不如心存美好，一切都是春暖花开的灿烂。早安！\\n', '\\n', '世界上最宝贵的除了良好的心里素质，还有一个东西，就是勤奋。最宝贵的勤奋，不光是身体上的勤奋，而是精神上的勤奋。勤奋靠的是毅力，是永恒。早安！\\n', '\\n', '用新的希望开启每一天，没有太晚的开始，不如就从今天行动。总有一天，那个一点一点可见的未来，会在你心里，也在你的脚下慢慢清透。生活，从不亏待每一个努力向上的人。早安！\\n', '\\n', '别人再好，也是别人。自己再不堪，也是自己，独一无二的自己。只要努力去做最好的自己，一生足矣。为自己的人生负责，为自己的梦想买单。早安！\\n', '\\n', '你要去变得更好，不要总是回头看那些曾经伤害过你的人，路还很长，温暖的事情以后一定会发生。早安！\\n', '\\n', '任何值得到达的地方都没有捷径。每一个轻松的笑容背后，都有一个咬紧牙关的灵魂。——致敬所有努力拼搏的人！早安！\\n', '\\n', '没有一劳永逸的开始；也没有无法拯救的结束。人生中，你需要把握的是：该开始的，要义无反顾地开始；该结束的，就干净利落地结束。早安！\\n', '\\n', '生活是开水，不论冷热，只要适合的温度，就是最好；生活是口味，不论酸甜苦辣，只要适合的口感，就是最好；生活是旋律，不论快慢，只要适合的听觉，就是最好；生活是季节，不论春夏秋冬，只要适合的心情，就是最好的；生活，是实实在在的一种生存，生活，只要适合自己，就是幸福。早安！\\n', '\\n', '成功根本没有秘诀，如果有的话，就只有两个：第一个是坚持到底，永不放弃；第二个就是当你想放弃的时候，请回过头来再照着第一个秘诀去做。你要想成功，就只有坚持。早安！\\n', '\\n', '混一天和努力一天，一天看不出任何差别，三天看不到任何变化，七天也看不到任何距离……但是一个月后会看到话题不同，三个月后会看到气场不同，半年后会看到距离不同，一年后会看到人生道路截然不同。早安！\\n', '\\n', '每个人的心都是心，执着的人很多，善变的人很少，所有的担当，都是为了明天比今天更好。既然选择了追求，就不要哭泣。坚持一下，扛过今天，幸福就更近一步。早安！\\n', '\\n', '一个人想要优秀，你必须接受挑战！一个人想要尽快优秀，就要寻找挑战！有野心才能得到自己想要的东西！早安，每天进步一点点！\\n', '\\n', '每天保养自己，穿上喜欢的衣裳，不羡慕谁，不依赖谁，静悄悄的努力，活成自己想要的模样，早安！\\n', '\\n', '一切努力终将会给你答案的，只要你肯等一等，生活的美好，总在你不经意的时候，盛装莅临。早安！']\n",
      "['其实天很蓝，阴云终要散；其实海不宽，此岸连彼岸；其实泪也甜，当你心如愿；其实生活很美好，只要你乐观；其实我要你，开心每一天！中午好！\\n', '\\n', '奋斗是浆，父母的叮咛在耳旁；奋斗是浆，老师的教诲记心房；奋斗是浆，祖国的希望在前方。奋斗是浆，乘风破浪，向着目标，起航！\\n', '\\n', '中午到，只要能吃饭，钱就不会断；不怕赚钱少，就怕走的早；官再大钱再多，阎王照样土里拖；天气多变要注意身体，出门在外一定要注意健康。\\n', '\\n', '倒春寒袭来天转凉，暖暖关怀来送上；中午午睡莫太长，常常锻炼心舒畅；腹部按揉护胃肠，洗手也能活血脉；温水淋浴慢慢洗，身健体康精神旺。温度降，天更凉，愿你心情永舒畅！']\n",
      "['别客气 当做自己家，谁客气就是看不起我']\n",
      "['月上柳梢鸟儿静悄，影随身动心清神静，虫鸣欢闹夜露皎皎，炊烟袅袅风景最妙，此情此景祝福要到，愿你开心无烦无恼，好运随身幸福缠绕，晚安一声愿你笑笑。晚安。\\n', '\\n', '我们现在比赛，谁先梦见到周公！如果我赢了，你让我亲一下！如果你赢了，我让你亲一下！加油~~~快睡吧！明天早上短信公布比赛结果，明晚见面“颁奖”。\\n', '\\n', '每天我都有一个梦想，让你收到我的祝福，心里会开心快乐，一天的烦恼可以消除，睡觉熟得像猪，甜蜜如乳，一早醒来，得见美丽的日出。晚安，让梦开始进入。\\n', '\\n', '下班之后，卸下伪装；沐浴夕阳，洗去忧伤；牵手最爱，温馨心房；陪伴亲情，尽享天伦；共渡晚餐，轻松舒畅；放下杂念，安静入眠；愿你酣睡，猪般安然；朋友切记，祝你晚安！\\n', '\\n', '夜太长，把心放，心平气和好上床，夜太伤，把愁忘，一身轻松来日长，夜太凉，把伤藏，不悲不喜梦飞扬，朋友，祝你好梦，晚安！']\n",
      "True\n",
      "['(•‾̑⌣‾̑•)✧˖°', '(๑´ `๑)', '(๑¯ิε ¯ิ๑)', '(๑•́ ₃ •̀๑)', '( ∙̆ .̯ ∙̆ )', '(๑˘ ˘๑)', '(●′ω`●)', '(●･̆⍛･̆●)', 'ಥ_ಥ', '_(:qゝ∠)', '(´；ω；`)', \"( `)3')\", 'Σ((( つ•̀ω•́)つ', '╰(*´︶`*)╯', '( ´´ิ∀´ิ` )', '(´∩｀。)', '( ื▿ ื)', '(｡ŏ_ŏ)', '( •ิ _ •ิ )', 'ヽ(*΄◞ิ౪◟ิ‵ *)', '( ˘ ³˘)', '(; ´_ゝ`)', '(*ˉ﹃ˉ)', \"(◍'౪`◍)ﾉﾞ\", '(｡◝‿◜｡)', '(ಠ .̫.̫ ಠ)', '(´◞⊖◟`)', '(。≖ˇェˇ≖｡)', '(◕ܫ◕)', '(｀◕‸◕´+)', '(▼ _ ▼)', '( ◉ืൠ◉ื)', 'ㄟ(◑‿◐ )ㄏ', \"(●'◡'●)ﾉ♥\", '(｡◕ˇ∀ˇ◕）', '( ◔   ◔ )', '( ´◔ ‸◔`)', '(☍﹏⁰)', '(♥◠‿◠)', 'ლ(╹◡╹ლ )', '(๑꒪◞౪◟꒪๑)']\n",
      "亲爱的，生日快乐，我已经给你准备好了礼物哦，明天你就能看到啦！(*@ο@*) 哇～\n"
     ]
    }
   ],
   "source": [
    "my_lady_wechat_name = cf.get(\"configuration\",\"my_lady_wechat_name\")\n",
    "\n",
    "say_good_morning = cf.get(\"configuration\",\"say_good_morning\")\n",
    "say_good_lunch = cf.get(\"configuration\",\"say_good_lunch\")\n",
    "say_good_dinner = cf.get(\"configuration\",\"say_good_dinner\")\n",
    "say_good_dream = cf.get(\"configuration\",\"say_good_dream\")\n",
    "\n",
    "birthday_month = cf.get(\"configuration\",\"birthday_month\")\n",
    "birthday_day = cf.get(\"configuration\",\"birthday_day\")\n",
    "\n",
    "str_list_good_morning = ''\n",
    "with open(\"./remind_sentence/sentence_good_morning.txt\",\"r\",encoding='gbk') as f:\n",
    "    str_list_good_morning = f.readlines()\n",
    "print(str_list_good_morning)\n",
    "\n",
    "str_list_good_lunch = ''\n",
    "with open(\"./remind_sentence/sentence_good_lunch.txt\",\"r\", encoding='gbk') as f:\n",
    "    str_list_good_lunch = f.readlines()\n",
    "print(str_list_good_lunch)\n",
    "\n",
    "str_list_good_dinner = ''\n",
    "with open(\"./remind_sentence/sentence_good_dinner.txt\",\"r\",encoding='gbk') as f:\n",
    "    str_list_good_dinner = f.readlines()\n",
    "print(str_list_good_dinner)\n",
    "\n",
    "str_list_good_dream = ''\n",
    "with open(\"./remind_sentence/sentence_good_dream.txt\",\"r\",encoding='gbk') as f:\n",
    "    str_list_good_dream = f.readlines()\n",
    "print(str_list_good_dream)\n",
    "\n",
    "if cf.get(\"configuration\", \"flag_learn_english\") == '1':\n",
    "    flag_learn_english = True\n",
    "else:\n",
    "    flag_learn_english = False\n",
    "print(flag_learn_english)\n",
    "\n",
    "str_emoj = \"(•‾̑⌣‾̑•)✧˖°----(๑´ `๑)----(๑¯ิε ¯ิ๑)----(๑•́ ₃ •̀๑)----( ∙̆ .̯ ∙̆ )----(๑˘ ˘๑)----(●′ω`●)----(●･̆⍛･̆●)----ಥ_ಥ----_(:qゝ∠)----(´；ω；`)----( `)3')----Σ((( つ•̀ω•́)つ----╰(*´︶`*)╯----( ´´ิ∀´ิ` )----(´∩｀。)----( ื▿ ื)----(｡ŏ_ŏ)----( •ิ _ •ิ )----ヽ(*΄◞ิ౪◟ิ‵ *)----( ˘ ³˘)----(; ´_ゝ`)----(*ˉ﹃ˉ)----(◍'౪`◍)ﾉﾞ----(｡◝‿◜｡)----(ಠ .̫.̫ ಠ)----(´◞⊖◟`)----(。≖ˇェˇ≖｡)----(◕ܫ◕)----(｀◕‸◕´+)----(▼ _ ▼)----( ◉ืൠ◉ื)----ㄟ(◑‿◐ )ㄏ----(●'◡'●)ﾉ♥----(｡◕ˇ∀ˇ◕）----( ◔   ◔ )----( ´◔ ‸◔`)----(☍﹏⁰)----(♥◠‿◠)----ლ(╹◡╹ლ )----(๑꒪◞౪◟꒪๑)\"\n",
    "str_list_emoj = str_emoj.split('----')\n",
    "if cf.get(\"configuration\",\"flag_wx_emoj\") == '1':\n",
    "    flag_wx_emoj = True\n",
    "else:\n",
    "    flag_wx_emoj = False\n",
    "print(str_list_emoj)\n",
    "\n",
    "str_birthday = cf.get(\"configuration\",\"str_birthday\")\n",
    "print(str_birthday)"
   ]
  },
  {
   "cell_type": "code",
   "execution_count": 56,
   "metadata": {},
   "outputs": [],
   "source": [
    "def get_message():\n",
    "    r = requests.get(\"http://open.iciba.com/dsapi/\")\n",
    "    note = r.json()['note']\n",
    "    content = r.json()['content']\n",
    "    return note, content"
   ]
  },
  {
   "cell_type": "code",
   "execution_count": 45,
   "metadata": {},
   "outputs": [
    {
     "name": "stderr",
     "output_type": "stream",
     "text": [
      "Getting uuid of QR code.\n",
      "Downloading QR code.\n",
      "Please scan the QR code to log in.\n",
      "Please press confirm on your phone.\n",
      "Loading the contact, this may take a little while.\n",
      "Login successfully as 夏沫秋雨\n"
     ]
    }
   ],
   "source": [
    "if 'Windows' in platform.system():\n",
    "    bot = Bot()\n",
    "elif 'Darwin' in platform.system():\n",
    "    bot = Bot()\n",
    "elif 'Linux' in platform.system():\n",
    "    bot = Bot(console_qr=2, cache_path=True)\n",
    "else:\n",
    "    print(\"无法识别你的操作系统类型，请自己设置\")"
   ]
  },
  {
   "cell_type": "code",
   "execution_count": 71,
   "metadata": {},
   "outputs": [],
   "source": [
    "my_girl_friend = bot.friends().search(my_lady_wechat_name)[0]\n",
    "@bot.register(chats=my_girl_friend, except_self=False)\n",
    "def print_others(msg):\n",
    "    print(msg.text)\n",
    "    \n",
    "    postData = {'data': msg.text}\n",
    "    response = post('https://bosonnlp.com/analysis/sentiment?analysisType=',data=postData)\n",
    "    data = response.text\n",
    "    \n",
    "    now_mod_rank = (data.split(',')[0]).replace('[[','')\n",
    "    print(\"来自朋友的消息：%s\\n当前情感得分:%s\\n越接近1表示心情越好，越接近0表示心情越差，情感结果仅供参考，请勿完全相信！\\n\\n\" % (msg.text, now_mod_rank))\n",
    "    \n",
    "    mood_message = u\"来自女友的消息:\" + msg.text + \"\\n当前情感得分:\" + now_mod_rank + \"\\n越接近1表示心情越好，越接近0表示心情越差，情感结果仅供参考，请勿完全相信！\\n\\n\"\n",
    "    bot.file_helper.send(mood_message)\n",
    "def send_message(your_message):\n",
    "    try:\n",
    "        # 对方的微信名称\n",
    "        my_friend = bot.friends().search(my_lady_wechat_name)[0]\n",
    "\n",
    "        # 发送消息给对方\n",
    "        my_friend.send(your_message)\n",
    "    except:\n",
    "\n",
    "        # 出问题时，发送信息到文件传输助手\n",
    "        bot.file_helper.send(u\"守护女友出问题了，赶紧去看看咋回事~\")"
   ]
  },
  {
   "cell_type": "code",
   "execution_count": 60,
   "metadata": {},
   "outputs": [
    {
     "name": "stdout",
     "output_type": "stream",
     "text": [
      "守护中，时间：Thu Jul 25 18:05:20 2019\n",
      "守护中，时间：Thu Jul 25 18:05:30 2019\n",
      "守护中，时间：Thu Jul 25 18:05:40 2019\n"
     ]
    }
   ],
   "source": [
    "i = 0\n",
    "\n",
    "while(i < 3):\n",
    "    print(\"守护中，时间：%s\" % time.ctime())\n",
    "    \n",
    "    now_time = time.ctime()[-13:-8]\n",
    "    if now_time == say_good_morning:\n",
    "        message = choice(str_list_good_morning)\n",
    "        if flag_wx_emoj:\n",
    "            message += choice(str_list_emoj)\n",
    "        send_message(message)\n",
    "        print(\"提醒女友早上起床：%s\" % time.ctime())\n",
    "    \n",
    "    i += 1\n",
    "    \n",
    "    time.sleep(10)"
   ]
  },
  {
   "cell_type": "code",
   "execution_count": 72,
   "metadata": {},
   "outputs": [
    {
     "name": "stdout",
     "output_type": "stream",
     "text": [
      "守护中，时间：Thu Jul 25 18:21:18 2019\n",
      "yes\n",
      "提醒女友早上起床：Thu Jul 25 18:21:19 2019\n",
      "守护中，时间：Thu Jul 25 18:21:24 2019\n",
      "yes\n",
      "提醒女友早上起床：Thu Jul 25 18:21:24 2019\n",
      "守护中，时间：Thu Jul 25 18:21:29 2019\n",
      "yes\n",
      "提醒女友早上起床：Thu Jul 25 18:21:29 2019\n",
      "守护中，时间：Thu Jul 25 18:21:34 2019\n",
      "yes\n",
      "提醒女友早上起床：Thu Jul 25 18:21:35 2019\n",
      "守护中，时间：Thu Jul 25 18:21:40 2019\n",
      "yes\n",
      "提醒女友早上起床：Thu Jul 25 18:21:40 2019\n",
      "守护中，时间：Thu Jul 25 18:21:45 2019\n",
      "yes\n",
      "提醒女友早上起床：Thu Jul 25 18:21:45 2019\n",
      "守护中，时间：Thu Jul 25 18:21:50 2019\n",
      "yes\n",
      "提醒女友早上起床：Thu Jul 25 18:21:51 2019\n",
      "守护中，时间：Thu Jul 25 18:21:56 2019\n",
      "yes\n",
      "提醒女友早上起床：Thu Jul 25 18:21:56 2019\n",
      "守护中，时间：Thu Jul 25 18:22:01 2019\n",
      "守护中，时间：Thu Jul 25 18:22:06 2019\n",
      "鸡汤玉\n",
      "昨天看了本书 北京女子图鉴\n",
      "发现女生不能太有上进心\n",
      "可怕\n",
      "神经病\n",
      "为啥\n"
     ]
    },
    {
     "name": "stderr",
     "output_type": "stream",
     "text": [
      "LOG OUT!\n"
     ]
    }
   ],
   "source": [
    "i = 0\n",
    "\n",
    "while(i < 10):\n",
    "    print(\"守护中，时间：%s\" % time.ctime())\n",
    "    \n",
    "    now = time.strptime(time.ctime())\n",
    "    now_time = str(now.tm_hour) + \":\" + str(now.tm_min)\n",
    "    now_date_mon = str(now.tm_mon)\n",
    "    now_date_day = str(now.tm_mday)\n",
    "    \n",
    "    if now_time == say_good_morning:\n",
    "        print(\"yes\")\n",
    "        message = choice(str_list_good_morning)\n",
    "        if flag_wx_emoj:\n",
    "            message += choice(str_list_emoj)\n",
    "        send_message(message)\n",
    "        print(\"提醒女友早上起床：%s\" % time.ctime())\n",
    "    if now_time == say_good_lunch:\n",
    "        message = choice(str_list_good_lunch)\n",
    "        if flag_wx_emoj:\n",
    "            message += choice(str_list_emoj)\n",
    "        send_message(message)\n",
    "        print(\"提醒女友吃午饭：%s\" % time.ctime())\n",
    "    if now_time == say_good_dinner:\n",
    "        message = choice(str_list_good_dinner)\n",
    "        if flag_wx_emoj:\n",
    "            message += choice(str_list_emoj)\n",
    "        send_message(message)\n",
    "        print(\"提醒女友吃晚饭：%s\" % time.ctime())\n",
    "    \n",
    "    \n",
    "    i += 1\n",
    "    \n",
    "    time.sleep(5)"
   ]
  },
  {
   "cell_type": "code",
   "execution_count": 67,
   "metadata": {},
   "outputs": [],
   "source": [
    "if now_date_mon == birthday_month and now_date_day == birthday_day:\n",
    "    send_message(str_birthday)"
   ]
  }
 ],
 "metadata": {
  "kernelspec": {
   "display_name": "Python 3",
   "language": "python",
   "name": "python3"
  },
  "language_info": {
   "codemirror_mode": {
    "name": "ipython",
    "version": 3
   },
   "file_extension": ".py",
   "mimetype": "text/x-python",
   "name": "python",
   "nbconvert_exporter": "python",
   "pygments_lexer": "ipython3",
   "version": "3.7.1"
  }
 },
 "nbformat": 4,
 "nbformat_minor": 2
}
