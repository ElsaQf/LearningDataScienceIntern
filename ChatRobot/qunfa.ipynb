{
 "cells": [
  {
   "cell_type": "code",
   "execution_count": 9,
   "metadata": {},
   "outputs": [
    {
     "data": {
      "application/javascript": [
       "IPython.notebook.set_autosave_interval(0)"
      ]
     },
     "metadata": {},
     "output_type": "display_data"
    },
    {
     "name": "stdout",
     "output_type": "stream",
     "text": [
      "Autosave disabled\n"
     ]
    }
   ],
   "source": [
    "%autosave 0"
   ]
  },
  {
   "cell_type": "markdown",
   "metadata": {},
   "source": [
    "## 实现企业微信群发功能（接收人列表，可见，非群机器人发送）\n",
    "- init 初始化企业ID，应用secret,应用agentID,接收人列表（必须应用可见），部门ID\n",
    "- get_access_token\n",
    "- send_data"
   ]
  },
  {
   "cell_type": "code",
   "execution_count": 18,
   "metadata": {},
   "outputs": [],
   "source": [
    "import requests\n",
    "import time\n",
    "import json, os"
   ]
  },
  {
   "cell_type": "markdown",
   "metadata": {},
   "source": [
    "        修改企业微信所属企业ID,应用secret,应用agentID,接收人列表（必须应用可见），部门ID\n",
    "        人人信数据部：\n",
    "```python\n",
    "def __init__(self):\n",
    "    self.CORPID = 'ww8cc32b1665e5d622'\n",
    "    self.CORPSECRET = 'udJKbzBgdEomoQZXBk0jQMOxPfqvg7iafRCcD1FRSJA'\n",
    "    self.AGENTID = '1000014'\n",
    "    self.TOUSER = \"\"\"qufang|lvqiuyu\"\"\"\n",
    "    self.TOPARTY = \"33\"\n",
    "```"
   ]
  },
  {
   "cell_type": "code",
   "execution_count": 19,
   "metadata": {},
   "outputs": [],
   "source": [
    "class WeChat_SMS:\n",
    "    def __init__(self):\n",
    "#         这是我的企业ID，应用secret，应用agentID\n",
    "        self.CORPID = 'ww3640b347cba08e3e'\n",
    "        self.CORPSECRET = '0NRKMHmqbqzs_DFI4xuaZWY7qdaKm0tHVnCcdfX43_M'\n",
    "        self.AGENTID = '1000002'\n",
    "        self.TOUSER = \"\"\"qufang|XiaMoQiuYu\"\"\" # 用|连接多个接收人，touser为账号\n",
    "#         self.TOUSER = \"@all\"    # 发给所有人（可见的人）\n",
    "#         self.TOPARTY = \"33\"     # 部门id\n",
    "    \n",
    "    def _get_access_token(self):\n",
    "        url = 'https://qyapi.weixin.qq.com/cgi-bin/gettoken'\n",
    "        values = {'corpid':self.CORPID,\n",
    "                 'corpsecret':self.CORPSECRET,}\n",
    "        req = requests.post(url, params=values)\n",
    "        data = json.loads(req.text)\n",
    "        print(data)\n",
    "        return data[\"access_token\"]\n",
    "    \n",
    "    def get_access_token(self):\n",
    "        try:\n",
    "            with open('access_token.conf','r') as f:\n",
    "                t, access_token = f.read().split()\n",
    "        except:\n",
    "            with open('access_token.conf','w') as f:\n",
    "                access_token = self._get_access_token()\n",
    "                cur_time = time.time()\n",
    "                f.write('\\t'.join([str(cur_time),access_token]))\n",
    "                return access_token\n",
    "        else:\n",
    "            cur_time = time.time()\n",
    "            if 0 < cur_time - float(t) < 7200:\n",
    "                return access_token\n",
    "            else:\n",
    "                with open('access_token.conf','w') as f:\n",
    "                    access_token = self._get_access_token()\n",
    "                    f.write('\\t'.join([str(cur_time),access_time]))\n",
    "                    return access_token\n",
    "                \n",
    "    def send_data(self, msg):\n",
    "        send_url = 'https://qyapi.weixin.qq.com/cgi-bin/message/send?access_token=' + self.get_access_token()\n",
    "        send_values = {\n",
    "            \"touser\":self.TOUSER,\n",
    "#             \"toparty\":self.TOPARTY,\n",
    "            \"msgtype\":\"text\",\n",
    "            \"agentid\":self.AGENTID,\n",
    "            \"text\":{\n",
    "                \"content\":msg\n",
    "            },\n",
    "            \"safe\":\"0\"\n",
    "        }\n",
    "        send_msges = (bytes(json.dumps(send_values),'utf-8'))\n",
    "        print(\"send_msges:\")\n",
    "        print(send_msges)\n",
    "        respone = requests.post(send_url, send_msges)\n",
    "        respone = respone.json()\n",
    "        print(respone[\"errmsg\"])\n",
    "        return respone[\"errmsg\"]"
   ]
  },
  {
   "cell_type": "code",
   "execution_count": 20,
   "metadata": {},
   "outputs": [
    {
     "name": "stdout",
     "output_type": "stream",
     "text": [
      "{'errcode': 0, 'errmsg': 'ok', 'access_token': 'IomlfqZkhnt4jorz8rHHx2XOdO5KBX-0RaUeeV2axTOATRyhdDBKXojcxdzqsKLTETiC8J2LIqaqoyspAJOczYMBRCNDM3CtBoooqKKXzIlOgBqSg0bhBhFsKmkSv6l11r4rYr-XBHvbQ00Nt0it1Rg21jYcMrxPp1rxqTRAsHSk3XmExhLJHkEi9H4F3x5rFZWEJOW7LgYTcD48-iEAiw', 'expires_in': 7200}\n",
      "send_msges:\n",
      "b'{\"touser\": \"qufang|XiaMoQiuYu\", \"msgtype\": \"text\", \"agentid\": \"1000002\", \"text\": {\"content\": \"\\\\u53ea\\\\u6709\\\\u4f60\\\\u770b\\\\u5f97\\\\u5230\"}, \"safe\": \"0\"}'\n",
      "ok\n"
     ]
    }
   ],
   "source": [
    "if __name__ == '__main__':\n",
    "    wx = WeChat_SMS()\n",
    "    wx.send_data(msg=\"只有你看得到\")"
   ]
  },
  {
   "cell_type": "code",
   "execution_count": null,
   "metadata": {},
   "outputs": [],
   "source": []
  }
 ],
 "metadata": {
  "kernelspec": {
   "display_name": "Python 3",
   "language": "python",
   "name": "python3"
  },
  "language_info": {
   "codemirror_mode": {
    "name": "ipython",
    "version": 3
   },
   "file_extension": ".py",
   "mimetype": "text/x-python",
   "name": "python",
   "nbconvert_exporter": "python",
   "pygments_lexer": "ipython3",
   "version": "3.7.1"
  }
 },
 "nbformat": 4,
 "nbformat_minor": 2
}
